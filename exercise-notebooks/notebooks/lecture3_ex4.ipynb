{
 "cells": [
  {
   "cell_type": "markdown",
   "source": [
    "## Exercise 4 - **Optimal iteration parameters for pseudo-transient method**"
   ],
   "metadata": {}
  },
  {
   "cell_type": "markdown",
   "source": [
    "The goal of this exercise is to confirm numerically the optimality of the pseudo-transient parameters for a 1D elliptic solver (i.e., solving the steady-state diffusion).\n",
    "\n",
    "You will make the systematic study of the convergence rate of the pseudo-transient method solving a steady-state diffusion process, varying the numerical parameter `re` on a regular grid of values.\n",
    "\n",
    "### Getting started\n",
    "\n",
    "1. 👉 Start from the script we did in class, or download the `l3_steady_diffusion_1D.jl` script [here](https://github.com/eth-vaw-glaciology/course-101-0250-00/blob/main/scripts/) if needed (available after the course).\n",
    "2. Create a new code `steady_diffusion_parametric_1D.jl` for this exercise and add it to the `lecture3` folder in your private GitHub repo.\n",
    "3. Report the results of this exercise within a new section in the `README.md`."
   ],
   "metadata": {}
  },
  {
   "cell_type": "markdown",
   "source": [
    "### Task 1\n",
    "\n",
    "Start from the 1D elliptic solver we developed in class which implements the pseudo-transient method (damping).\n",
    "Add a new variable to store the range of factors to multiply the `re` parameter with to the `# numerics` section.\n",
    "Add new array to store the number of iterations per grid block for each value of this factor:\n",
    "\n",
    "```julia\n",
    "# numerics\n",
    "fact = 0.5:0.1:1.5\n",
    "conv = zeros(size(fact))\n",
    "```\n",
    "\n",
    "Wrap the `# array initialisation` and `# iteration loop` sections of the code in a `for`-loop over indices of `fact`:\n",
    "\n",
    "```julia\n",
    "for ifact in eachindex(fact)\n",
    "    # array initialisation\n",
    "    ...\n",
    "    # iteration loop\n",
    "    while ...\n",
    "    end\n",
    "end\n",
    "```\n",
    "\n",
    "Move the definition of `ρ` to the beginning of the new loop. Extract the value `2π` and store in the variable `re`, multiplying by the corresponding value from `fact`:\n",
    "\n",
    "```julia\n",
    "for ifact in eachindex(fact)\n",
    "    re = 2π*fact[ifact]\n",
    "    ρ  = (lx/(dc*re))^2\n",
    "    dτ = ...\n",
    "    ...\n",
    "end\n",
    "```\n",
    "\n",
    "After every elliptic solve, store the `iter/nx` value in the `conv[ifact]`. Report the results as a figure, plotting the `conv` vs `fact`. You should get a picture like this:\n",
    "\n",
    "![checkmark](./figures/l3_checkmark.png)"
   ],
   "metadata": {}
  }
 ],
 "nbformat_minor": 3,
 "metadata": {
  "language_info": {
   "file_extension": ".jl",
   "mimetype": "application/julia",
   "name": "julia",
   "version": "1.10.5"
  },
  "kernelspec": {
   "name": "julia-1.10",
   "display_name": "Julia 1.10.5",
   "language": "julia"
  }
 },
 "nbformat": 4
}
