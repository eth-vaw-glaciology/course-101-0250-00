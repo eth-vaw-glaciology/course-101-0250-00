{
 "cells": [
  {
   "cell_type": "markdown",
   "source": [
    "## Exercise 1 - **Car travel**"
   ],
   "metadata": {}
  },
  {
   "cell_type": "markdown",
   "source": [
    "The goal of this exercise is to familiarise with:\n",
    "- code structure `# Physics, # Numerics, # Time loop, # Visualisation`\n",
    "- array initialisation\n",
    "- `for` loop & `if` condition\n",
    "- update rule\n",
    "- solving ODEs"
   ],
   "metadata": {}
  },
  {
   "cell_type": "markdown",
   "source": [
    "A car cruises on a straight road at given speed $\\mathrm{V = 113}$ km/h for 16 hours, making a U-turn after a distance $\\mathrm{L = 200}$ km. The car speed is defined as the change of position its $x$ per time $t$:\n",
    "$$\n",
    "V = \\frac{\\partial x}{\\partial t}\n",
    "$$\n",
    "\n",
    "In the above derivative, $\\partial x$ and $\\partial t$ are considered infinitesimal - a representation it is not possible to handle within a computer (as it would require infinite amount of resources). However, we can discretise this differential equation in order to solve it numerically by transforming the infinitesimal quantities into discrete increments:\n",
    "$$\n",
    "V = \\frac{\\partial x}{\\partial t} \\approx \\frac{\\Delta x}{\\Delta t} = \\frac{x_{t+\\Delta t}-x_t}{\\Delta t}~,\n",
    "$$\n",
    "where $\\Delta x$ and $\\Delta t$ are discrete quantities. This equation can be re-organised to return an explicit solution of the position $x$ at time $t+\\Delta t$:\n",
    "$$\n",
    "x_{t+\\Delta t} = x_{t} + V \\Delta t~.\n",
    "$$\n",
    "\n",
    "1. Based on this equation, your task is to setup a numerical model to predict the position of the car as function of time. In order not to start from scratch this time, you can complete the code draft below, filling in the relevant quantities in following order:"
   ],
   "metadata": {}
  },
  {
   "outputs": [],
   "cell_type": "code",
   "source": [
    "using Plots\n",
    "\n",
    "@views function car_travel_1D()\n",
    "    # Physical parameters\n",
    "\n",
    "    # Numerical parameters\n",
    "\n",
    "    # Array initialisation\n",
    "\n",
    "    # Time loop\n",
    "\n",
    "    # Visualisation\n",
    "\n",
    "    return\n",
    "end\n",
    "\n",
    "car_travel_1D()"
   ],
   "metadata": {},
   "execution_count": null
  },
  {
   "cell_type": "markdown",
   "source": [
    "2. Implement a condition to allow you doing U-turns whenever you reach the position $x=0$ or $x=200$.\n",
    "\n",
    "The sample code you can use to get started looks like:"
   ],
   "metadata": {}
  },
  {
   "outputs": [],
   "cell_type": "code",
   "source": [
    "using Plots\n",
    "\n",
    "@views function car_travel_1D()\n",
    "    # Physical parameters\n",
    "    V     =         # speed, km/h\n",
    "    L     =         # length of segment, km\n",
    "    ttot  =         # total time, h\n",
    "    # Numerical parameters\n",
    "    dt    = 0.1            # time step, h\n",
    "    nt    = Int(cld(ttot, dt))  # number of time steps\n",
    "    # Array initialisation\n",
    "    T     =\n",
    "    X     =\n",
    "    # Time loop\n",
    "    for it = 2:nt\n",
    "        T[it] = T[it-1] + dt\n",
    "        X[it] =   # move the car\n",
    "        if X[it] > L\n",
    "                # if beyond L, go back (left)\n",
    "        elseif X[it] < 0\n",
    "                # if beyond 0, go back (right)\n",
    "        end\n",
    "    end\n",
    "    # Visualisation\n",
    "    display(scatter(T, X, markersize=5,\n",
    "                    xlabel=\"time, hrs\", ylabel=\"distance, km\",\n",
    "                    framestyle=:box, legend=:none))\n",
    "    return\n",
    "end\n",
    "\n",
    "car_travel_1D()"
   ],
   "metadata": {},
   "execution_count": null
  },
  {
   "cell_type": "markdown",
   "source": [
    "Note that you can extend the first code (from step 1) to include the U-turns and use your final code to reply to the question.\n",
    "\n",
    "### Question 1\n",
    "\n",
    "Once the code is running, test various time step increments `0.1 < dt < 1.0` and briefly comment on your findings."
   ],
   "metadata": {}
  }
 ],
 "nbformat_minor": 3,
 "metadata": {
  "language_info": {
   "file_extension": ".jl",
   "mimetype": "application/julia",
   "name": "julia",
   "version": "1.9.3"
  },
  "kernelspec": {
   "name": "julia-1.9",
   "display_name": "Julia 1.9.3",
   "language": "julia"
  }
 },
 "nbformat": 4
}
