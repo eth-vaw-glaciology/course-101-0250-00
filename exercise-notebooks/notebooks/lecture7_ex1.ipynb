{
 "cells": [
  {
   "cell_type": "markdown",
   "source": [
    "## Exercise 1 - **2D thermal porous convection xPU implementation**"
   ],
   "metadata": {}
  },
  {
   "cell_type": "markdown",
   "source": [
    "The goal of this exercise is to:\n",
    "- Finalise the xPU implementation of the 2D fluid diffusion solvers started in class\n",
    "- Familiarise with xPU programming, `@parallel` and `@parallel_indices`\n",
    "- Port your 2D thermal porous convection code to xPU implementation\n",
    "- Start populating the `PorousConvection` project folder"
   ],
   "metadata": {}
  },
  {
   "cell_type": "markdown",
   "source": [
    "In this exercise, you will finalise the 2D fluid diffusion solver started during lecture 7 and use the new xPU scripts as starting point to port your 2D thermal porous convection code."
   ],
   "metadata": {}
  },
  {
   "cell_type": "markdown",
   "source": [
    "For this first exercise, we will finalise and add to the `scripts` folder within the `PorousConvection` folder following scripts:\n",
    "- `Pf_diffusion_2D_xpu.jl`\n",
    "- `Pf_diffusion_2D_perf_xpu.jl`\n",
    "- `PorousConvection_2D_xpu.jl`\n",
    "\n",
    "### Task 1\n",
    "\n",
    "Finalise the `Pf_diffusion_2D_xpu.jl` script from class.\n",
    "- This version should contain compute functions (kernels) definitions using `@parallel` approach together with using `ParallelStencil.FiniteDifferences2D` submodule.\n",
    "- Include the kwarg `do_visu` (or `do_check`) to allow disabling plotting/error-checking when assessing performance.\n",
    "- Also, make sure to include and update the performance evaluation section at the end of the script.\n",
    "\n",
    "### Task 2\n",
    "\n",
    "Finalise the `Pf_diffusion_2D_perf_xpu.jl` script from class.\n",
    "- This version should contain compute functions (kernels) definitions using `@parallel_indices` approach.\n",
    "- You can use macros for the derivative definition.\n",
    "- Include the kwarg `do_visu` (or `do_check`) to allow disabling plotting/error-checking when assessing performance.\n",
    "- Also, make sure to include and update the performance evaluation section at the end of the script.\n",
    "\n",
    "### Task 3\n",
    "\n",
    "Starting from the `porous_convection_implicit_2D.jl` from Lecture 4, create a xPU version to run on GPUs. Copy and rename the `porous_convection_implicit_2D.jl` script to `PorousConvection_2D_xpu.jl` (if you do not have a working 2D implicit thermal porous convection, fetch a copy in the `solutions` folder on the shared Polybox).\n",
    "\n",
    "Implement similar changes as you did in the previous 2 tasks, preferring the `@parallel` (instead of `@parallel_indices`) whenever possible.\n",
    "\n",
    "Make sure to use following physical and numerical parameters and compare the xPU (CPU and GPU using ParallelStencil) implementations versus the reference code from lecture 4 using the following (slightly updated) parameters:"
   ],
   "metadata": {}
  },
  {
   "outputs": [],
   "cell_type": "code",
   "source": [
    "# physics\n",
    "lx,ly       = 40.0,20.0\n",
    "k_ηf        = 1.0\n",
    "αρgx,αρgy   = 0.0,1.0\n",
    "αρg         = sqrt(αρgx^2+αρgy^2)\n",
    "ΔT          = 200.0\n",
    "ϕ           = 0.1\n",
    "Ra          = 1000\n",
    "λ_ρCp       = 1/Ra*(αρg*k_ηf*ΔT*ly/ϕ) # Ra = αρg*k_ηf*ΔT*ly/λ_ρCp/ϕ\n",
    "# numerics\n",
    "ny          = 63\n",
    "nx          = 2*(ny+1)-1\n",
    "nt          = 500\n",
    "re_D        = 4π\n",
    "cfl         = 1.0/sqrt(2.1)\n",
    "maxiter     = 10max(nx,ny)\n",
    "ϵtol        = 1e-6\n",
    "nvis        = 20\n",
    "ncheck      = ceil(max(nx,ny))\n",
    "# [...]\n",
    "# time step\n",
    "dt = if it == 1\n",
    "    0.1*min(dx,dy)/(αρg*ΔT*k_ηf)\n",
    "else\n",
    "    min(5.0*min(dx,dy)/(αρg*ΔT*k_ηf),ϕ*min(dx/maximum(abs.(qDx)), dy/maximum(abs.(qDy)))/2.1)\n",
    "end"
   ],
   "metadata": {},
   "execution_count": null
  },
  {
   "cell_type": "markdown",
   "source": [
    "The code running with parameters set to 👆 should produces following output for the final stage:\n",
    "\n",
    "![2D porous convection](./figures/l7_ex1_porous_convect.png)\n",
    "\n",
    "### Task 4\n",
    "\n",
    "Upon having verified the your code, run it with following parameters on Piz Daint, using one GPU:"
   ],
   "metadata": {}
  },
  {
   "outputs": [],
   "cell_type": "code",
   "source": [
    "Ra      = 1000\n",
    "# [...]\n",
    "nx,ny   = 511,1023\n",
    "nt      = 4000\n",
    "ϵtol    = 1e-6\n",
    "nvis    = 50\n",
    "ncheck  = ceil(2max(nx,ny))"
   ],
   "metadata": {},
   "execution_count": null
  },
  {
   "cell_type": "markdown",
   "source": [
    "The run may take about one to two hours so make sure to allocate sufficiently resources and time on daint. You can use a non-interactive `sbatch` submission script in such cases (see [here](https://user.cscs.ch/access/running/) for the \"official\" docs). _You can find a `l7_runme2D.sh` script in the [scripts](https://github.com/eth-vaw-glaciology/course-101-0250-00/blob/main/scripts/) folder._\n",
    "\n",
    "Produce a final animation (as following) showing the evolution of temperature with velocity quiver and add it to a section titled `## Porous convection 2D` in the `PorousConvection` project subfolder `README`.\n",
    "<center>\n",
    "  <video width=\"80%\" autoplay loop controls src=\"./figures/l7_ex1_porous_convect_final.mp4\"/>\n",
    "</center>"
   ],
   "metadata": {}
  },
  {
   "cell_type": "markdown",
   "source": [
    "\\note{You should use the existing 2D visualisation routine to produce the final animation. On Piz Daint the easiest may be to save `png` every `nvis` and further assemble them into a `gif` or `mp4`. Ideally, the final animation size does not exceeds 2-3 MB.}\n",
    "\n",
    "### Some tips:\n",
    "\n",
    "- Array(s) can be initialised on the CPU and then made xPU ready upon wrapping them around `Data.Array` statement (use `Array` to gather them back on CPU host).\n",
    "- Visualisation happens on the CPU; all visualisation arrays can be CPU only and GPU data could be gathered for visualisation as, e.g., following `Array(T)'` or `qDx_c .= avx(Array(qDx))`.\n",
    "- Boundary condition kernel to replace `T[[1,end],:] .= T[[2,end-1],:]` can be implemented and called as following:"
   ],
   "metadata": {}
  },
  {
   "outputs": [],
   "cell_type": "code",
   "source": [
    "@parallel_indices (iy) function bc_x!(A)\n",
    "    A[1  ,iy] = A[2    ,iy]\n",
    "    A[end,iy] = A[end-1,iy]\n",
    "    return\n",
    "end\n",
    "\n",
    "@parallel (1:size(T,2)) bc_x!(T)"
   ],
   "metadata": {},
   "execution_count": null
  }
 ],
 "nbformat_minor": 3,
 "metadata": {
  "language_info": {
   "file_extension": ".jl",
   "mimetype": "application/julia",
   "name": "julia",
   "version": "1.9.3"
  },
  "kernelspec": {
   "name": "julia-1.9",
   "display_name": "Julia 1.9.3",
   "language": "julia"
  }
 },
 "nbformat": 4
}
