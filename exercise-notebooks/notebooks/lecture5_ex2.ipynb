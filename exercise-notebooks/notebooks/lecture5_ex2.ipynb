{
 "cells": [
  {
   "cell_type": "markdown",
   "source": [
    "## Exercise 2 - **Performance evaluation**"
   ],
   "metadata": {}
  },
  {
   "cell_type": "markdown",
   "source": [
    "The goal of this exercise is to:\n",
    "- Create a script to assess $T_\\mathrm{peak}$, using memory-copy\n",
    "- Assess $T_\\mathrm{peak}$ of your CPU\n",
    "- Perform a strong-scaling test: assess $T_\\mathrm{eff}$ for the fluid pressure diffusion 2D solver as function of number of grid points and implementation"
   ],
   "metadata": {}
  },
  {
   "cell_type": "markdown",
   "source": [
    "For this exercise, you will write a code to assess the peak memory throughput of your CPU and run a strong scaling benchmark using the fluid pressure diffusion 2D solver and report performance."
   ],
   "metadata": {}
  },
  {
   "cell_type": "markdown",
   "source": [
    "### Task 1\n",
    "\n",
    "In the `Pf_diffusion_2D` folder, create a new script named `memcopy.jl`. You can use as starting point the `diffusion_2D_loop_fun.jl` script from lecture 5 (or exercise 1).\n",
    "\n",
    "1. Rename the \"main\" function `memcopy()`\n",
    "2. Modify the script to only keep following in the initialisation:"
   ],
   "metadata": {}
  },
  {
   "outputs": [],
   "cell_type": "code",
   "source": [
    "# Numerics\n",
    "nx, ny  = 512, 512\n",
    "nt      = 2e4\n",
    "# array initialisation\n",
    "C       = rand(Float64, nx, ny)\n",
    "C2      = copy(C)\n",
    "A       = copy(C)"
   ],
   "metadata": {},
   "execution_count": null
  },
  {
   "cell_type": "markdown",
   "source": [
    "3. Implement 2 compute functions to perform the following operation `C2 = C + A`, replacing the previous calculations:\n",
    "    - create an \"array programming\"-based function called `compute_ap!()` that includes a broadcasted version of the memory copy operation;\n",
    "    - create a second \"kernel programming\"-based function called `compute_kp!()` that uses a loop-based implementation with multi-threading.\n",
    "4. Update the `A_eff` formula accordingly.\n",
    "5. Implement a switch to monitor performance using either a manual approach or `BenchmarkTools` and pass the `bench` value as kwarg to the `memcopy()` main function including a default:"
   ],
   "metadata": {}
  },
  {
   "outputs": [],
   "cell_type": "code",
   "source": [
    "if bench == :loop\n",
    "    # iteration loop\n",
    "    t_tic = 0.0\n",
    "    for iter=1:nt\n",
    "      ...\n",
    "    end\n",
    "    t_toc = Base.time() - t_tic\n",
    "elseif bench == :btool\n",
    "    t_toc = @belapsed ...\n",
    "end"
   ],
   "metadata": {},
   "execution_count": null
  },
  {
   "cell_type": "markdown",
   "source": [
    "Then, create a `README.md` file in the `Pf_diffusion_2D` folder to report the results for each of the following tasks (including a .png of the figure when instructed)"
   ],
   "metadata": {}
  },
  {
   "cell_type": "markdown",
   "source": [
    "> 💡 hint: Use `![fig_name](./<relative-path>/my_fig.png)` to insert a .png figure in the `README.md`."
   ],
   "metadata": {}
  },
  {
   "cell_type": "markdown",
   "source": [
    "### Task 2\n",
    "\n",
    "Report on a figure $T_\\mathrm{eff}$ of your `memcopy.jl` code as function of number of grid points `nx × ny` for the array and kernel programming approaches, respectively, using the `BenchmarkTools` implementation. Vary `nx`and `ny` such that"
   ],
   "metadata": {}
  },
  {
   "outputs": [],
   "cell_type": "code",
   "source": [
    "nx = ny = 16 * 2 .^ (1:8)"
   ],
   "metadata": {},
   "execution_count": null
  },
  {
   "cell_type": "markdown",
   "source": [
    "_($T_\\mathrm{eff}$ of your `memcopy.jl` code represents $T_\\mathrm{peak}$, the peak memory throughput you can achieve on your CPU for a given implementation.)_"
   ],
   "metadata": {}
  },
  {
   "cell_type": "markdown",
   "source": [
    "On the same figure, report the best value of memcopy obtained using the manual loop-based approach (manual timer) to assess $T_\\mathrm{peak}$."
   ],
   "metadata": {}
  },
  {
   "cell_type": "markdown",
   "source": [
    "> 💡 hint: For performance evaluation we only need the code to run a couple of seconds; adapt `nt` accordingly (you could also, e.g., make `nt` function of `nx, ny`). Ensure also to implement \"warm-up\" iterations."
   ],
   "metadata": {}
  },
  {
   "cell_type": "markdown",
   "source": [
    "Add the above figure in a new section of the `Pf_diffusion_2D/README.md`, and provide a minimal description of 1) the performed test, and 2) a short description of the result. Figure out the vendor-announced peak memory bandwidth for your CPU, add it to the figure and use it to discuss your results."
   ],
   "metadata": {}
  },
  {
   "cell_type": "markdown",
   "source": [
    "### Task 3\n",
    "\n",
    "Repeat the strong scaling benchmark you just realised in Task 2 using the various fluid pressure diffusion 2D codes (`Pf_diffusion_2D_Teff.jl`; `Pf_diffusion_2D_perf.jl`; `Pf_diffusion_2D_loop_fun.jl` - with/without `Threads.@threads` for the latter).\n",
    "\n",
    "Report on a figure $T_\\mathrm{eff}$ of the 4 diffusion solvers' implementations as function of number of grid points `nx × ny`. Vary `nx`and `ny` such that `nx = ny = 16 * 2 .^ (1:8)`. **Use the `BenchmarlTools`-based evaluation approach.**\n",
    "\n",
    "On the same figure, report also the best memory copy value (as, e.g, dashed lines) and vendor announced values (if available - optional).\n",
    "\n",
    "Add this second figure in a new section of the `Pf_diffusion_2D/README.md`, and provide a minimal description of 1) the performed test, and 2) a short description of the result."
   ],
   "metadata": {}
  }
 ],
 "nbformat_minor": 3,
 "metadata": {
  "language_info": {
   "file_extension": ".jl",
   "mimetype": "application/julia",
   "name": "julia",
   "version": "1.9.3"
  },
  "kernelspec": {
   "name": "julia-1.9",
   "display_name": "Julia 1.9.3",
   "language": "julia"
  }
 },
 "nbformat": 4
}
