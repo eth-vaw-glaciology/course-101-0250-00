{
 "cells": [
  {
   "cell_type": "markdown",
   "source": [
    "## Exercise 4 - **Julia install and Git repo**"
   ],
   "metadata": {}
  },
  {
   "cell_type": "markdown",
   "source": [
    "The goal of this homework is to:\n",
    "- finalise your local Julia install\n",
    "- create a private git repo to upload your homework"
   ],
   "metadata": {}
  },
  {
   "cell_type": "markdown",
   "source": [
    "As final homework task for this second lecture, you will have to\n",
    "1. Finalise your local Julia install\n",
    "2. Create a private git repository on GitHub and share it only with the teaching staff\n",
    "\n",
    "### Julia install\n",
    "Ensure you have access to\n",
    "- the latest version of Julia (>= v1.9)\n",
    "- a fully functional REPL (command window)\n",
    "\n",
    "You should be able to visualise scripts' output graphically when, e.g., plotting something:\n",
    "\n",
    "```julia\n",
    "using Plots\n",
    "display(heatmap(rand(10,10)))\n",
    "```\n",
    "\n",
    "![random-noise](./figures/l2_random-noise.png)\n",
    "\n",
    "### Git repository\n",
    "Once you have your GitHub account ready (see lecture 2 [how-to](/lecture2/#a_brief_git_demo_session)), create a private repository you will _**share with the teaching staff only**_ to upload your weekly assignments (scripts):\n",
    "1. Create a **private** GitHub repository named `pde-on-gpu-<moodleprofilename>`, where `<moodleprofilename>` has to be replaced by your name **as displayed on Moodle, lowercase, diacritics removed, spacing replaced with hyphens (-)**. For example, if your Moodle profile name is \"Joël Désirée van der Linde\" your repository should be named `pde-on-gpu-joel-desiree-van-der-linde`.\n",
    "2. Select an `MIT License` and add a `README.md` file.\n",
    "3. Share this private repository on GitHub with the [teaching-bot (https://github.com/teaching-bot)](https://github.com/teaching-bot).\n",
    "4. **For each homework submission**, you will:\n",
    "    - create a git branch named `homework-X` (X $\\in [2-...]$) and switch to that branch (`git switch -c homework-X`)\n",
    "    - create a new folder named `homework-X` to put the exercise codes into (except for lecture 2 homework, when the codes are on JupyterHub/Moodle and the repo only contains dummy files);\n",
    "    - (don't forget to `git add` the code-files)\n",
    "    - push to GitHub and open a pull request (PR) on GitHub\n",
    "    - copy **the single git commit hash (or SHA) of the final push** and submit it and the link to the PR on [Moodle](https://moodle-app2.let.ethz.ch/course/view.php?id=20175) as the assignment hand-in. It will serve to control the material was pushed on time.\n",
    "\n",
    "👉 See also [Logistics](/logistics/#submission) for details.\n",
    "\n",
    "### GitHub task\n",
    "For this week, edit the `README.md` of your private repository:\n",
    "- Add one or two description sentences in there (to get familiar with the Markdown syntax).\n",
    "- Then `commit` the change and `push` it.\n",
    "- Copy the commit hash (or SHA) and past it to [Moodle](https://moodle-app2.let.ethz.ch/course/view.php?id=18084) in the _git commit hash (SHA)_ activity."
   ],
   "metadata": {}
  }
 ],
 "nbformat_minor": 3,
 "metadata": {
  "language_info": {
   "file_extension": ".jl",
   "mimetype": "application/julia",
   "name": "julia",
   "version": "1.9.3"
  },
  "kernelspec": {
   "name": "julia-1.9",
   "display_name": "Julia 1.9.3",
   "language": "julia"
  }
 },
 "nbformat": 4
}
