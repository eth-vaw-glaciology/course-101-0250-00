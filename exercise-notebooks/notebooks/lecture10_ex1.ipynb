{
 "cells": [
  {
   "cell_type": "markdown",
   "source": [
    "## Exercise 1 - **Push-ups with memory copy**"
   ],
   "metadata": {}
  },
  {
   "cell_type": "markdown",
   "source": [
    "The goal of this exercise is to:\n",
    "- ensure you can run a Julia notebook on your octopus node\n",
    "- refresh how to establish the peak memory throughput of your GPU"
   ],
   "metadata": {}
  },
  {
   "cell_type": "markdown",
   "source": [
    "### Getting started\n",
    "\n",
    "👉 Make sure:\n",
    "1. Log into your [JupyterLab](/software_install/#jupyterhub) on Piz Daint\n",
    "2. Download the [`l6_1-gpu-memcopy.ipynb`](https://github.com/eth-vaw-glaciology/course-101-0250-00/blob/main/slide-notebooks/notebooks/l6_1-gpu-memcopy.ipynb) notebooks and copy it to your `scratch` space on Piz Daint.\n",
    "4. Open the introduction notebook *Benchmarking memory copy and establishing peak memory access performance* [`l6_1-gpu-memcopy.ipynb`](https://github.com/eth-vaw-glaciology/course-101-0250-00/blob/main/slide-notebooks/notebooks/l6_1-gpu-memcopy.ipynb)\n",
    "5. Run the notebook to establish the performance baseline (you will need the value in the next exercises)."
   ],
   "metadata": {}
  }
 ],
 "nbformat_minor": 3,
 "metadata": {
  "language_info": {
   "file_extension": ".jl",
   "mimetype": "application/julia",
   "name": "julia",
   "version": "1.10.5"
  },
  "kernelspec": {
   "name": "julia-1.10",
   "display_name": "Julia 1.10.5",
   "language": "julia"
  }
 },
 "nbformat": 4
}
