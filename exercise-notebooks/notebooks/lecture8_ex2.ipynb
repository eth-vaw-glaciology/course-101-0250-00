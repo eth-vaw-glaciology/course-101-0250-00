{
 "cells": [
  {
   "cell_type": "markdown",
   "source": [
    "## Exercise 2 - **Multi-xPU computing**"
   ],
   "metadata": {}
  },
  {
   "cell_type": "markdown",
   "source": [
    "The goal of this exercise is to:\n",
    "- Familiarise with distributed computing\n",
    "- Combine [ImplicitGlobalGrid.jl](https://github.com/eth-cscs/ImplicitGlobalGrid.jl) and [ParallelStencil.jl](https://github.com/omlins/ParallelStencil.jl)\n",
    "- Learn about GPU MPI on the way"
   ],
   "metadata": {}
  },
  {
   "cell_type": "markdown",
   "source": [
    "In this exercise, you will:\n",
    "- Create a multi-xPU version of your the 2D xPU diffusion solver\n",
    "- Keep it xPU compatible using `ParallelStencil.jl`\n",
    "- Deploy it on multiple xPUs using `ImplicitGlobalGrid.jl`\n",
    "\n",
    "Start by fetching the [`l8_diffusion_2D_perf_xpu.jl`](https://github.com/eth-vaw-glaciology/course-101-0250-00/blob/main/scripts/l8_scripts/) code from the `scripts/l8_scripts` folder and copy it to your `lectrue_8` folder.\n",
    "\n",
    "Make a copy and rename it `diffusion_2D_perf_multixpu.jl`.\n",
    "\n",
    "### Task 1\n",
    "\n",
    "Follow the steps listed in the section from lecture 8 about [using `ImplicitGlobalGrid.jl`](#using_implicitglobalgridjl) to add multi-xPU support to the 2D diffusion code.\n",
    "\n",
    "The 5 steps you'll need to implement are summarised hereafter:\n",
    "1. Initialise the implicit global grid\n",
    "2. Use global coordinates to compute the initial condition\n",
    "3. Update halo (and overlap communication with computation)\n",
    "4. Finalise the global grid\n",
    "5. Tune visualisation\n",
    "\n",
    "Once the above steps are implemented, head to Piz Daint and configure either an `salloc` or prepare a `sbatch` script to access 4 nodes.\n",
    "\n",
    "### Task 2\n",
    "\n",
    "Run the single xPU `l8_diffusion_2D_perf_xpu.jl` code on a single CPU and single GPU (changing the `USE_GPU` flag accordingly) for following parameters"
   ],
   "metadata": {}
  },
  {
   "outputs": [],
   "cell_type": "code",
   "source": [
    "# Physics\n",
    "Lx, Ly  = 10.0, 10.0\n",
    "D       = 1.0\n",
    "ttot    = 1.0\n",
    "# Numerics\n",
    "nx, ny  = 126, 126\n",
    "nout    = 20"
   ],
   "metadata": {},
   "execution_count": null
  },
  {
   "cell_type": "markdown",
   "source": [
    "and save output `C` data. Confirm that the difference between CPU and GPU implementation is negligible, reporting it in a new section of the `README.md` for this exercise 2 within the `lecture_8` folder in your shared private GitHub repo.\n",
    "\n",
    "### Task 3\n",
    "\n",
    "Then run the newly created `diffusion_2D_perf_multixpu.jl` script with following parameters on **4 MPI processes** having set `USE_GPU = true`:"
   ],
   "metadata": {}
  },
  {
   "outputs": [],
   "cell_type": "code",
   "source": [
    "# Physics\n",
    "Lx, Ly  = 10.0, 10.0\n",
    "D       = 1.0\n",
    "ttot    = 1e0\n",
    "# Numerics\n",
    "nx, ny  = 64, 64 # number of grid points\n",
    "nout    = 20\n",
    "# Derived numerics\n",
    "me, dims = init_global_grid(nx, ny, 1)  # Initialization of MPI and more..."
   ],
   "metadata": {},
   "execution_count": null
  },
  {
   "cell_type": "markdown",
   "source": [
    "Save the global `C_v` output array. Ensure its size matches the inner points of the single xPU produced output (`C[2:end-1,2:end-1]`) and then compare the results to the existing 2 outputs produced in Task 2\n",
    "\n",
    "### Task 4\n",
    "\n",
    "Now that we are confident the xPU and multi-xPU codes produce correct physical output, we will asses performance.\n",
    "\n",
    "Use the code `diffusion_2D_perf_multixpu.jl` and make sure to deactivate visualisation, saving or any other operation that would save to disk or slow the code down.\n",
    "\n",
    "**Strong scaling:** Using a single GPU, gather the effective memory throughput `T_eff` varying `nx, ny` as following"
   ],
   "metadata": {}
  },
  {
   "outputs": [],
   "cell_type": "code",
   "source": [
    " nx = ny = 16 * 2 .^ (1:10)"
   ],
   "metadata": {},
   "execution_count": null
  },
  {
   "cell_type": "markdown",
   "source": [
    "\\warn{Make sur the code only spends about 1-2 seconds in the time loop, adapting `ttot` or `nt` accordingly.}\n",
    "\n",
    "In a new figure you'll add to the `README.md`, report `T_eff` as function of `nx`, and include a short comment on what you see.\n",
    "\n",
    "### Task 5\n",
    "\n",
    "**Weak scaling:** Select the smallest `nx,ny` values from previous step (2.) for which you've gotten the best `T_eff`. Run now the same code using this optimal local resolution varying the number of MPI process as following `np = 1,4,16,25,64`.\n",
    "\n",
    "\\warn{Make sure the code only executes a couple of seconds each time otherwise we will run out of node hours for the rest of the course.}\n",
    "\n",
    "In a new figure, report the execution time for the various runs **normalising them with the execution time of the single process run**. Comment in one sentence on what you see.\n",
    "\n",
    "### Task 6\n",
    "\n",
    "Finally, let's assess the impact of hiding communication behind computation achieved using the `@hide_communication` macro in the multi-xPU code.\n",
    "\n",
    "Using the 64 MPI processes configuration, run the multi-xPU code changing the values of the tuple after `@hide_communication` such that"
   ],
   "metadata": {}
  },
  {
   "outputs": [],
   "cell_type": "code",
   "source": [
    "@hide_communication (2,2)\n",
    "@hide_communication (16,4)\n",
    "@hide_communication (16,16)"
   ],
   "metadata": {},
   "execution_count": null
  },
  {
   "cell_type": "markdown",
   "source": [
    "Then, you should also run once the code commenting both `@hide_communication` and corresponding `end` statements. On a figure report the execution time as function of `[no-hidecomm, (2,2), (8,2), (16,4), (16,16)]` (note that the `(8,2)` case you should have from Task 4 and/or 5) making sure to **normalise it by the single process execution time** (from Task 5). Add a short comment related to your results."
   ],
   "metadata": {}
  }
 ],
 "nbformat_minor": 3,
 "metadata": {
  "language_info": {
   "file_extension": ".jl",
   "mimetype": "application/julia",
   "name": "julia",
   "version": "1.9.4"
  },
  "kernelspec": {
   "name": "julia-1.9",
   "display_name": "Julia 1.9.4",
   "language": "julia"
  }
 },
 "nbformat": 4
}
