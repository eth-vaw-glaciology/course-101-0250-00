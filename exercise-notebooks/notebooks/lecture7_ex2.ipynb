{
 "cells": [
  {
   "cell_type": "markdown",
   "source": [
    "## Exercise 2 - **3D thermal porous convection xPU implementation**"
   ],
   "metadata": {}
  },
  {
   "cell_type": "markdown",
   "source": [
    "The goal of this exercise is to:\n",
    "- Create a 3D xPU implementation of the 2D thermal porous convection code\n",
    "- Familiarise with 3D and xPU programming, `@parallel` and `@parallel_indices`\n",
    "- Include 3D visualisation using [`Makie.jl`](https://docs.makie.org/stable/)"
   ],
   "metadata": {}
  },
  {
   "cell_type": "markdown",
   "source": [
    "In this exercise, you will finalise the 3D fluid diffusion solver started during lecture 7 and use the new xPU scripts as starting point to port your 3D thermal porous convection code."
   ],
   "metadata": {}
  },
  {
   "cell_type": "markdown",
   "source": [
    "For this first exercise, we will finalise and add to the `scripts` folder within the `PorousConvection` folder following scripts:\n",
    "- `Pf_diffusion_3D_xpu.jl`\n",
    "- `PorousConvection_3D_xpu.jl`\n",
    "\n",
    "### Task 1\n",
    "\n",
    "Finalise the `Pf_diffusion_3D_xpu.jl` script from class.\n",
    "- This version should contain compute functions (kernels) definitions using `@parallel` approach together with using `ParallelStencil.FiniteDifferences3D` submodule.\n",
    "- Include the `kwargs` `do_visu` (or `do_check`) to allow disabling plotting/error-checking when assessing performance.\n",
    "- Also, make sure to include and update the performance evaluation section at the end of the script.\n",
    "\n",
    "### Task 2\n",
    "\n",
    "Merge the `PorousConvection_2D_xpu.jl` from Exercise 1 and the `Pf_diffusion_3D_xpu.jl` script from previous task to create a 3D single xPU `PorousConvection_3D_xpu.jl` version to run on GPUs.\n",
    "\n",
    "Implement similar changes as you did for the 2D script in Exercise 1, preferring the `@parallel` (instead of `@parallel_indices`) whenever possible.\n",
    "\n",
    "Make sure to use the `z`-direction as the vertical coordinate changing all relevant expressions in the code, and assume `αρg` to be the gravity acceleration acting only in the `z`-direction. Implement following domain extend and numerical resolution (ratio):"
   ],
   "metadata": {}
  },
  {
   "outputs": [],
   "cell_type": "code",
   "source": [
    "# physics\n",
    "lx, ly, lz = 40.0, 20.0, 20.0\n",
    "αρg        = 1.0\n",
    "Ra         = 1000\n",
    "λ_ρCp      = 1 / Ra * (αρg * k_ηf * ΔT * lz / ϕ) # Ra = αρg*k_ηf*ΔT*lz/λ_ρCp/ϕ\n",
    "# numerics\n",
    "nz         = 63\n",
    "ny         = nz\n",
    "nx         = 2 * (nz + 1) - 1\n",
    "nt         = 500\n",
    "cfl        = 1.0 / sqrt(3.1)"
   ],
   "metadata": {},
   "execution_count": null
  },
  {
   "cell_type": "markdown",
   "source": [
    "Also, modify the physical time-step definition accordingly:"
   ],
   "metadata": {}
  },
  {
   "outputs": [],
   "cell_type": "code",
   "source": [
    "dt = if it == 1\n",
    "    0.1 * min(dx, dy, dz) / (αρg * ΔT * k_ηf)\n",
    "else\n",
    "    min(5.0 * min(dx, dy, dz) / (αρg * ΔT * k_ηf), ϕ * min(dx / maximum(abs.(qDx)), dy / maximum(abs.(qDy)), dz / maximum(abs.(qDz))) / 3.1)\n",
    "end"
   ],
   "metadata": {},
   "execution_count": null
  },
  {
   "cell_type": "markdown",
   "source": [
    "Initial conditions for temperature can be done by analogy to the 2D case, but using the iterative approach presented in class (see [here](#towards_3d_thermal_porous_convection))."
   ],
   "metadata": {}
  },
  {
   "outputs": [],
   "cell_type": "code",
   "source": [
    "T = [ΔT * exp(-xc[ix]^2 - yc[iy]^2 - (zc[iz] + lz / 2)^2) for ix = 1:nx, iy = 1:ny, iz = 1:nz]"
   ],
   "metadata": {},
   "execution_count": null
  },
  {
   "cell_type": "markdown",
   "source": [
    "Make sure to have `yc` defined using extends similar to `xc`, and `zc` being the vertical dimension.\n",
    "\n",
    "For boundary conditions, apply heating from the bottom (zc=-lz) and cooling from top `zc=0` in the vertical `z`-direction. Extend the adiabatic condition for the walls to the `xz` and `yz` planes. The `yz` BC kernel could be defined and called as following:"
   ],
   "metadata": {}
  },
  {
   "outputs": [],
   "cell_type": "code",
   "source": [
    "@parallel_indices (iy, iz) function bc_x!(A)\n",
    "    A[1  , iy, iz] = A[2    , iy, iz]\n",
    "    A[end, iy, iz] = A[end-1, iy, iz]\n",
    "    return\n",
    "end\n",
    "\n",
    "@parallel (1:size(T, 2), 1:size(T, 3)) bc_x!(T)"
   ],
   "metadata": {},
   "execution_count": null
  },
  {
   "cell_type": "markdown",
   "source": [
    "Verify that the code runs using the above low-resolution configuration and produces sensible output. To this end, you can recycle the 2D visualisation (removing the quiver plotting) in order to visualise a 2D slice of your 3D data, e.g., at `ly/2`:"
   ],
   "metadata": {}
  },
  {
   "outputs": [],
   "cell_type": "code",
   "source": [
    "iframe = 0\n",
    "if do_viz && (it % nvis == 0)\n",
    "    p1 = heatmap(xc, zc, Array(T)[:, ceil(Int, ny / 2), :]'; xlims=(xc[1], xc[end]), ylims=(zc[1], zc[end]), aspect_ratio=1, c=:turbo)\n",
    "    png(p1, @sprintf(\"viz3D_out/%04d.png\", iframe += 1))\n",
    "end"
   ],
   "metadata": {},
   "execution_count": null
  },
  {
   "cell_type": "markdown",
   "source": [
    "### Task 3\n",
    "\n",
    "Upon having verified your code, run it with following parameters on Piz Daint, using one GPU:"
   ],
   "metadata": {}
  },
  {
   "outputs": [],
   "cell_type": "code",
   "source": [
    "Ra         = 1000\n",
    "# [...]\n",
    "nx, ny, nz = 255, 127, 127\n",
    "nt         = 2000\n",
    "ϵtol       = 1e-6\n",
    "nvis       = 50\n",
    "ncheck     = ceil(2max(nx, ny, nz))"
   ],
   "metadata": {},
   "execution_count": null
  },
  {
   "cell_type": "markdown",
   "source": [
    "The run may take about three hours so make sure to allocate sufficiently resources and time on daint. You can use a non-interactive `sbatch` submission script in such cases (see [here](https://user.cscs.ch/access/running/) for the \"official\" docs). _You can find a `l7_runme3D.sh` script in the [scripts](https://github.com/eth-vaw-glaciology/course-101-0250-00/blob/main/scripts/) folder._\n",
    "\n",
    "Produce a figure showing the final stage of temperature distribution and add it to a new section titled `## Porous convection 3D` in the `PorousConvection` project subfolder's `README`.\n",
    "\n",
    "For the figure, you can use `GLMakie` to produce some isocontours visualisation; add the following binary dump function to your code"
   ],
   "metadata": {}
  },
  {
   "outputs": [],
   "cell_type": "code",
   "source": [
    "function save_array(Aname,A)\n",
    "    fname = string(Aname, \".bin\")\n",
    "    out = open(fname, \"w\"); write(out, A); close(out)\n",
    "end"
   ],
   "metadata": {},
   "execution_count": null
  },
  {
   "cell_type": "markdown",
   "source": [
    "which you can call as following at the end of your simulation"
   ],
   "metadata": {}
  },
  {
   "outputs": [],
   "cell_type": "code",
   "source": [
    "save_array(\"out_T\", convert.(Float32, Array(T)))"
   ],
   "metadata": {},
   "execution_count": null
  },
  {
   "cell_type": "markdown",
   "source": [
    "Then, once you've created the `out_T.bin` file, read it in using the following code and produce a figure"
   ],
   "metadata": {}
  },
  {
   "outputs": [],
   "cell_type": "code",
   "source": [
    "using GLMakie\n",
    "\n",
    "function load_array(Aname, A)\n",
    "    fname = string(Aname, \".bin\")\n",
    "    fid=open(fname, \"r\"); read!(fid, A); close(fid)\n",
    "end\n",
    "\n",
    "function visualise()\n",
    "    lx, ly, lz = 40.0, 20.0, 20.0\n",
    "    nx = 255\n",
    "    ny = nz = 127\n",
    "    T  = zeros(Float32, nx, ny, nz)\n",
    "    load_array(\"out_T\", T)\n",
    "    xc, yc, zc = LinRange(0, lx, nx), LinRange(0, ly, ny), LinRange(0, lz, nz)\n",
    "    fig = Figure(resolution=(1600, 1000), fontsize=24)\n",
    "    ax  = Axis3(fig[1, 1]; aspect=(1, 1, 0.5), title=\"Temperature\", xlabel=\"lx\", ylabel=\"ly\", zlabel=\"lz\")\n",
    "    surf_T = contour!(ax, xc, yc, zc, T; alpha=0.05, colormap=:turbo)\n",
    "    save(\"T_3D.png\", fig)\n",
    "    return fig\n",
    "end\n",
    "\n",
    "visualise()"
   ],
   "metadata": {},
   "execution_count": null
  },
  {
   "cell_type": "markdown",
   "source": [
    "This figure you can further add to your `README.md`. Note that GLMakie will probably not run on Piz Daint as GL rendering is not enabled on the compute nodes.\n",
    "\n",
    "For reference, the 3D figure produced could look as following\n",
    "\n",
    "![3D porous convection](./figures/l7_ex2_porous_convect.png)\n",
    "\n",
    "And the 2D slice at `y/2` rendered using `Plots.jl` displays as\n",
    "\n",
    "![3D porous convection](./figures/l7_ex2_porous_convect_sl.png)"
   ],
   "metadata": {}
  }
 ],
 "nbformat_minor": 3,
 "metadata": {
  "language_info": {
   "file_extension": ".jl",
   "mimetype": "application/julia",
   "name": "julia",
   "version": "1.10.5"
  },
  "kernelspec": {
   "name": "julia-1.10",
   "display_name": "Julia 1.10.5",
   "language": "julia"
  }
 },
 "nbformat": 4
}
