{
 "cells": [
  {
   "cell_type": "markdown",
   "source": [
    "## Exercise 3 - **CI and GitHub Actions**"
   ],
   "metadata": {}
  },
  {
   "cell_type": "markdown",
   "source": [
    "The goal of this exercise is to:\n",
    "- setup Continuous Integration with GitHub Actions"
   ],
   "metadata": {}
  },
  {
   "cell_type": "markdown",
   "source": [
    "### Tasks\n",
    "1. Add CI setup to your `PorousConvection` project to run **one unit and one reference test** for both the 2D and 3D thermal porous convection scripts.\n",
    "   - 👉 make sure that the reference test runs on a very small grid (without producing NaNs).  It should complete in less than, say, 10-20 seconds.\n",
    "2. Follow/revisit the lecture and in particular look at the example at [https://github.com/eth-vaw-glaciology/course-101-0250-00-L6Testing-subfolder.jl](https://github.com/eth-vaw-glaciology/course-101-0250-00-L6Testing-subfolder.jl) to setup CI for a folder that is part of another Git repo (your `PorousConvection` folder is part of your `pde-on-gpu-<username>` git repo).\n",
    "3. Push to GitHub and make sure the CI runs and passes\n",
    "4. Add the CI-badge to the `README.md` file from your `PorousConvection` folder, right below the title (as it is commonly done).\n",
    "\n",
    "You may realise that you can't initialise ParallelStencil for 2D and 3D configurations within the same test script. A good practice is to place one test2D.jl and another test3D.jl scripts within the `test` folder and call these scripts from the `runtests.jl` mains script, which could contain following:"
   ],
   "metadata": {}
  },
  {
   "outputs": [],
   "cell_type": "code",
   "source": [
    "using Test\n",
    "using PorousConvection\n",
    "\n",
    "function runtests()\n",
    "    exename = joinpath(Sys.BINDIR, Base.julia_exename())\n",
    "    testdir = pwd()\n",
    "\n",
    "    printstyled(\"Testing PorousConvection.jl\\n\"; bold=true, color=:white)\n",
    "\n",
    "    run(`$exename -O3 --startup-file=no $(joinpath(testdir, \"test2D.jl\"))`)\n",
    "    run(`$exename -O3 --startup-file=no $(joinpath(testdir, \"test3D.jl\"))`)\n",
    "\n",
    "    return\n",
    "end\n",
    "\n",
    "exit(runtests())"
   ],
   "metadata": {},
   "execution_count": null
  },
  {
   "cell_type": "markdown",
   "source": [
    "Each sub-test file would then contain all what's needed to run the 2D or 3D tests. You can find an example of this approach in `ParallelStencil`'s own test suite [here](https://github.com/omlins/ParallelStencil.jl/tree/main/test), or in the [GitHub repository](https://github.com/PTsolvers/PseudoTransientDiffusion.jl/tree/main/test) related to the pseudo-transient solver publication discussed in [Lecture 3](/lecture3/#pseudo-transient_method)."
   ],
   "metadata": {}
  }
 ],
 "nbformat_minor": 3,
 "metadata": {
  "language_info": {
   "file_extension": ".jl",
   "mimetype": "application/julia",
   "name": "julia",
   "version": "1.10.5"
  },
  "kernelspec": {
   "name": "julia-1.10",
   "display_name": "Julia 1.10.5",
   "language": "julia"
  }
 },
 "nbformat": 4
}
