{
 "cells": [
  {
   "cell_type": "markdown",
   "source": [
    "## Exercise 1 - **Performance implementation**"
   ],
   "metadata": {}
  },
  {
   "cell_type": "markdown",
   "source": [
    "The goal of this exercise is to:\n",
    "- Finalise the script discussed in class"
   ],
   "metadata": {}
  },
  {
   "cell_type": "markdown",
   "source": [
    "In this first exercise, you will terminate the performance oriented implementation of the 2D fluid pressure (diffusion) solver script from lecture 5."
   ],
   "metadata": {}
  },
  {
   "cell_type": "markdown",
   "source": [
    "### Task 1\n",
    "\n",
    "Create a new folder in your GitHub repository for this week's (lecture 5) exercises. In there, create a new subfolder `Pf_diffusion_2D` where you will add following script:\n",
    "- `Pf_diffusion_2D_Teff.jl`: `T_eff` implementation\n",
    "- `Pf_diffusion_2D_perf.jl`: scalar precomputations and removing disabling `ncheck`\n",
    "- `Pf_diffusion_2D_loop_fun.jl`: physics computations in `compute!()` function, derivatives done with macros, and multi-threading"
   ],
   "metadata": {}
  },
  {
   "cell_type": "markdown",
   "source": [
    "> 💡 hint: Refer to [this section](#timer_and_performance) in lecture 5 to capture the starting point describing which features are specific to each version of the diffusion 2D codes."
   ],
   "metadata": {}
  }
 ],
 "nbformat_minor": 3,
 "metadata": {
  "language_info": {
   "file_extension": ".jl",
   "mimetype": "application/julia",
   "name": "julia",
   "version": "1.9.3"
  },
  "kernelspec": {
   "name": "julia-1.9",
   "display_name": "Julia 1.9.3",
   "language": "julia"
  }
 },
 "nbformat": 4
}
