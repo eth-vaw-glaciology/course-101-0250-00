{
 "cells": [
  {
   "cell_type": "markdown",
   "source": [
    "## Exercise 1 - **Advection-Diffusion**"
   ],
   "metadata": {}
  },
  {
   "cell_type": "markdown",
   "source": [
    "The goal of this exercise is to couple physical processes implementing:\n",
    "- 1D advection-diffusion\n",
    "- Non-dimensional numbers"
   ],
   "metadata": {}
  },
  {
   "cell_type": "markdown",
   "source": [
    "The goal of this exercise is to combine advection and diffusion processes acting on the concentration of a quantity $C$.\n",
    "\n",
    "From what you learned in class, write an advection-diffusion code having following physical input parameters:\n",
    "\n",
    "```julia\n",
    "# Physics\n",
    "lx   = 20.0  # domain length\n",
    "dc   = 0.1   # diffusion coefficient\n",
    "vx   = 1.0   # advection velocity\n",
    "ttot = 20.0  # total simulation time\n",
    "```\n",
    "\n",
    "Discretise your domain in 200 finite-difference cells such that the first cell centre is located at `dx/2` and the last cell centre at `lx-dx/2`. Use following explicit time step limiters:\n",
    "\n",
    "```julia\n",
    "dta  = dx/abs(vx)\n",
    "dtd  = dx^2/dc/2\n",
    "dt   = min(dtd, dta)\n",
    "```\n",
    "\n",
    "As initial condition, define a Gaussian profile of concentration `C` of amplitude and standard deviation equal to 1, located at `lx/4`.\n",
    "\n",
    "In the time-loop, add a condition that would change de direction of the velocity `vx` at time `ttot/2`.\n",
    "\n",
    "Set Dirichlet boundary conditions on the concentration for the diffusion process such that `C=0` at the boundaries. This can be implicitly achieved by updating only the inner points of `C` with the divergence of the diffusive flux (i.e. `C[2:end-1]`). For the advection part, implement upwind scheme making sure to treat cases for both positive and negative velocities `vx`."
   ],
   "metadata": {}
  },
  {
   "cell_type": "markdown",
   "source": [
    "> 💡 hint: Don't forget to initialise (pre-allocate) all arrays (vectors) needed in the calculations."
   ],
   "metadata": {}
  },
  {
   "cell_type": "markdown",
   "source": [
    "### Question 1\n",
    "\n",
    "Report the initial and final distribution of concentration on a figure with axis-label, title, and plotted line labels. Also, report on the figure (as text in one label of your choice) the maximal final concentration value and its x location.\n",
    "\n",
    "### Question 2\n",
    "\n",
    "Repeat the exercise but introduce the non-dimensional [Péclet number](https://en.wikipedia.org/wiki/Péclet_number) $Pe = lx~vx/dc$ as physical quantity defining the diffusion coefficient `dc` as a `# Derived physics` quantity. Confirm the if $Pe >> 100$ the diffusion happens in a much longer time compared to the advection, and the opposite for $Pe << 100$."
   ],
   "metadata": {}
  }
 ],
 "nbformat_minor": 3,
 "metadata": {
  "language_info": {
   "file_extension": ".jl",
   "mimetype": "application/julia",
   "name": "julia",
   "version": "1.9.3"
  },
  "kernelspec": {
   "name": "julia-1.9",
   "display_name": "Julia 1.9.3",
   "language": "julia"
  }
 },
 "nbformat": 4
}
