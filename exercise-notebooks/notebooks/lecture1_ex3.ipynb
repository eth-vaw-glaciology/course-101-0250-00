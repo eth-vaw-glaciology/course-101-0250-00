{
 "cells": [
  {
   "cell_type": "markdown",
   "source": [
    "## Exercise 3 - **Volcanic bomb**"
   ],
   "metadata": {}
  },
  {
   "cell_type": "markdown",
   "source": [
    "The goal of this exercise is to consolidate:\n",
    "- code structure `# Physics, # Numerics, # Time loop, # Visualisation`\n",
    "- array initialisation\n",
    "- update rule\n",
    "- `if` condition"
   ],
   "metadata": {}
  },
  {
   "cell_type": "markdown",
   "source": [
    "You will now simulate the trajectory of a [volcanic bomb](https://en.wikipedia.org/wiki/Volcanic_bomb) that got ejected during a volcanic eruption. The ejection speed is given by the horizontal and vertical velocity components\n",
    "$$\n",
    "V_x = \\frac{\\partial x}{\\partial t}\\\\[10pt]\n",
    "V_y = \\frac{\\partial y}{\\partial t}\n",
    "$$\n",
    "\n",
    "Once ejected, the volcanic bomb is subject to gravity acceleration $g$. Air friction will be neglected. Acceleration being defined as the change of velocity over time, we obtain the following update rule:\n",
    "$$\n",
    "\\frac{\\partial V_y}{\\partial t}=-g\n",
    "$$\n",
    "\n",
    "These equations define a mathematical model describing the kinematics of the volcanic bomb. You may remember from your studies how to solve those equation analytically; however we'll here focus on a numerical solution using a similar approach as for the previous exercises. The $x$ and $y$ location of the bomb as function of time can be obtained based on updating previous values using the definition of velocity:\n",
    "$$\n",
    "x_{t+\\Delta t} = x_{t} + V_x    \\Delta t~,\\\\[5pt]\n",
    "y_{t+\\Delta t} = y_{t} + V_y(t) \\Delta t~.\n",
    "$$\n",
    "And because of gravity acceleration, the $V_y$ velocity evolution can be obtained according to\n",
    "$$\n",
    "V_{y,t+\\Delta t} = V_{y,t} - g \\Delta t~.\n",
    "$$\n",
    "\n",
    "The 3 equations above represent the discretised form of the 3 first equations and should be used to solve the problem numerically. The initial position of the volcanic bomb $(x_0, y_0)=(0,480)$ m. The magnitude of the ejection speed is of 120 m/s and the angle $\\alpha = 60°$. The simulation stops when the volcanic bomb touches the ground ($y=0$)."
   ],
   "metadata": {}
  },
  {
   "cell_type": "markdown",
   "source": [
    "> 💡 hint:\n",
    "> - Modify the code from exercise 2 to, in addition, account for the change of `Vy` with time\n",
    "> - Use e.g. a `break` statement to exit the loop once the bomb hits the ground"
   ],
   "metadata": {}
  },
  {
   "cell_type": "markdown",
   "source": [
    "### Question 1\n",
    "\n",
    "Report the height of the volcanic bomb at position $x=900$ m away from origin."
   ],
   "metadata": {}
  }
 ],
 "nbformat_minor": 3,
 "metadata": {
  "language_info": {
   "file_extension": ".jl",
   "mimetype": "application/julia",
   "name": "julia",
   "version": "1.9.3"
  },
  "kernelspec": {
   "name": "julia-1.9",
   "display_name": "Julia 1.9.3",
   "language": "julia"
  }
 },
 "nbformat": 4
}
