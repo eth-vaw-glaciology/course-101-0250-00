{
 "cells": [
  {
   "cell_type": "markdown",
   "source": [
    "## Exercise 3 - **Advection-diffusion in 2D**"
   ],
   "metadata": {}
  },
  {
   "cell_type": "markdown",
   "source": [
    "The goal of this exercise is to\n",
    "- Extend the advection-diffusion solver with implicit diffusion step from 1D to 2D\n",
    "- Implement the upwind advection scheme in 2D\n",
    "- Modify the problem configuration\n",
    "\n",
    "Create a code `implicit_advection_diffusion_2D.jl` for this exercise and add it to the `lecture3` folder in your private GitHub repo. Report the results of this exercise within a new section in the `README`.\n",
    "\n",
    "### Getting started\n",
    "\n",
    "1. Duplicate the the `implicit_diffusion_1D.jl` code you created in Exercise 2 and name it `implicit_advection_diffusion_2D.jl`.\n",
    "2. Extend the 1D calculations to 2D\n",
    "3. Add advection as in Exercise 2\n",
    "\n",
    "Modify the initial conditions to include following parameters in the `# physics` section:\n",
    "```julia\n",
    "# physics\n",
    "lx,ly   = 10.0,10.0\n",
    "dc      = 1.0\n",
    "vx      = 10.0\n",
    "vy      = -10.0\n",
    "```\n",
    "and implement following initial condition\n",
    "```julia\n",
    "# array initialisation\n",
    "C       = @. exp(-(xc-lx/4)^2 -(yc'-3ly/4)^2)\n",
    "C_old   = copy(C)\n",
    "```\n",
    "\n",
    "Choose the time step according to the following (stability) criterion:\n",
    "\n",
    "```julia\n",
    "dt = min(dx/abs(vx),dy/abs(vy))/2\n",
    "```\n",
    "\n",
    "Also make sure to use the following numerical parameters (in number of grid points `nx,ny`)\n",
    "```julia\n",
    "# numerics\n",
    "nx,ny   = 200,201\n",
    "ϵtol    = 1e-8\n",
    "maxiter = 10nx\n",
    "ncheck  = ceil(Int,0.02nx)\n",
    "nt      = 50\n",
    "\n",
    "```\n",
    "\n",
    "Note that the iterative pseudo-timestep limitation should be updated to\n",
    "```julia\n",
    "dτ = min(dx,dy)/sqrt(1/ρ)/sqrt(2)\n",
    "```\n",
    "for 2D configurations."
   ],
   "metadata": {}
  },
  {
   "cell_type": "markdown",
   "source": [
    "> 💡 hint: Make sure to update the flux array initialisation and include the flux in the y-direction `qy` and use now 2D arrays: `qx,qy = zeros(nx-1,??), zeros(??,ny-1)`."
   ],
   "metadata": {}
  },
  {
   "cell_type": "markdown",
   "source": [
    "### Task 1\n",
    "Repeat the steps from the Exercise 1 to create the implicit time-dependent diffusion solver but in 2D. **Do not include advection yet.** Pay attention to add information relative to the second dimension whenever it's needed.\n",
    "\n",
    "\n",
    "Make a short animation showing the time evolution of the concentration field `C` during `nt = 50` physical time steps. The figure should contain 2 subplots, the first displaying the `heatmap` of the `C` field and the second the evolution of the by `nx` normalised iteration count:\n",
    "\n",
    "```julia\n",
    "# visualisation\n",
    "p1 = heatmap(xc,yc,C';xlims=(0,lx),ylims=(0,ly),clims=(0,1),aspect_ratio=1,\n",
    "                 xlabel=\"lx\",ylabel=\"ly\",title=\"iter/nx=$(round(iter/nx,sigdigits=3))\")\n",
    "p2 = plot(iter_evo,err_evo;xlabel=\"iter/nx\",ylabel=\"err\",\n",
    "        yscale=:log10,grid=true,markershape=:circle,markersize=10)\n",
    "display(plot(p1,p2;layout=(2,1)))\n",
    "```"
   ],
   "metadata": {}
  },
  {
   "cell_type": "markdown",
   "source": [
    "### Task 2\n",
    "Include now the advection step in a similar way as in the 1D case from the previous exercise, i.e., adding them after the iteration loop within the time loop. Use advection velocities and parameters listed above, taking care in implementing the \"upwind\" strategy discussed in Lecture 2.\n",
    "\n",
    "Make a short animation showing the time evolution of the concentration field `C` during `nt = 50` physical time steps using the same figure layout as for Task 1."
   ],
   "metadata": {}
  }
 ],
 "nbformat_minor": 3,
 "metadata": {
  "language_info": {
   "file_extension": ".jl",
   "mimetype": "application/julia",
   "name": "julia",
   "version": "1.9.3"
  },
  "kernelspec": {
   "name": "julia-1.9",
   "display_name": "Julia 1.9.3",
   "language": "julia"
  }
 },
 "nbformat": 4
}
