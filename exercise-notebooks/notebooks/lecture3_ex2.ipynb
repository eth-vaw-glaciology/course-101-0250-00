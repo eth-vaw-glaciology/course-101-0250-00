{
 "cells": [
  {
   "cell_type": "markdown",
   "source": [
    "## Exercise 2 — **Operator splitting for advection-diffusion**"
   ],
   "metadata": {}
  },
  {
   "cell_type": "markdown",
   "source": [
    "The goal of this exercise is to implement the advection-diffusion with implicit timestepping for diffusion. Start from the time-dependent code you developed in Exercise 1. Then add advection step after the iteration loop so that the concentration is advected only once per physical time step."
   ],
   "metadata": {}
  },
  {
   "cell_type": "markdown",
   "source": [
    "### Getting started\n",
    "1. Duplicate the file `implicit_diffusion_1D.jl` in the folder `lecture3` and name it `implicit_advection_diffusion_1D.jl`.\n",
    "4. Modify that script so that it includes the advection step as follows."
   ],
   "metadata": {}
  },
  {
   "cell_type": "markdown",
   "source": [
    "### Task 1\n",
    "Add advection to the implicit diffusion code, using an advection velocity of\n",
    "\n",
    "```julia\n",
    "vx = 1.0\n",
    "```\n",
    "and use the stability criteria for advection to specify the physical timestep:\n",
    "\n",
    "```julia\n",
    "dt = dx/abs(vx)\n",
    "```\n",
    "\n",
    "Note that now one doesn't need to take the minimum between the time steps for diffusion and advection, since the diffusion that is more restrictive is resolved implicitly. Also, we do not consider any change in velocity direction at mid-simulation.\n",
    "\n",
    "Now the physical timestep `dt` is defined by advection velocity, so the `da` number that is needed for calculating the optimal PT parameters, has to be computed from `dt`:\n",
    "\n",
    "```julia\n",
    "# derived numerics\n",
    "dt      = dx/abs(vx)\n",
    "da      = lx^2/dc/dt\n",
    "re      = ...\n",
    "ρ       = ...\n",
    "dτ      = ...\n",
    "```\n",
    "\n",
    "Report with the figure, plotting a spatial distribution of concentration `C` after `nt=10` time steps, on top of the plot of the initial concentration distribution. Add the figure to the `README.md` file."
   ],
   "metadata": {}
  }
 ],
 "nbformat_minor": 3,
 "metadata": {
  "language_info": {
   "file_extension": ".jl",
   "mimetype": "application/julia",
   "name": "julia",
   "version": "1.10.5"
  },
  "kernelspec": {
   "name": "julia-1.10",
   "display_name": "Julia 1.10.5",
   "language": "julia"
  }
 },
 "nbformat": 4
}
