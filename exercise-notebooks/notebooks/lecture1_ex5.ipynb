{
 "cells": [
  {
   "cell_type": "markdown",
   "source": [
    "## Exercise 5 _(optional)_ - **Many volcanic bombs**"
   ],
   "metadata": {}
  },
  {
   "cell_type": "markdown",
   "source": [
    "The goal of this exercise is to consolidate:\n",
    "- vectorisation and element-wise operations using `.`\n",
    "- random numbers\n",
    "- array initialisation\n",
    "- conditional statement"
   ],
   "metadata": {}
  },
  {
   "cell_type": "markdown",
   "source": [
    "The goal is to extend the volcanic bomb calculator (exercise 3) to handle `nb` bombs.\n",
    "\n",
    "To do so, start from the script you wrote to predict the trajectory of a single volcanic bomb and extend it to handle `nb` bombs.\n",
    "\n",
    "Declare a new variable for the number of volcanic bombs"
   ],
   "metadata": {}
  },
  {
   "outputs": [],
   "cell_type": "code",
   "source": [
    "nb = 5 # number of volcanic bombs"
   ],
   "metadata": {},
   "execution_count": null
  },
  {
   "cell_type": "markdown",
   "source": [
    "Then, replace the vertical angle of ejection α to randomly vary between 60° and 120° with respect to the horizon for each bomb. Keep the magnitude of the ejection velocity as before, i.e. $V=120$ m/s."
   ],
   "metadata": {}
  },
  {
   "cell_type": "markdown",
   "source": [
    "> 💡 hint: Use the `randn()` function to generate random numbers normally distributed."
   ],
   "metadata": {}
  },
  {
   "cell_type": "markdown",
   "source": [
    "All bombs have the same initial location $(x=0, y=480)$ as before.\n",
    "\n",
    "Implement the necessary modifications in the time loop in order to update the position of all volcanic bombs correctly.\n",
    "\n",
    "Ensure the bombs stop their motion once they hit the ground (at position $y=0$).\n",
    "\n",
    "### Question 1\n",
    "\n",
    "Report the total time it takes for the last, out of 5, volcanic bombs to hit the ground and provide a figure that visualise the bombs' overall trajectories.\n",
    "\n",
    "### Question 2\n",
    "\n",
    "Repeat the exercise 1 but vectorise all your code, i.e. make use of broadcasting capabilities in Julia (using `.` operator) to only have a single loop for advancing in time."
   ],
   "metadata": {}
  }
 ],
 "nbformat_minor": 3,
 "metadata": {
  "language_info": {
   "file_extension": ".jl",
   "mimetype": "application/julia",
   "name": "julia",
   "version": "1.9.3"
  },
  "kernelspec": {
   "name": "julia-1.9",
   "display_name": "Julia 1.9.3",
   "language": "julia"
  }
 },
 "nbformat": 4
}
