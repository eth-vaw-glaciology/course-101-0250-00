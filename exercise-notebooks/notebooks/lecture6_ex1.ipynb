{
 "cells": [
  {
   "cell_type": "markdown",
   "source": [
    "## Exercise 1 - **Data transfer optimisations**"
   ],
   "metadata": {}
  },
  {
   "cell_type": "markdown",
   "source": [
    "The goal of this exercise is to:\n",
    "- learn how to minimize redundant main memory transfers and understand its importance;\n",
    "- understand the limits of the *total memory throughput* metric for performance evaluation;\n",
    "- learn how to compute the *effective memory throughput* and understand its interest;\n",
    "- learn about GPU array and kernel programming on the way.\n",
    "\n",
    "Prerequisites:\n",
    "- the lecture 6 *Benchmarking memory copy and establishing peak memory access performance* ([`l6_1-gpu-memcopy.ipynb`](https://github.com/eth-vaw-glaciology/course-101-0250-00/blob/main/slide-notebooks/notebooks/l6_1-gpu-memcopy.ipynb))\n",
    "\n",
    "[*This content is distributed under MIT licence. Authors: S. Omlin (CSCS), L. Räss (ETHZ).*](https://github.com/eth-vaw-glaciology/course-101-0250-00/blob/main/LICENSE.md)"
   ],
   "metadata": {}
  },
  {
   "cell_type": "markdown",
   "source": [
    "### Getting started\n",
    "\n",
    "👉 Download the [`lecture6_ex1.ipynb`](https://github.com/eth-vaw-glaciology/course-101-0250-00/blob/main/exercise-notebooks/notebooks/lecture6_ex1.ipynb) notebook and edit it.\n",
    "\n",
    "- Create a new folder in your GitHub repository for this week's (`lecture6`) exercises, including a `README.md` (as usual).\n",
    "- Hand-in the finalised notebook in your GitHub lectrue 6 folder and;\n",
    "- Report the output of Task 7 in the `README.md`."
   ],
   "metadata": {}
  },
  {
   "cell_type": "markdown",
   "source": [
    "> 💡 note: Values reported in this exercise are for the Nvidia P100 16GB PCIe GPU."
   ],
   "metadata": {}
  },
  {
   "cell_type": "markdown",
   "source": [
    "We will again use the packages `CUDA`, `BenchmarkTools` and `Plots` to create a little performance laboratory:"
   ],
   "metadata": {}
  },
  {
   "outputs": [],
   "cell_type": "code",
   "source": [
    "using IJulia\n",
    "using CUDA\n",
    "using BenchmarkTools\n",
    "using Plots"
   ],
   "metadata": {},
   "execution_count": null
  },
  {
   "cell_type": "markdown",
   "source": [
    "Before we go further, make sure we select the GPU we want to run on (if running on a multi-GPU node). In the terminal or Julia REPL in shell mode (typing `;`), type `nvidia-smi` command to list visible GPUs. Remember the GPU_ID you want to use.\n",
    "\n",
    "Then, in Julia, add following if you decide to, e.g., use GPU 0:"
   ],
   "metadata": {}
  },
  {
   "outputs": [],
   "cell_type": "code",
   "source": [
    "GPU_ID = 0\n",
    "device!(GPU_ID)"
   ],
   "metadata": {},
   "execution_count": null
  },
  {
   "cell_type": "markdown",
   "source": [
    "> 💡 note: Having multiple users accessing the same GPU will result in severe performance deprecation."
   ],
   "metadata": {}
  },
  {
   "cell_type": "markdown",
   "source": [
    "Let us consider the following 2-D heat diffusion solver (the comments explain the code):"
   ],
   "metadata": {}
  },
  {
   "outputs": [],
   "cell_type": "code",
   "source": [
    "function diffusion2D()\n",
    "    # Physics\n",
    "    lam      = 1.0                                          # Thermal conductivity\n",
    "    c0       = 2.0                                          # Heat capacity\n",
    "    lx, ly   = 10.0, 10.0                                   # Length of computational domain in dimension x and y\n",
    "\n",
    "    # Numerics\n",
    "    nx, ny   = 32*2, 32*2                                   # Number of gridpoints in dimensions x and y\n",
    "    nt       = 100                                          # Number of time steps\n",
    "    dx       = lx/(nx-1)                                    # Space step in x-dimension\n",
    "    dy       = ly/(ny-1)                                    # Space step in y-dimension\n",
    "    _dx, _dy = 1.0/dx, 1.0/dy\n",
    "\n",
    "    # Array initializations\n",
    "    T    = CUDA.zeros(Float64, nx, ny)                      # Temperature\n",
    "    Ci   = CUDA.zeros(Float64, nx, ny)                      # 1/Heat capacity\n",
    "    qTx  = CUDA.zeros(Float64, nx-1, ny-2)                  # Heat flux, x component\n",
    "    qTy  = CUDA.zeros(Float64, nx-2, ny-1)                  # Heat flux, y component\n",
    "    dTdt = CUDA.zeros(Float64, nx-2, ny-2)                  # Change of Temperature in time\n",
    "\n",
    "    # Initial conditions\n",
    "    Ci .= 1/c0                                              # 1/Heat capacity (could vary in space)\n",
    "    T  .= CuArray([10.0*exp(-(((ix-1)*dx-lx/2)/2)^2-(((iy-1)*dy-ly/2)/2)^2) for ix=1:size(T,1), iy=1:size(T,2)]) # Initialization of Gaussian temperature anomaly\n",
    "\n",
    "    # Time loop\n",
    "    dt  = min(dx^2,dy^2)/lam/maximum(Ci)/4.1                # Time step for 2D Heat diffusion\n",
    "    opts = (aspect_ratio=1, xlims=(1, nx), ylims=(1, ny), clims=(0.0, 10.0), c=:davos, xlabel=\"Lx\", ylabel=\"Ly\") # plotting options\n",
    "    for it = 1:nt\n",
    "        diffusion2D_step!(T, Ci, qTx, qTy, dTdt, lam, dt, _dx, _dy) # Diffusion time step.\n",
    "        if it % 10 == 0\n",
    "            IJulia.clear_output(true)\n",
    "            display(heatmap(Array(T)'; opts...))            # Visualization\n",
    "            sleep(0.1)\n",
    "        end\n",
    "    end\n",
    "end"
   ],
   "metadata": {},
   "execution_count": null
  },
  {
   "cell_type": "markdown",
   "source": [
    "> 💡 note: Divisions are precomputed as they are slower than multiplications."
   ],
   "metadata": {}
  },
  {
   "cell_type": "markdown",
   "source": [
    "The function to compute an actual time step is still missing to complete this solver. It can be written, e.g., as follows with finite differences using GPU *array programming* (AP):"
   ],
   "metadata": {}
  },
  {
   "outputs": [],
   "cell_type": "code",
   "source": [
    "@inbounds @views macro d_xa(A) esc(:( ($A[2:end  , :     ] .- $A[1:end-1, :     ]) )) end\n",
    "@inbounds @views macro d_xi(A) esc(:( ($A[2:end  ,2:end-1] .- $A[1:end-1,2:end-1]) )) end\n",
    "@inbounds @views macro d_ya(A) esc(:( ($A[ :     ,2:end  ] .- $A[ :     ,1:end-1]) )) end\n",
    "@inbounds @views macro d_yi(A) esc(:( ($A[2:end-1,2:end  ] .- $A[2:end-1,1:end-1]) )) end\n",
    "@inbounds @views macro  inn(A) esc(:( $A[2:end-1,2:end-1]                          )) end\n",
    "\n",
    "@inbounds @views function diffusion2D_step!(T, Ci, qTx, qTy, dTdt, lam, dt, _dx, _dy)\n",
    "    qTx     .= .-lam.*@d_xi(T).*_dx                              # Fourier's law of heat conduction: qT_x  = -λ ∂T/∂x\n",
    "    qTy     .= .-lam.*@d_yi(T).*_dy                              # ...                               qT_y  = -λ ∂T/∂y\n",
    "    dTdt    .= @inn(Ci).*(.-@d_xa(qTx).*_dx .- @d_ya(qTy).*_dy)  # Conservation of energy:           ∂T/∂t = 1/cp (-∂qT_x/∂x - ∂qT_y/∂y)\n",
    "    @inn(T) .= @inn(T) .+ dt.*dTdt                               # Update of temperature             T_new = T_old + ∂t ∂T/∂t\n",
    "end"
   ],
   "metadata": {},
   "execution_count": null
  },
  {
   "cell_type": "markdown",
   "source": [
    "> 💡 note: We use everywhere views to avoid allocations of temporary arrays (see [here](https://docs.julialang.org/en/v1/manual/performance-tips/#man-performance-views) for more information)."
   ],
   "metadata": {}
  },
  {
   "cell_type": "markdown",
   "source": [
    "> 💡 note: We use everywhere dots to fuse vectorized operations and avoid any allocations of temporary arrays (see [here](https://docs.julialang.org/en/v1/manual/performance-tips/#More-dots:-Fuse-vectorized-operations) for more information). We wrote all dots explicitly for clarity; the [macro `@.`](https://docs.julialang.org/en/v1/base/arrays/#Base.Broadcast.@__dot__) removes the need of writing all dots explicitly."
   ],
   "metadata": {}
  },
  {
   "cell_type": "markdown",
   "source": [
    "> 💡 note: We use simple macros to enable nice syntax, in particular macros can be used also on the left side of an equal sign (learn [here](https://docs.julialang.org/en/v1/manual/metaprogramming/#man-macros) more about macros)."
   ],
   "metadata": {}
  },
  {
   "cell_type": "markdown",
   "source": [
    "Run now the 2-D heat diffusion solver to verify that it is working:"
   ],
   "metadata": {}
  },
  {
   "outputs": [],
   "cell_type": "code",
   "source": [
    "diffusion2D()"
   ],
   "metadata": {},
   "execution_count": null
  },
  {
   "cell_type": "markdown",
   "source": [
    "### Task 1 (Benchmarking)\n",
    "\n",
    "Benchmark the function `diffusion2D_step!` using BenchmarkTools and compute a straightforward *lower bound of the total memory throughput*, `T_tot_lb`; then, compare it to the *peak memory throughput*, `T_peak`. You can compute `T_tot_lb` considering only full array reads and writes and knowing that there is no data reuse between different GPU array computation statements as each statement is translated into a separate and independently launched kernel (note that to obtain the actual `T_tot`, one would need to use a profiler).\n",
    "\n",
    "Furthermore, use the `nx=ny` found best in the introduction notebook ([`1_memorycopy.ipynb`](https://github.com/eth-vaw-glaciology/course-101-0250-00/blob/main/slide-notebooks/notebooks/l6_1-gpu-memcopy.ipynb)) to allocate the necessary arrays if the amount of memory of your GPU allows it (else divide this `nx` and `ny` by 2).\n",
    "\n",
    "To help you, there is already some code below to initialize the required arrays and scalars for the benchmarking.\n",
    "> 💡 hint: Do not forget to interpolate these predefined variables into the benchmarking expression using `$` and note that you do not need to call the solver itself (`diffusion2D`)!"
   ],
   "metadata": {}
  },
  {
   "outputs": [],
   "cell_type": "code",
   "source": [
    "nx = ny = # complete!\n",
    "T    = CUDA.rand(Float64, nx, ny);\n",
    "Ci   = CUDA.rand(Float64, nx, ny);\n",
    "qTx  = CUDA.zeros(Float64, nx-1, ny-2);\n",
    "qTy  = CUDA.zeros(Float64, nx-2, ny-1);\n",
    "dTdt = CUDA.zeros(Float64, nx-2, ny-2);\n",
    "lam = _dx = _dy = dt = rand();"
   ],
   "metadata": {},
   "execution_count": null
  },
  {
   "outputs": [],
   "cell_type": "code",
   "source": [
    "# solution\n",
    "t_it = @belapsed begin ... end\n",
    "T_tot_lb = .../1e9*nx*ny*sizeof(Float64)/t_it"
   ],
   "metadata": {},
   "execution_count": null
  },
  {
   "cell_type": "markdown",
   "source": [
    "Save the measured minimal runtime and the computed `T_tot_lb` in other variables (`t_it_task1` and `T_tot_lb_task1`) in order not to overwrite them later (adapt these two lines if you used other variable names!); moreover, we will remove the arrays we do no longer need in order to save space:"
   ],
   "metadata": {}
  },
  {
   "outputs": [],
   "cell_type": "code",
   "source": [
    "t_it_task1 = t_it\n",
    "T_tot_lb_task1 = T_tot_lb\n",
    "CUDA.unsafe_free!(qTx)\n",
    "CUDA.unsafe_free!(qTy)\n",
    "CUDA.unsafe_free!(dTdt)"
   ],
   "metadata": {},
   "execution_count": null
  },
  {
   "cell_type": "markdown",
   "source": [
    "`T_tot_lb` should be relatively close to `T_peak`. Nevertheless, one could do these computations at least three times faster. You may wonder why it is possible to predict that just looking at the code. It is because three of the four arrays that are updated every iteration are not computed based on their values in the previous iteration and their individual values could therefore be computed on-the-fly when needed or stored in the much faster on-chip memory as intermediate results; these three arrays would never need to be stored in main memory and read from there. Only the temperature array (`T`) needs inevitably to be read from main memory and written to it at every iteration as is computed based on its values from the previous iteration (and the entire temperature array is orders of magnitudes bigger than the available on-chip memory). In addition, the heat capacity array (`Ci`) needs to be entirely read at every iteration. To sum up, all but three of eleven full array memory reads or writes can be avoided. If we avoid them, we reduce the main memory accesses by more than a factor three and can therefore expect the code to be at least three times faster.\n",
    "\n",
    "As a consequence, `T_tot` and `T_tot_lb` are often not good metrics to evaluate the optimality of an implementation. Based on these reflections, we will introduce a better metric for the performance evaluation of solvers as the above. But first, let us verify that we can indeed speed up these computations by a factor three or more."
   ],
   "metadata": {}
  },
  {
   "cell_type": "markdown",
   "source": [
    "With GPU kernel programming, we could do that as just described, fusing the four kernels that correspond to the four GPU array programming statements into one. However, we want to try an easier solution using GPU array programming at this point.\n",
    "\n",
    "There is, however, no obvious way to compute values on-the-fly when needed or to store intermediate result on chip in order to achieve the above described. We can instead do the equivalent mathematically: we can substitute `qTx` and `qTy` into the expression to compute `dTdt` and then substitute this in turn into the expression to compute `T` to get:\n",
    "\n",
    "$$ T_\\mathrm{new} = T_\\mathrm{old} + ∂t~\\frac{1}{c_p} \\left( -\\frac{∂}{∂x} \\left(-λ~\\frac{∂T}{∂x}\\right) -\\frac{∂}{∂y} \\left(-λ~\\frac{∂T}{∂y}\\right) \\right) $$\n",
    "\n",
    "Note that this would obviously be mathematically equivalent to the temperature update rule that we would obtain based on the commonly used heat diffusion equation **for constant and scalar** $λ$:\n",
    "\n",
    "$$ T_\\mathrm{new} = T_\\mathrm{old} + ∂t~\\frac{λ}{c_p} \\left( \\frac{∂^2T}{∂x^2} + \\frac{∂^2T}{∂y^2} \\right) $$\n",
    "\n",
    "We will though use (2) in order not to make limiting assumptions and simplify the computations done in `diffusion2D_step!`, but to solely optimize data transfer."
   ],
   "metadata": {}
  },
  {
   "cell_type": "markdown",
   "source": [
    "We remove therefore the arrays `qTx`, `qTy` and `dTdt` in the main function of the 2-D heat diffusion solver as they are no longer needed; moreover, we introduce `T2` as a second array for the temperature. `T2` is needed to write newly computed temperature values to a different location then the old temperature values while they are still needed for computations (else we would perform the spatial derivatives partly with new temperature values instead of only with old ones). Here is the resulting main function:"
   ],
   "metadata": {}
  },
  {
   "outputs": [],
   "cell_type": "code",
   "source": [
    "function diffusion2D()\n",
    "    # Physics\n",
    "    lam      = 1.0                                          # Thermal conductivity\n",
    "    c0       = 2.0                                          # Heat capacity\n",
    "    lx, ly   = 10.0, 10.0                                   # Length of computational domain in dimension x and y\n",
    "\n",
    "    # Numerics\n",
    "    nx, ny   = 32*2, 32*2                                   # Number of gridpoints in dimensions x and y\n",
    "    nt       = 100                                          # Number of time steps\n",
    "    dx       = lx/(nx-1)                                    # Space step in x-dimension\n",
    "    dy       = ly/(ny-1)                                    # Space step in y-dimension\n",
    "    _dx, _dy = 1.0/dx, 1.0/dy\n",
    "\n",
    "    # Array initializations\n",
    "    T    = CUDA.zeros(Float64, nx, ny)                      # Temperature\n",
    "    T2   = CUDA.zeros(Float64, nx, ny)                      # 2nd array for Temperature\n",
    "    Ci   = CUDA.zeros(Float64, nx, ny)                      # 1/Heat capacity\n",
    "\n",
    "    # Initial conditions\n",
    "    Ci .= 1/c0                                              # 1/Heat capacity (could vary in space)\n",
    "    T  .= CuArray([10.0*exp(-(((ix-1)*dx-lx/2)/2)^2-(((iy-1)*dy-ly/2)/2)^2) for ix=1:size(T,1), iy=1:size(T,2)]) # Initialization of Gaussian temperature anomaly\n",
    "    T2 .= T;                                                 # Assign also T2 to get correct boundary conditions.\n",
    "\n",
    "    # Time loop\n",
    "    dt  = min(dx^2,dy^2)/lam/maximum(Ci)/4.1                # Time step for 2D Heat diffusion\n",
    "    opts = (aspect_ratio=1, xlims=(1, nx), ylims=(1, ny), clims=(0.0, 10.0), c=:davos, xlabel=\"Lx\", ylabel=\"Ly\") # plotting options\n",
    "    for it = 1:nt\n",
    "        diffusion2D_step!(T2, T, Ci, lam, dt, _dx, _dy)     # Diffusion time step.\n",
    "        if it % 10 == 0\n",
    "            IJulia.clear_output(true)\n",
    "            display(heatmap(Array(T)'; opts...))            # Visualization\n",
    "            sleep(0.1)\n",
    "        end\n",
    "        T, T2 = T2, T                                       # Swap the aliases T and T2 (does not perform any array copy)\n",
    "    end\n",
    "end"
   ],
   "metadata": {},
   "execution_count": null
  },
  {
   "cell_type": "markdown",
   "source": [
    "### Task 2 (GPU array programming)\n",
    "\n",
    "Write the corresponding function `diffusion2D_step!` to compute a time step using the temperature update rule (2); write it in **a single GPU array programming statement** (it should go over multiple lines) and without using any helper macros or functions in order to be sure that all computations will get fused into one single kernel.\n",
    "> 💡 hint: Make sure to use the correct function signature: `diffusion2D_step!(T2, T, Ci, lam, dt, _dx, _dy)`."
   ],
   "metadata": {}
  },
  {
   "cell_type": "markdown",
   "source": [
    "> 💡 hint: To verify that it does the right computations, you can launch `diffusion2D()`."
   ],
   "metadata": {}
  },
  {
   "cell_type": "markdown",
   "source": [
    "> 💡 hint: Only add the `@inbounds` macro to the function once you have verified that it work as they should.`"
   ],
   "metadata": {}
  },
  {
   "outputs": [],
   "cell_type": "code",
   "source": [
    "# solution\n",
    "@inbounds @views function diffusion2D_step!(T2, T, Ci, lam, dt, _dx, _dy)\n",
    "    T2[2:end-1,2:end-1] .= T[2:end-1,2:end-1] .+ dt.* ...\n",
    "end"
   ],
   "metadata": {},
   "execution_count": null
  },
  {
   "cell_type": "markdown",
   "source": [
    "### Task 3 (Benchmarking)\n",
    "\n",
    "Benchmark the new function `diffusion2D_step!` and compute the runtime speed-up compared to the function benchmarked in Task 1. Then, compute `T_tot_lb` and the ratio between this `T_tot_lb` and the one obtained in Task 1."
   ],
   "metadata": {}
  },
  {
   "outputs": [],
   "cell_type": "code",
   "source": [
    "# solution\n",
    "T2 = ...\n",
    "t_it = @belapsed begin ...; synchronize() end\n",
    "speedup = t_it_task1/t_it\n",
    "T_tot_lb = .../1e9*nx*ny*sizeof(Float64)/t_it\n",
    "ratio_T_tot_lb = ..."
   ],
   "metadata": {},
   "execution_count": null
  },
  {
   "cell_type": "markdown",
   "source": [
    "Save the measured minimal runtime and the computed T_tot_lb in other variables (`t_it_task3` and `T_tot_lb_task3`) in order not to overwrite them later (adapt these two lines if you used other variable names!):"
   ],
   "metadata": {}
  },
  {
   "outputs": [],
   "cell_type": "code",
   "source": [
    "t_it_task3 = t_it\n",
    "T_tot_lb_task3 = T_tot_lb"
   ],
   "metadata": {},
   "execution_count": null
  },
  {
   "cell_type": "markdown",
   "source": [
    "You should have observed a significant speedup (a speedup of factor 2 measured with the Tesla P100 GPU) even though `T_tot_lb` has probably decreased (to 214 GB/s with the Tesla P100 GPU, i.e about 56% of `T_tot_lb` measured in task 1). This empirically confirms our earlier statement that `T_tot_lb` and consequently also `T_tot` (measured with a profiler) are often not good metrics to evaluate the **optimality** of an implementation.\n",
    "\n",
    "A good metric should certainly be tightly linked to observed runtime. We will now try to further speedup the function `diffusion2D_step!` using straightforward GPU kernel programming."
   ],
   "metadata": {}
  },
  {
   "cell_type": "markdown",
   "source": [
    "### Task 4 (GPU kernel programming)\n",
    "\n",
    "Rewrite the function `diffusion2D_step!` using GPU kernel programming: from within this function, call a GPU kernel, which updates the temperature using update rule (2) (you also need to write this kernel); for simplicity's sake, hardcode the kernel launch parameter `threads` found best in the introduction ([`l6_1-gpu-memcopy.ipynb`](https://github.com/eth-vaw-glaciology/course-101-0250-00/blob/main/slide-notebooks/notebooks/l6_1-gpu-memcopy.ipynb)) into the function and compute `blocks` accordingly in order to have it work with the existing main function `diffusion2` (use the function `size` instead of `nx` and `ny` to compute `blocks`).\n",
    "> 💡 hint: You can base yourself on the kernel `memcopy_triad_KP!` from the introdution notebook to help you remember the very basics of GPU kernel programming."
   ],
   "metadata": {}
  },
  {
   "cell_type": "markdown",
   "source": [
    "> 💡 hint: In this kind of kernels, the computations are described for one array cell (here `T2[ix,iy]`) rather than for whole arrays - just like in a for loop; moreover, if-statements allow to ensure to remain within the array boundaries (in for loop this is achieved with the loop ranges)."
   ],
   "metadata": {}
  },
  {
   "cell_type": "markdown",
   "source": [
    "> 💡 hint: To verify that it does the right computations, you can launch `diffusion2D()` (as in task 2)."
   ],
   "metadata": {}
  },
  {
   "cell_type": "markdown",
   "source": [
    "> 💡 hint: Add the `@inbounds` macro direcly in front of the Temperature assignement (`T2[ix,iy]`) as else it does not propagate to the computations (more information on the propagation of `@inbounds` can be found [here](https://docs.julialang.org/en/v1/devdocs/boundscheck/); however, as noted earlier, outside of these exercises, it is often more convenient to activate and deactivate bounds-checking globally instead of using the `@inbounds` macro)."
   ],
   "metadata": {}
  },
  {
   "cell_type": "markdown",
   "source": [
    "> 💡 hint: Only add the `@inbounds` macro to the function once you have verified that it work as they should (as in task 2)."
   ],
   "metadata": {}
  },
  {
   "outputs": [],
   "cell_type": "code",
   "source": [
    "# solution\n",
    "function diffusion2D_step!(...)\n",
    "    threads = (..., ...)\n",
    "    blocks  = (size(...)÷threads[1], size(...)÷threads[2])\n",
    "    @cuda ...\n",
    "end\n",
    "\n",
    "function update_temperature!(...)\n",
    "    ix = ...\n",
    "    iy = ...\n",
    "    if (ix... && iy... )\n",
    "        @inbounds T2[ix,iy] = T[ix,iy] + dt*(Ci[ix,iy]*( ... ))\n",
    "    end\n",
    "    return\n",
    "end"
   ],
   "metadata": {},
   "execution_count": null
  },
  {
   "cell_type": "markdown",
   "source": [
    "### Task 5 (Benchmarking)\n",
    "\n",
    "Just like in Task 3, benchmark the new function `diffusion2D_step!` and compute the runtime speedup compared to the function benchmarked in Task 1. Then, compute `T_tot_lb` and the ratio between this `T_tot_lb` and the one obtained in Task 1."
   ],
   "metadata": {}
  },
  {
   "outputs": [],
   "cell_type": "code",
   "source": [
    "# solution\n",
    "t_it = @belapsed begin ...; synchronize() end\n",
    "speedup = ...\n",
    "T_tot_lb = .../1e9*nx*ny*sizeof(Float64)/t_it\n",
    "ratio_T_tot_lb = ..."
   ],
   "metadata": {},
   "execution_count": null
  },
  {
   "cell_type": "markdown",
   "source": [
    "The runtime speedup is probably even higher (a speedup of factor 5 measured with the Tesla P100 GPU), even though `T_tot_lb` is probably somewhat similar to the one obtained in task 1 (524 GB/s with the Tesla P100 GPU, i.e about 36% above `T_tot_lb` measured in task 1). We will now define a better metric for the performance evaluation of solvers like the one above, which is always proportional to observed runtime.\n",
    "\n",
    "To this aim, let us recall first the reflections made after benchmarking the original GPU array programming code in Task 1:\n",
    "> three of the four arrays that are updated every iteration are not computed based on their values in the previous iteration and their individual values could therefore be computed on-the-fly when needed or stored in the much faster on-chip memory as intermediate results; these three arrays would never need to be stored in main memory and read from there. Only the temperature array (`T`) needs inevitably to be read from main memory and written to it at every iteration as is computed based on its values from the previous iteration (and the entire temperature array is orders of magnitudes bigger than the available on-chip memory). In addition, the heat capacity array (`Ci`) needs to be entirely read at every iteration. To sum up, all but three of eleven full array memory reads or writes can be avoided. If we avoid them, we reduce the main memory accesses by more than a factor three and can therefore expect the code to be at least three times faster.\n",
    "\n",
    "With this in mind, we will now define the metric, which we call the *effective memory throughput*, $T_\\mathrm{eff}$."
   ],
   "metadata": {}
  },
  {
   "cell_type": "markdown",
   "source": [
    "The effective memory access, $A_\\mathrm{eff}$ [GB], is the the sum of twice the memory footprint of the unknown fields, $D_\\mathrm{u}$, (fields that depend on their own history and that need to be updated every iteration) and the known fields, $D_\\mathrm{k}$, that do not change every iteration. The effective memory access divided by the execution time per iteration, t_it [sec], defines the effective memory throughput, $T_\\mathrm{eff}$ [GB/s]:\n",
    "\n",
    "$$ A_\\mathrm{eff} = 2~D_\\mathrm{u} + D_\\mathrm{k} $$\n",
    "\n",
    "$$ T_\\mathrm{eff} = \\frac{A_\\mathrm{eff}}{t_\\mathrm{it}} $$\n",
    "\n",
    "The upper bound of $T_\\mathrm{eff}$ is $T_\\mathrm{peak}$ as measured e.g. by [McCalpin, 1995](https://www.researchgate.net/publication/51992086_Memory_bandwidth_and_machine_balance_in_high_performance_computers) for CPUs or a GPU analogue. Defining the $T_\\mathrm{eff}$ metric, we assume that 1) we evaluate an iterative stencil-based solver, 2) the problem size is much larger than the cache sizes and 3) the usage of time blocking is not feasible or advantageous (which is a reasonable assumption for real-world applications). An important concept is not to include fields within the effective memory access that do not depend on their own history (e.g. fluxes); such fields can be re-computed on the fly or stored on-chip. Defining a theoretical upper bound for $T_\\mathrm{eff}$ that is closer to the real upper bound is work in progress."
   ],
   "metadata": {}
  },
  {
   "cell_type": "markdown",
   "source": [
    "### Task 6 (Benchmarking)\n",
    "\n",
    "Compute the effective memory throughput, $T_\\mathrm{eff}$, for the solvers benchmarked in Task 1, 3 and 5 (you do not need to redo any benchmarking, but you can compute it based on the saved measured runtimes in these three tasks) and recompute the speedup achieved in Task 3 and 5 based on $T_\\mathrm{eff}$ instead of based on the runtime; compare the newly computed speedups with the previous."
   ],
   "metadata": {}
  },
  {
   "outputs": [],
   "cell_type": "code",
   "source": [
    "# solution\n",
    "T_eff_task1 = .../t_it_task1\n",
    "T_eff_task3 = .../t_it_task3\n",
    "T_eff_task5 = .../t_it\n",
    "speedup_Teff_task3 = T_eff_task3/T_eff_task1\n",
    "speedup_Teff_task5 = T_eff_task5/T_eff_task1"
   ],
   "metadata": {},
   "execution_count": null
  },
  {
   "cell_type": "markdown",
   "source": [
    "Did the speedups you recomputed differ from the previous ones?\n",
    "\n",
    "If yes, then you made a mistake. Due to the way $T_\\mathrm{eff}$ is defined, it is always proportional to observed runtime and it reflects therefore any runtime speedup by 100% while the problem size and the number data type are kept fixed. If, however, you increase these parameters, then T_eff will reflect the additionally performed work and it therefore enables the comparison of the performance achieved in function of the problem size (or number data type). It even allows to compare the performance of different solvers or implementations to a certain point.\n",
    "\n",
    "Most importantly though, comparing a measured $T_\\mathrm{eff}$ with $T_\\mathrm{peak}$ informs us about room for performance improvement."
   ],
   "metadata": {}
  },
  {
   "cell_type": "markdown",
   "source": [
    "### Task 7 (Benchmarking)\n",
    "\n",
    "Compute by how much percent you can improve the performance of the solver at most:"
   ],
   "metadata": {}
  },
  {
   "outputs": [],
   "cell_type": "code",
   "source": [
    "#solution for P100\n",
    "T_peak = ... # Peak memory throughput of the Tesla P100 GPU\n",
    "@show T_eff/T_peak"
   ],
   "metadata": {},
   "execution_count": null
  },
  {
   "cell_type": "markdown",
   "source": [
    "Report the value and potentially a short explanation in the `README.md` on GitHub, within lecture 6 folder (do not forget to upload this finalised notebook as well)."
   ],
   "metadata": {}
  }
 ],
 "nbformat_minor": 3,
 "metadata": {
  "language_info": {
   "file_extension": ".jl",
   "mimetype": "application/julia",
   "name": "julia",
   "version": "1.9.3"
  },
  "kernelspec": {
   "name": "julia-1.9",
   "display_name": "Julia 1.9.3",
   "language": "julia"
  }
 },
 "nbformat": 4
}
