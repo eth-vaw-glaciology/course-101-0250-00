{
 "cells": [
  {
   "cell_type": "markdown",
   "source": [
    "## Exercise 2 - **Automatic documentation in Julia**"
   ],
   "metadata": {}
  },
  {
   "cell_type": "markdown",
   "source": [
    "The goal of this exercise is to:\n",
    "- write some documentation\n",
    "  - using [doc-strings](https://docs.julialang.org/en/v1/manual/documentation/)\n",
    "  - using [`Literate.jl`](https://github.com/fredrikekre/Literate.jl)\n",
    "\n",
    "One task you've already done, namely to update the `README.md` of this set of exercises!"
   ],
   "metadata": {}
  },
  {
   "cell_type": "markdown",
   "source": [
    "Tasks:\n",
    "1. Add doc-string to the functions of following scripts:\n",
    "    - `PorousConvection_3D_xpu.jl`\n",
    "    - `PorousConvection_3D_multixpu.jl`\n",
    "2. Add to the `PorousConvection` folder  a `Literate.jl` script called `bin_io_script.jl` that contains and documents following `save_array` and `load_array` functions you may have used in your 3D script"
   ],
   "metadata": {}
  },
  {
   "outputs": [],
   "cell_type": "code",
   "source": [
    "\"\"\"\n",
    "Some docstring\n",
    "\"\"\"\n",
    "function save_array(Aname,A)\n",
    "    fname = string(Aname,\".bin\")\n",
    "    out = open(fname,\"w\"); write(out,A); close(out)\n",
    "end\n",
    "\n",
    "\"\"\"\n",
    "Some docstring\n",
    "\"\"\"\n",
    "function load_array(Aname,A)\n",
    "    fname = string(Aname,\".bin\")\n",
    "    fid=open(fname,\"r\"); read!(fid,A); close(fid)\n",
    "end"
   ],
   "metadata": {},
   "execution_count": null
  },
  {
   "cell_type": "markdown",
   "source": [
    "Add to the `bin_io_script.jl` a `main()` function that will:\n",
    "- generate a `3x3` array `A` of random numbers\n",
    "- initialise a second array `B` to hold the read-in results\n",
    "- call the `save_array` function and save the random number array\n",
    "- call the `load_array` function and read the random number array in `B`\n",
    "- return B\n",
    "- call the main function making and plotting as following"
   ],
   "metadata": {}
  },
  {
   "outputs": [],
   "cell_type": "code",
   "source": [
    "B = main()\n",
    "heatmap(B)"
   ],
   "metadata": {},
   "execution_count": null
  },
  {
   "cell_type": "markdown",
   "source": [
    "3. Make the Literate-based workflow to automatically build on GitHub using GitHub Actions. For this, you need to add to the `.github/workflow` folder (the one containing your `CI.yml` for testing) the `Literate.yml` script which we saw in this lecture's section [Documentation tools: Automating Literate.jl](lecture9/#documentation_tools_automating_literatejl).\n",
    "\n",
    "4. That's all! Head to the [Project section in Logistics](/logistics/#project) for a check-list about what you should hand in for this first project."
   ],
   "metadata": {}
  }
 ],
 "nbformat_minor": 3,
 "metadata": {
  "language_info": {
   "file_extension": ".jl",
   "mimetype": "application/julia",
   "name": "julia",
   "version": "1.9.4"
  },
  "kernelspec": {
   "name": "julia-1.9",
   "display_name": "Julia 1.9.4",
   "language": "julia"
  }
 },
 "nbformat": 4
}
