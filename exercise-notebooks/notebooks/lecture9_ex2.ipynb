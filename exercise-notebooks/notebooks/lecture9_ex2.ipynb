{
 "cells": [
  {
   "cell_type": "markdown",
   "source": [
    "## Exercise 2 - **Automatic documentation in Julia**"
   ],
   "metadata": {}
  },
  {
   "cell_type": "markdown",
   "source": [
    "The goal of this exercise is to:\n",
    "- write some documentation\n",
    "  - using [doc-strings](https://docs.julialang.org/en/v1/manual/documentation/)\n",
    "  - using [`Literate.jl`](https://github.com/fredrikekre/Literate.jl)\n",
    "\n",
    "One task you've already done, namely to update the `README.md` of this set of exercises!"
   ],
   "metadata": {}
  },
  {
   "cell_type": "markdown",
   "source": [
    "Tasks:\n",
    "1. Add doc-string to the functions of following scripts:\n",
    "    - `PorousConvection_3D_xpu.jl`\n",
    "    - `PorousConvection_3D_multixpu.jl`\n",
    "2. Add to the `PorousConvection` folder  a `Literate.jl` script called `bin_io_script.jl` that contains and documents following `save_array` and `load_array` functions you may have used in your 3D script"
   ],
   "metadata": {}
  },
  {
   "outputs": [],
   "cell_type": "code",
   "source": [
    "\"\"\"\n",
    "Some docstring\n",
    "\"\"\"\n",
    "function save_array(Aname,A)\n",
    "    fname = string(Aname,\".bin\")\n",
    "    out = open(fname,\"w\"); write(out,A); close(out)\n",
    "end\n",
    "\n",
    "\"\"\"\n",
    "Some docstring\n",
    "\"\"\"\n",
    "function load_array(Aname,A)\n",
    "    fname = string(Aname,\".bin\")\n",
    "    fid=open(fname,\"r\"); read!(fid,A); close(fid)\n",
    "end"
   ],
   "metadata": {},
   "execution_count": null
  },
  {
   "cell_type": "markdown",
   "source": [
    "Add to the `bin_io_script.jl` a `main()` function that will:\n",
    "- generate a `3x3` array `A` of random numbers\n",
    "- initialise a second array `B` to hold the read-in results\n",
    "- call the `save_array` function and save the random number array\n",
    "- call the `load_array` function and read the random number array in `B`\n",
    "- return B\n",
    "- call the main function making and plotting as following"
   ],
   "metadata": {}
  },
  {
   "outputs": [],
   "cell_type": "code",
   "source": [
    "B = main()\n",
    "heatmap(B)"
   ],
   "metadata": {},
   "execution_count": null
  },
  {
   "cell_type": "markdown",
   "source": [
    "3. Make the Literate-based workflow to automatically build on GitHub using GitHub Actions. For this, you need to add the `.github/workflow` folder (the one containing your `CI.yml` for testing) following `Literate.yml` script\n",
    "```yml\n",
    "name: Run Literate.jl\n",
    "# adapted from https://lannonbr.com/blog/2019-12-09-git-commit-in-actions\n",
    "\n",
    "on: push\n",
    "\n",
    "jobs:\n",
    "  lit:\n",
    "    runs-on: ubuntu-latest\n",
    "    steps:\n",
    "      # Checkout the branch\n",
    "      - uses: actions/checkout@v2\n",
    "\n",
    "      - uses: julia-actions/setup-julia@v1\n",
    "        with:\n",
    "          version: '1.8'\n",
    "          arch: x64\n",
    "\n",
    "      - uses: actions/cache@v1\n",
    "        env:\n",
    "          cache-name: cache-artifacts\n",
    "        with:\n",
    "          path: ~/.julia/artifacts\n",
    "          key: ${{ runner.os }}-test-${{ env.cache-name }}-${{ hashFiles('**/Project.toml') }}\n",
    "          restore-keys: |\n",
    "            ${{ runner.os }}-test-${{ env.cache-name }}-\n",
    "            ${{ runner.os }}-test-\n",
    "            ${{ runner.os }}-\n",
    "\n",
    "      - uses: julia-actions/julia-buildpkg@v1\n",
    "\n",
    "      - name: run Literate\n",
    "        run: |\n",
    "          cd PorousConvection\n",
    "          julia --color=yes --project -e 'using Pkg; Pkg.instantiate()'\n",
    "          julia --color=yes --project -e 'cd(\"scripts\"); include(\"literate-script.jl\")'\n",
    "          cd ..\n",
    "\n",
    "      - name: setup git config\n",
    "        run: |\n",
    "          # setup the username and email. I tend to use 'GitHub Actions Bot' with no email by default\n",
    "          git config user.name \"GitHub Actions Bot\"\n",
    "          git config user.email \"<>\"\n",
    "\n",
    "      - name: commit\n",
    "        run: |\n",
    "          # Stage the file, commit and push\n",
    "          git add PorousConvection/scripts/md/*\n",
    "          git commit -m \"Commit markdown files from Literate\"\n",
    "          git push origin main\n",
    "```\n",
    "\n",
    "4. That's all! Head to the [Project section in Logistics](/logistics/#project) for a check-list about what you should hand in for this first project."
   ],
   "metadata": {}
  }
 ],
 "nbformat_minor": 3,
 "metadata": {
  "language_info": {
   "file_extension": ".jl",
   "mimetype": "application/julia",
   "name": "julia",
   "version": "1.9.3"
  },
  "kernelspec": {
   "name": "julia-1.9",
   "display_name": "Julia 1.9.3",
   "language": "julia"
  }
 },
 "nbformat": 4
}
