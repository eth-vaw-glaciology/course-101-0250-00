{
 "cells": [
  {
   "cell_type": "markdown",
   "source": [
    "## Exercise 3 - **Unit tests**"
   ],
   "metadata": {}
  },
  {
   "cell_type": "markdown",
   "source": [
    "The goal of this exercise is to:\n",
    "- Implement basic unit tests for the diffusion and acoustic 2D scripts\n",
    "- Group the tests in a test-set"
   ],
   "metadata": {}
  },
  {
   "cell_type": "markdown",
   "source": [
    "For this exercise, you will implement a test set of basic unit tests using Julia's built-in testing infrastructure to verify the implementation of the diffusion and acoustic 2D solvers."
   ],
   "metadata": {}
  },
  {
   "cell_type": "markdown",
   "source": [
    "### Task 1\n",
    "\n",
    "In the `Pf_diffusion_2D` folder, duplicate the `Pf_diffusion_2D_perf_loop_fun.jl` script and rename it `Pf_diffusion_2D_test.jl`.\n",
    "\n",
    "Implement a test set using `@testset` and `@test` macros from Test.jl in order to test `Pf[xtest, ytest]` and assess that the values returned are approximatively equal to the following ones for the given values of `nx = ny`. Make sure to set `do_check = false` i.e. to ensure the code to run 500 iterations."
   ],
   "metadata": {}
  },
  {
   "outputs": [],
   "cell_type": "code",
   "source": [
    "xtest = [5, Int(cld(0.6*lx, dx)), nx-10]\n",
    "ytest = Int(cld(0.5*ly, dy))"
   ],
   "metadata": {},
   "execution_count": null
  },
  {
   "cell_type": "markdown",
   "source": [
    "for"
   ],
   "metadata": {}
  },
  {
   "outputs": [],
   "cell_type": "code",
   "source": [
    "nx = ny = 16 * 2 .^ (2:5) .- 1\n",
    "maxiter = 500"
   ],
   "metadata": {},
   "execution_count": null
  },
  {
   "cell_type": "markdown",
   "source": [
    "should match\n",
    "\n",
    "| `nx, ny` | `Pf[xtest, ytest]`                                                |\n",
    "|:--------:|:-----------------------------------------------------------------:|\n",
    "|  `63`    | `[0.00785398056115133 0.007853980637555755 0.007853978592411982]` |\n",
    "| `127`    | `[0.00787296974549236 0.007849556884184108 0.007847181374079883]` |\n",
    "| `255`    | `[0.00740912103848251 0.009143711648167267 0.007419533048751209]` |\n",
    "| `511`    | `[0.00566813765849919 0.004348785338575644 0.005618691590498087]` |\n",
    "\n",
    "Report the output of the test set as code block in a new section of the `README.md` in the `Pf_diffusion_2D` folder."
   ],
   "metadata": {}
  },
  {
   "cell_type": "markdown",
   "source": [
    "> 💡 hint: Use triple backticks to generate code blocks in the `README.md` ([more](https://www.markdownguide.org/extended-syntax/#fenced-code-blocks))."
   ],
   "metadata": {}
  }
 ],
 "nbformat_minor": 3,
 "metadata": {
  "language_info": {
   "file_extension": ".jl",
   "mimetype": "application/julia",
   "name": "julia",
   "version": "1.10.5"
  },
  "kernelspec": {
   "name": "julia-1.10",
   "display_name": "Julia 1.10.5",
   "language": "julia"
  }
 },
 "nbformat": 4
}
