{
 "cells": [
  {
   "cell_type": "markdown",
   "source": [
    "_Lecture 3_\n",
    "# Julia's REPL, the Package manager (Pkg.jl), and essential packages"
   ],
   "metadata": {
    "name": "A slide ",
    "slideshow": {
     "slide_type": "slide"
    }
   }
  },
  {
   "cell_type": "markdown",
   "source": [
    "## Julia REPL (interactive terminal)\n",
    "\n",
    "[https://docs.julialang.org/en/v1/stdlib/REPL/](https://docs.julialang.org/en/v1/stdlib/REPL/)\n",
    "\n",
    "`julia` starts the REPL, run `julia --help` to see options.  Useful options:\n",
    "- `--project` sets the project directory to the current directory\n",
    "- `-t 8` launches Julia with 8 threads (or any other number you specify)\n",
    "\n",
    "Pretty powerful REPL:\n",
    "- completion\n",
    "- history:\n",
    "  - start typing + up-arrow\n",
    "  - Ctrl-r\n",
    "- unicode completion\n",
    "- several sub-modes: shell, Pkg, help\n",
    "  - they are displayed with a different prompt\n",
    "  - shell mode in Windows, try: `shell> powershell`"
   ],
   "metadata": {
    "name": "A slide ",
    "slideshow": {
     "slide_type": "slide"
    }
   }
  },
  {
   "cell_type": "markdown",
   "source": [
    "**Demo**"
   ],
   "metadata": {
    "name": "A slide ",
    "slideshow": {
     "slide_type": "fragment"
    }
   }
  },
  {
   "cell_type": "markdown",
   "source": [
    "## Julia package manager\n",
    "\n",
    "Docs:\n",
    "- [short](https://docs.julialang.org/en/v1/stdlib/Pkg/)\n",
    "- [detailed](https://pkgdocs.julialang.org/v1/)\n",
    "\n",
    "Powerful package manager:\n",
    "- installing, updating and removing packages\n",
    "  - this also includes dependencies such as C/Fortan libs, Python/Conda environments, etc.\n",
    "- separate environments for separate projects"
   ],
   "metadata": {
    "name": "A slide ",
    "slideshow": {
     "slide_type": "slide"
    }
   }
  },
  {
   "cell_type": "markdown",
   "source": [
    "## Demo of Julia package manager\n",
    "\n",
    "**Demo** of:\n",
    "- `Pkg` vs REPL mode `]`\n",
    "- installing, removing, updating packages into global environment ([docs](https://pkgdocs.julialang.org/v1/managing-packages/))\n",
    "  - the registry https://github.com/JuliaRegistries/General and https://juliahub.com/ui/Packages\n",
    "- making a \"Project\" ([docs](https://pkgdocs.julialang.org/v1/environments/))\n",
    "  - installing packages into that project's environment\n",
    "  - testing packages\n",
    "  - installing non-registered packages\n",
    "  - `Project.toml` and `Manifest.toml`\n",
    "- version conflicts and version bounds ([docs](https://pkgdocs.julialang.org/v1/managing-packages/#conflicts))\n",
    "- developing a \"Package\""
   ],
   "metadata": {
    "name": "A slide ",
    "slideshow": {
     "slide_type": "slide"
    }
   }
  },
  {
   "cell_type": "markdown",
   "source": [
    "**Take-home**: make a separate Project for each of your projects/assignments!"
   ],
   "metadata": {
    "name": "A slide ",
    "slideshow": {
     "slide_type": "fragment"
    }
   }
  },
  {
   "cell_type": "markdown",
   "source": [
    "## Essential packages for your global environment\n",
    "\n",
    "Packages installed in your global environment are always available, thus useful for utility packages."
   ],
   "metadata": {
    "name": "A slide ",
    "slideshow": {
     "slide_type": "slide"
    }
   }
  },
  {
   "cell_type": "markdown",
   "source": [
    "I have installed in my global environment:\n",
    "- [Revise.jl](https://github.com/timholy/Revise.jl) --\n",
    "  To load it at startup: `mkdir -p ~/.julia/config/ && echo \"using Revise\" >> ~/.julia/config/startup.jl`\n",
    "- [BenchmarkTools.jl](https://github.com/timholy/Revise.jl) --\n",
    "  Accurate timers for benchmarking, even quick fast running functions\n",
    "- [IJulia.jl](https://github.com/JuliaLang/IJulia.jl) --\n",
    "  The Julia Jupyter kernel.  Needs to be installed globally.\n",
    "- [Plots.jl](https://github.com/JuliaPlots/Plots.jl)\n",
    "- [Infiltrator.jl](https://github.com/JuliaDebug/Infiltrator.jl) --\n",
    "  A debugger.  Pretty basic but works well without slowing down program execution (unlike Debugger.jl which has more features).\n",
    "- [StatProfilerHTML.jl](https://github.com/tkluck/StatProfilerHTML.jl) or [ProfileView.jl](https://github.com/timholy/ProfileView.jl/) --\n",
    "  To be used with the built in `Profile` module.  Displays nice flame graphs (probably does not work on the GPU)"
   ],
   "metadata": {
    "name": "A slide ",
    "slideshow": {
     "slide_type": "fragment"
    }
   }
  }
 ],
 "nbformat_minor": 3,
 "metadata": {
  "language_info": {
   "file_extension": ".jl",
   "mimetype": "application/julia",
   "name": "julia",
   "version": "1.10.5"
  },
  "kernelspec": {
   "name": "julia-1.10",
   "display_name": "Julia 1.10.5",
   "language": "julia"
  }
 },
 "nbformat": 4
}
