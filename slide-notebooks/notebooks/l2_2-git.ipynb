{
 "cells": [
  {
   "cell_type": "markdown",
   "source": [
    "_Lecture 2_: Git\n",
    "# A brief intro to Git\n",
    "\n",
    "Git is a version control software, useful to\n",
    "- keep track of your progress on code (and other files)\n",
    "- to collaborate on code\n",
    "- to distribute code, to onself (on other computers) and others"
   ],
   "metadata": {
    "name": "A slide ",
    "slideshow": {
     "slide_type": "slide"
    }
   }
  },
  {
   "cell_type": "markdown",
   "source": [
    "## Previous experience\n",
    "\n",
    "You are familiar with git already:\n",
    "\n",
    "![git-survey](./figures/l2_survey-git-question.png)"
   ],
   "metadata": {
    "name": "A slide ",
    "slideshow": {
     "slide_type": "slide"
    }
   }
  },
  {
   "cell_type": "markdown",
   "source": [
    "Questions:\n",
    "- how often do you use git?\n",
    "- who has git installed on their laptop?\n",
    "- do you use: `commit`, `push`, `pull`, `clone`?\n",
    "- do you use: `branch`, `merge`, `rebase`?\n",
    "- GitHub/GitLab etc?"
   ],
   "metadata": {
    "name": "A slide ",
    "slideshow": {
     "slide_type": "fragment"
    }
   }
  },
  {
   "cell_type": "markdown",
   "source": [
    "## A brief git demo session\n",
    "\n",
    "Please follow along!\n",
    "\n",
    "If you don't have git installed, head to [JupyterHub (within Moodle)](https://moodle-app2.let.ethz.ch/course/view.php?id=18084) and open a terminal. (And do install it on your computer!)\n",
    "\n",
    "- git setup:\n",
    "\n",
    "```sh\n",
    "git config --global user.name \"Your Name\"\n",
    "git config --global user.email \"youremail@yourdomain.com\"\n",
    "```\n",
    "- make a repo (`init`)\n",
    "- add some files (`add`, `commit`)\n",
    "- do some changes (`commit` some more)\n",
    "- make a feature branch (`branch`, `diff`, `difftool`)\n",
    "- merge branch (`merge`)\n",
    "- tag (`tag`)"
   ],
   "metadata": {
    "name": "A slide ",
    "slideshow": {
     "slide_type": "slide"
    }
   }
  },
  {
   "cell_type": "markdown",
   "source": [
    "### Further reading\n",
    "\n",
    "There are (too) many resources on the web...\n",
    "- book: [https://git-scm.com/book/en/v2](https://git-scm.com/book/en/v2)\n",
    "- videos: [https://git-scm.com/doc](https://git-scm.com/doc)\n",
    "- cheat sheet (click on boxes) [https://www.ndpsoftware.com/git-cheatsheet.html#loc=workspace;](https://www.ndpsoftware.com/git-cheatsheet.html#loc=workspace;)\n",
    "- get out of a git mess: [http://justinhileman.info/article/git-pretty/git-pretty.png](http://justinhileman.info/article/git-pretty/git-pretty.png)\n",
    "\n",
    "## Other tools for git\n",
    "There is plenty of software to interact with git, graphical, command line, etc.  Feel free to use those.\n",
    "\n",
    "But we will only be able to help you with vanilla, command-line git."
   ],
   "metadata": {
    "name": "A slide ",
    "slideshow": {
     "slide_type": "slide"
    }
   }
  },
  {
   "cell_type": "markdown",
   "source": [
    "## Getting started on GitHub (similar on GitLab, or elsewhere)\n",
    "\n",
    "GitHub and GitLab are social coding websites\n",
    "  - they host code\n",
    "  - they facilitate for developers to interact\n",
    "  - they provide infrastructure for software testing, deployment, etc"
   ],
   "metadata": {
    "name": "A slide ",
    "slideshow": {
     "slide_type": "slide"
    }
   }
  },
  {
   "cell_type": "markdown",
   "source": [
    "> 💡 Note: ETH has a GitLab instance which you can use with your NETHZ credentials [https://gitlab.ethz.ch/](https://gitlab.ethz.ch/)."
   ],
   "metadata": {}
  },
  {
   "cell_type": "markdown",
   "source": [
    "Question: who has a GitHub account?\n",
    "\n",
    "Let's make one (because most of Julia development happens on GitHub)\n",
    "\n",
    "[https://github.com/](https://github.com/) -> \"Sign up\""
   ],
   "metadata": {
    "name": "A slide ",
    "slideshow": {
     "slide_type": "fragment"
    }
   }
  },
  {
   "cell_type": "markdown",
   "source": [
    "### GitHub setup\n",
    "\n",
    "Make such that you can push and pull without entering a password\n",
    "\n",
    "![github-bar](./figures/l2_github-bar.png)\n",
    "\n",
    "- local: tell git to store credentials:\n",
    "  `git config --global credential.helper cache`\n",
    "- github.com:\n",
    "  - \"Settings\" -> \"Developer settings\" -> \"Personal access tokens\" -> \"Generate new token\"\n",
    "    - Give the token a description/name and select the scope of the token\n",
    "    - I selected \"repo only\" to facilitate pull, push, clone, and commit actions\n",
    "  - -> \"Generate token\" and copy it (keep that website open for now)"
   ],
   "metadata": {
    "name": "A slide ",
    "slideshow": {
     "slide_type": "slide"
    }
   }
  },
  {
   "cell_type": "markdown",
   "source": [
    "## Let's get our repo onto GitHub\n",
    "\n",
    "![github-bar](./figures/l2_github-bar.png)\n",
    "\n",
    "- create a repository on github.com: click the \"+\"\n",
    "- local: follow setup given on website\n",
    "- local: `git push`\n",
    "  - here enter your username + the **token** generated before"
   ],
   "metadata": {
    "name": "A slide ",
    "slideshow": {
     "slide_type": "slide"
    }
   }
  },
  {
   "cell_type": "markdown",
   "source": [
    "## Work with other peoples code: fork\n",
    "\n",
    "![github-bar](./figures/l2_github-bar.png)\n",
    "\n",
    "- fork a repository on github.com (top right)"
   ],
   "metadata": {
    "name": "A slide ",
    "slideshow": {
     "slide_type": "slide"
    }
   }
  },
  {
   "cell_type": "markdown",
   "source": [
    "## Git: questions?\n",
    "\n",
    "![git-me](./figures/l2_git-me.png)"
   ],
   "metadata": {
    "name": "A slide ",
    "slideshow": {
     "slide_type": "slide"
    }
   }
  }
 ],
 "nbformat_minor": 3,
 "metadata": {
  "language_info": {
   "file_extension": ".jl",
   "mimetype": "application/julia",
   "name": "julia",
   "version": "1.9.3"
  },
  "kernelspec": {
   "name": "julia-1.9",
   "display_name": "Julia 1.9.3",
   "language": "julia"
  }
 },
 "nbformat": 4
}
