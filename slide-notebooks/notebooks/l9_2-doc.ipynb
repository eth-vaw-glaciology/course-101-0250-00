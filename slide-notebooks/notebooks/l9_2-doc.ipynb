{
 "cells": [
  {
   "cell_type": "markdown",
   "source": [
    "_Lecture 9_\n",
    "# Documenting your code\n",
    "\n",
    "This lecture we will learn:\n",
    "- documentation vs code-comments\n",
    "- why to write documentation\n",
    "- GitHub tools:\n",
    "  - rendering of markdown files\n",
    "  - gh-pages\n",
    "- some Julia tools:\n",
    "  - docstrings\n",
    "  - [https://github.com/fredrikekre/Literate.jl](https://github.com/fredrikekre/Literate.jl)\n",
    "  - [https://github.com/JuliaDocs/Documenter.jl](https://github.com/JuliaDocs/Documenter.jl)"
   ],
   "metadata": {
    "name": "A slide ",
    "slideshow": {
     "slide_type": "slide"
    }
   }
  },
  {
   "cell_type": "markdown",
   "source": [
    "_Lecture 8_\n",
    "![comic](https://pcweenies.com/wp-content/uploads/2012/01/2012-01-12_pcw.jpg)"
   ],
   "metadata": {
    "name": "A slide ",
    "slideshow": {
     "slide_type": "slide"
    }
   }
  },
  {
   "cell_type": "markdown",
   "source": [
    "### Why should I document my code?\n",
    "\n",
    "Why should I write code comments?\n",
    "- [\"Code Tells You How, Comments Tell You Why\"](https://blog.codinghorror.com/code-tells-you-how-comments-tell-you-why/)\n",
    "  - code should be made understandable by itself, as much as possible\n",
    "  - comments then should be to tell the \"why\" you're doing something\n",
    "- *but* I do a lot of structuring comments as well\n",
    "- math-y variables tend to be short and need a comment as well"
   ],
   "metadata": {
    "name": "A slide ",
    "slideshow": {
     "slide_type": "slide"
    }
   }
  },
  {
   "cell_type": "markdown",
   "source": [
    "Why should I write documentation?\n",
    "- documentation should give a bigger overview of what your code does\n",
    "  - at the function-level (doc-strings)\n",
    "  - at the package-level (README, full-fledged documentation)\n",
    "- to let other people and your future self (probably most importantly) understand what\n",
    "  your code is about"
   ],
   "metadata": {
    "name": "A slide ",
    "slideshow": {
     "slide_type": "fragment"
    }
   }
  },
  {
   "cell_type": "markdown",
   "source": [
    "### Documentation easily rots...\n",
    "\n",
    "Worse than no documentation/code comments is documentation which is\n",
    "outdated.\n",
    "\n",
    "I find the best way to keep documentation up to date is:\n",
    "- have documentation visible to you, e.g. GitHub README\n",
    "- document what you need yourself\n",
    "- use examples and run them as part of CI (doc-tests, example-scripts)"
   ],
   "metadata": {
    "name": "A slide ",
    "slideshow": {
     "slide_type": "slide"
    }
   }
  },
  {
   "cell_type": "markdown",
   "source": [
    "### Documentation tools: doc-strings\n",
    "\n",
    "A Julia doc-string ([Julia manual](https://docs.julialang.org/en/v1/manual/documentation/)):\n",
    "- is just a string before the object (no blank-line inbetween); interpreted as markdown-string\n",
    "- can be attached to most things (functions, variables, modules, macros, types)\n",
    "- can be queried with `?`"
   ],
   "metadata": {
    "name": "A slide ",
    "slideshow": {
     "slide_type": "slide"
    }
   }
  },
  {
   "outputs": [],
   "cell_type": "code",
   "source": [
    "\"Typical size of a beer crate\"\n",
    "const BEERBOX = 12"
   ],
   "metadata": {},
   "execution_count": null
  },
  {
   "outputs": [],
   "cell_type": "code",
   "source": [
    "?BEERBOX"
   ],
   "metadata": {},
   "execution_count": null
  },
  {
   "cell_type": "markdown",
   "source": [
    "### Documentation tools: doc-strings with examples\n",
    "\n",
    "One can add examples to doc-strings (they can even be part of testing: [doc-tests](https://juliadocs.github.io/Documenter.jl/stable/man/doctests/)).\n",
    "\n",
    "(Run it in the REPL and copy paste to the docstring.)"
   ],
   "metadata": {
    "name": "A slide ",
    "slideshow": {
     "slide_type": "slide"
    }
   }
  },
  {
   "outputs": [],
   "cell_type": "code",
   "source": [
    "\"\"\"\n",
    "    transform(r, θ)\n",
    "\n",
    "Transform polar `(r,θ)` to cartesian coordinates `(x,y)`.\n",
    "\n",
    "# Example\n",
    "```jldoctest\n",
    "julia> transform(4.5, pi/5)\n",
    "(3.6405764746872635, 2.6450336353161292)\n",
    "```\n",
    "\"\"\"\n",
    "transform(r, θ) = (r*cos(θ), r*sin(θ))"
   ],
   "metadata": {},
   "execution_count": null
  },
  {
   "outputs": [],
   "cell_type": "code",
   "source": [
    "?transform"
   ],
   "metadata": {},
   "execution_count": null
  },
  {
   "cell_type": "markdown",
   "source": [
    "### Documentation tools: Github markdown rendering\n",
    "\n",
    "The easiest way to write long-form documentation is to just use GitHub's markdown rendering.\n",
    "\n",
    "A nice example is [this short course](https://github.com/luraess/parallel-gpu-workshop-JuliaCon21)\n",
    "by Ludovic (incidentally about solving PDEs on GPUs 🙂).\n",
    "\n",
    "- images are rendered\n",
    "- in-page links are easy, e.g. `[_back to workshop material_](#workshop-material)`\n",
    "- top-left has a burger-menu for page navigation\n",
    "- can be edited within the web-page (pencil-icon)\n",
    "\n",
    "👉 this is a good and low-overhead way to produce pretty nice documentation"
   ],
   "metadata": {
    "name": "A slide ",
    "slideshow": {
     "slide_type": "slide"
    }
   }
  },
  {
   "cell_type": "markdown",
   "source": [
    "### Documentation tools: Literate.jl\n",
    "\n",
    "There are several tools which render .jl files (with special formatting) into\n",
    "markdown files.  These files can then be added to Github and will be rendered there.\n",
    "\n",
    "- we're using [Literate.jl](https://github.com/fredrikekre/Literate.jl)\n",
    "- format is described [here](https://fredrikekre.github.io/Literate.jl/v2/fileformat/)\n",
    "- files stay valid Julia scripts, i.e. they can be executed without Literate.jl\n",
    "\n",
    "\n",
    "Example\n",
    "- input julia-code in: [course-101-0250-00-L8Documentation.jl: scripts/car_travels.jl](https://github.com/eth-vaw-glaciology/course-101-0250-00-L8Documentation.jl/blob/4bbeb3ddda046490847f050b02d3fc5d9308695b/scripts/car_travels.jl)\n",
    "- output markdown in: [course-101-0250-00-L8Documentation.jl: scripts/car_travels.md](https://github.com/eth-vaw-glaciology/course-101-0250-00-L8Documentation.jl/blob/4bbeb3ddda046490847f050b02d3fc5d9308695b/scripts/car_travels.md) created with:\n",
    "```\n",
    "Literate.markdown(\"car_travels.jl\", directory_of_this_file, execute=true, documenter=false, credit=false)\n",
    "```"
   ],
   "metadata": {
    "name": "A slide ",
    "slideshow": {
     "slide_type": "slide"
    }
   }
  },
  {
   "cell_type": "markdown",
   "source": [
    "But this is not automatic!  Manual steps: run Literate, add files, commit and push...\n",
    "\n",
    "or use Github Actions..."
   ],
   "metadata": {
    "name": "A slide ",
    "slideshow": {
     "slide_type": "fragement"
    }
   }
  },
  {
   "cell_type": "markdown",
   "source": [
    "### Documentation tools: Automating Literate.jl\n",
    "\n",
    "Demonstrated in the repo [course-101-0250-00-L8Documentation.jl](https://github.com/eth-vaw-glaciology/course-101-0250-00-L8Documentation.jl)\n",
    "```yml\n",
    "name: Run Literate.jl\n",
    "# adapted from https://lannonbr.com/blog/2019-12-09-git-commit-in-actions\n",
    "\n",
    "on: push\n",
    "\n",
    "jobs:\n",
    "  lit:\n",
    "    runs-on: ubuntu-latest\n",
    "    steps:\n",
    "      # Checkout the branch\n",
    "      - uses: actions/checkout@v2\n",
    "\n",
    "      - uses: julia-actions/setup-julia@v1\n",
    "        with:\n",
    "          version: '1.9'\n",
    "          arch: x64\n",
    "\n",
    "      - uses: julia-actions/cache@v1\n",
    "      - uses: julia-actions/julia-buildpkg@latest\n",
    "\n",
    "      - name: run Literate\n",
    "        run: QT_QPA_PLATFORM=offscreen julia --color=yes --project -e 'cd(\"scripts\"); include(\"literate-script.jl\")'\n",
    "\n",
    "      - name: setup git config\n",
    "        run: |\n",
    "          # setup the username and email. I tend to use 'GitHub Actions Bot' with no email by default\n",
    "          git config user.name \"GitHub Actions Bot\"\n",
    "          git config user.email \"<>\"\n",
    "\n",
    "      - name: commit\n",
    "        run: |\n",
    "          # Stage the file, commit and push\n",
    "          git add scripts/md/*\n",
    "          git commit -m \"Commit markdown files fom Literate\"\n",
    "          git push origin master\n",
    "```"
   ],
   "metadata": {
    "name": "A slide ",
    "slideshow": {
     "slide_type": "slide"
    }
   }
  },
  {
   "cell_type": "markdown",
   "source": [
    "### Documentation tools: Documenter.jl\n",
    "\n",
    "If you want to have full-blown documentation, including, e.g., automatic API documentation generation, versioning,\n",
    "then use [Documenter.jl](https://github.com/JuliaDocs/Documenter.jl).\n",
    "\n",
    "Examples:\n",
    "- [https://docs.julialang.org/en/v1/](https://docs.julialang.org/en/v1/)\n",
    "- [https://mauro3.github.io/Parameters.jl/stable/](https://mauro3.github.io/Parameters.jl/stable/)\n",
    "\n",
    "_**Notes:**_\n",
    "- it's geared towards Julia-packages, less for a bunch-of-scripts as in our lecture\n",
    "- Documenter.jl also integrates with Literate.jl.\n",
    "- for more free-form websites, use [https://github.com/tlienart/Franklin.jl](https://github.com/tlienart/Franklin.jl) (as the course website does)\n",
    "- if you want to use it, it's easiest to generate your package with [PkgTemplates.jl](https://github.com/invenia/PkgTemplates.jl)\n",
    "  which will generate the Documenter-setup for you.\n",
    "- **we don't use it in this course**"
   ],
   "metadata": {
    "name": "A slide ",
    "slideshow": {
     "slide_type": "slide"
    }
   }
  }
 ],
 "nbformat_minor": 3,
 "metadata": {
  "language_info": {
   "file_extension": ".jl",
   "mimetype": "application/julia",
   "name": "julia",
   "version": "1.10.5"
  },
  "kernelspec": {
   "name": "julia-1.10",
   "display_name": "Julia 1.10.5",
   "language": "julia"
  }
 },
 "nbformat": 4
}
