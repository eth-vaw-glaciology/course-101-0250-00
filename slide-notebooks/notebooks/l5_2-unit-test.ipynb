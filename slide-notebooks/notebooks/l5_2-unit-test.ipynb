{
 "cells": [
  {
   "cell_type": "markdown",
   "source": [
    "_Lecture 5_\n",
    "# Unit testing in Julia"
   ],
   "metadata": {
    "name": "A slide ",
    "slideshow": {
     "slide_type": "slide"
    }
   }
  },
  {
   "cell_type": "markdown",
   "source": [
    "### The Julia `Test` module\n",
    "\n",
    "[Basic unit tests](https://docs.julialang.org/en/v1/stdlib/Test/#Basic-Unit-Tests) in Julia\n",
    "- Provides simple _unit testing_ functionality\n",
    "- A way to assess if code is correct by checking that results are as expected\n",
    "- Helpful to ensure the code still works after changes\n",
    "- Can be used when developing\n",
    "- Should be used in package for continous integration (aka CI;\n",
    "  when tests are run on GitHub automatically on a push)"
   ],
   "metadata": {
    "name": "A slide ",
    "slideshow": {
     "slide_type": "slide"
    }
   }
  },
  {
   "cell_type": "markdown",
   "source": [
    "## Basic unit tests\n",
    "\n",
    "Simple unit testing can be performed with the `@test` and `@test_throws` macros:"
   ],
   "metadata": {
    "name": "A slide ",
    "slideshow": {
     "slide_type": "slide"
    }
   }
  },
  {
   "outputs": [],
   "cell_type": "code",
   "source": [
    "using Test\n",
    "\n",
    "@test 1==1\n",
    "\n",
    "@test_throws MethodError 1+\"a\" ## the expected error must be provided too"
   ],
   "metadata": {},
   "execution_count": null
  },
  {
   "cell_type": "markdown",
   "source": [
    "Or another example"
   ],
   "metadata": {
    "name": "A slide ",
    "slideshow": {
     "slide_type": "fragment"
    }
   }
  },
  {
   "outputs": [],
   "cell_type": "code",
   "source": [
    "@test [1, 2] + [2, 1] == [3, 3]"
   ],
   "metadata": {},
   "execution_count": null
  },
  {
   "cell_type": "markdown",
   "source": [
    "Testing an expression which is a call using infix syntax such as approximate comparisons (`\\approx` + tab)"
   ],
   "metadata": {
    "name": "A slide ",
    "slideshow": {
     "slide_type": "fragment"
    }
   }
  },
  {
   "outputs": [],
   "cell_type": "code",
   "source": [
    "@test π ≈ 3.14 atol=0.01"
   ],
   "metadata": {},
   "execution_count": null
  },
  {
   "cell_type": "markdown",
   "source": [
    "For example, suppose we want to check our new function `square(x)` works as expected:"
   ],
   "metadata": {
    "name": "A slide ",
    "slideshow": {
     "slide_type": "slide"
    }
   }
  },
  {
   "outputs": [],
   "cell_type": "code",
   "source": [
    "square(x) = x^2"
   ],
   "metadata": {},
   "execution_count": null
  },
  {
   "cell_type": "markdown",
   "source": [
    "If the condition is true, a `Pass` is returned:"
   ],
   "metadata": {}
  },
  {
   "outputs": [],
   "cell_type": "code",
   "source": [
    "@test square(5) == 25"
   ],
   "metadata": {},
   "execution_count": null
  },
  {
   "cell_type": "markdown",
   "source": [
    "If the condition is false, then a `Fail` is returned and an exception is thrown:"
   ],
   "metadata": {}
  },
  {
   "outputs": [],
   "cell_type": "code",
   "source": [
    "@test square(5) == 20"
   ],
   "metadata": {},
   "execution_count": null
  },
  {
   "cell_type": "markdown",
   "source": [
    "## Working with a test sets\n",
    "\n",
    "The `@testset` macro can be used to group [tests into sets](https://docs.julialang.org/en/v1/stdlib/Test/#Working-with-Test-Sets).\n",
    "\n",
    "All the tests in a test set will be run, and at the end of the test set a summary will be printed.\n",
    "\n",
    "If any of the tests failed, or could not be evaluated due to an error, the test set will then throw a `TestSetException`."
   ],
   "metadata": {
    "name": "A slide ",
    "slideshow": {
     "slide_type": "slide"
    }
   }
  },
  {
   "outputs": [],
   "cell_type": "code",
   "source": [
    "@testset \"trigonometric identities\" begin\n",
    "    θ = 2/3*π\n",
    "    @test sin(-θ) ≈ -sin(θ)\n",
    "    @test cos(-θ) ≈ cos(θ)\n",
    "    @test sin(2θ) ≈ 2*sin(θ)*cos(θ)\n",
    "    @test cos(2θ) ≈ cos(θ)^2 - sin(θ)^2\n",
    "end;"
   ],
   "metadata": {},
   "execution_count": null
  },
  {
   "cell_type": "markdown",
   "source": [
    "Let's try it with our `square()` function"
   ],
   "metadata": {
    "name": "A slide ",
    "slideshow": {
     "slide_type": "slide"
    }
   }
  },
  {
   "outputs": [],
   "cell_type": "code",
   "source": [
    "square(x) = x^2\n",
    "\n",
    "@testset \"Square Tests\" begin\n",
    "    @test square(5) == 25\n",
    "    @test square(\"a\") == \"aa\"\n",
    "    @test square(\"bb\") == \"bbbb\"\n",
    "end;"
   ],
   "metadata": {},
   "execution_count": null
  },
  {
   "cell_type": "markdown",
   "source": [
    "If we now introduce a bug"
   ],
   "metadata": {
    "name": "A slide ",
    "slideshow": {
     "slide_type": "slide"
    }
   }
  },
  {
   "outputs": [],
   "cell_type": "code",
   "source": [
    "square(x) = x^2\n",
    "#nb\n",
    "@testset \"Square Tests\" begin\n",
    "    @test square(5) == 25\n",
    "    @test square(\"a\") == \"aa\"\n",
    "    @test square(\"bb\") == \"bbbb\"\n",
    "    @test square(5) == 20\n",
    "end;"
   ],
   "metadata": {},
   "execution_count": null
  },
  {
   "cell_type": "markdown",
   "source": [
    "Then then the reporting tells us a test failed."
   ],
   "metadata": {}
  },
  {
   "cell_type": "markdown",
   "source": [
    "### Where to put them, how to run them\n",
    "\n",
    "The simplest is to just put the tests in your script, along the tested function.\n",
    "Then the tests run every time the script is executed.\n",
    "\n",
    "However, for bigger pieces of software, such as packages, this becomes unwieldly\n",
    "and also undesired (as we don't want tests to run all the time).  Then tests are put\n",
    "into `test/runtests.jl`.  If they are there they will be run when called from package\n",
    "mode or from automated test (CI).\n",
    "\n",
    "Example for the package `Literate.jl` (we use that to generate the website):\n",
    "```julia\n",
    "julia> using Pkg\n",
    "\n",
    "julia> Pkg.test(\"Literate\")\n",
    "     Testing Literate\n",
    "   ...\n",
    "     Testing Running tests...\n",
    "Test Summary:  | Pass  Total  Time\n",
    "Literate.parse |  533    533  0.8s\n",
    "Test Summary:   | Pass  Broken  Total  Time\n",
    "Literate.script |   36       1     37  2.1s\n",
    "Test Summary:     | Pass  Broken  Total  Time\n",
    "Literate.markdown |   82       2     84  4.3s\n",
    "Test Summary:     | Pass  Broken  Total  Time\n",
    "Literate.notebook |   86       1     87  5.2s\n",
    "Test Summary: | Pass  Total  Time\n",
    "Configuration |    7      7  0.3s\n",
    "     Testing Literate tests passed\n",
    "```"
   ],
   "metadata": {
    "name": "A slide ",
    "slideshow": {
     "slide_type": "slide"
    }
   }
  },
  {
   "cell_type": "markdown",
   "source": [
    "### Wrapping-up\n",
    "\n",
    "- The `Test` module provides simple _unit testing_ functionality.\n",
    "- Tests can be grouped into sets using `@testset`.\n",
    "- We'll later see how tests can be used in CI."
   ],
   "metadata": {
    "name": "A slide ",
    "slideshow": {
     "slide_type": "slide"
    }
   }
  }
 ],
 "nbformat_minor": 3,
 "metadata": {
  "language_info": {
   "file_extension": ".jl",
   "mimetype": "application/julia",
   "name": "julia",
   "version": "1.11.0"
  },
  "kernelspec": {
   "name": "julia-1.11",
   "display_name": "Julia 1.11.0",
   "language": "julia"
  }
 },
 "nbformat": 4
}
