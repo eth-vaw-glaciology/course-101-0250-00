{
 "cells": [
  {
   "cell_type": "markdown",
   "source": [
    "_Lecture 5_\n",
    "# Unit testing in Julia"
   ],
   "metadata": {
    "name": "A slide ",
    "slideshow": {
     "slide_type": "slide"
    }
   }
  },
  {
   "cell_type": "markdown",
   "source": [
    "### The Julia `Test` module\n",
    "\n",
    "[Basic unit tests](https://docs.julialang.org/en/v1/stdlib/Test/#Basic-Unit-Tests) in Julia\n",
    "- Provides simple _unit testing_ functionality\n",
    "- A way to assess if code is correct by checking that results are as expected\n",
    "- Helpful to ensure the code still works after changes\n",
    "- Can be used when developing\n",
    "- Should be used in package for CI"
   ],
   "metadata": {
    "name": "A slide ",
    "slideshow": {
     "slide_type": "slide"
    }
   }
  },
  {
   "cell_type": "markdown",
   "source": [
    "## Basic unit tests\n",
    "\n",
    "Simple unit testing can be performed with the `@test` and `@test_throws` macros:"
   ],
   "metadata": {
    "name": "A slide ",
    "slideshow": {
     "slide_type": "slide"
    }
   }
  },
  {
   "outputs": [],
   "cell_type": "code",
   "source": [
    "using Test\n",
    "\n",
    "@test true"
   ],
   "metadata": {},
   "execution_count": null
  },
  {
   "cell_type": "markdown",
   "source": [
    "Or another example"
   ],
   "metadata": {
    "name": "A slide ",
    "slideshow": {
     "slide_type": "fragment"
    }
   }
  },
  {
   "outputs": [],
   "cell_type": "code",
   "source": [
    "@test [1, 2] + [2, 1] == [3, 3]"
   ],
   "metadata": {},
   "execution_count": null
  },
  {
   "cell_type": "markdown",
   "source": [
    "Testing an expression which is a call using infix syntax such as approximate comparisons"
   ],
   "metadata": {
    "name": "A slide ",
    "slideshow": {
     "slide_type": "fragment"
    }
   }
  },
  {
   "outputs": [],
   "cell_type": "code",
   "source": [
    "@test π ≈ 3.14 atol=0.01"
   ],
   "metadata": {},
   "execution_count": null
  },
  {
   "cell_type": "markdown",
   "source": [
    "For example, suppose we want to check our new function `square!(x)` works as expected:"
   ],
   "metadata": {
    "name": "A slide ",
    "slideshow": {
     "slide_type": "slide"
    }
   }
  },
  {
   "outputs": [],
   "cell_type": "code",
   "source": [
    "square!(x) = x^2"
   ],
   "metadata": {},
   "execution_count": null
  },
  {
   "cell_type": "markdown",
   "source": [
    "If the condition is true, a `Pass` is returned:"
   ],
   "metadata": {}
  },
  {
   "outputs": [],
   "cell_type": "code",
   "source": [
    "@test square!(5) == 25"
   ],
   "metadata": {},
   "execution_count": null
  },
  {
   "cell_type": "markdown",
   "source": [
    "If the condition is false, then a `Fail` is returned and an exception is thrown:"
   ],
   "metadata": {}
  },
  {
   "outputs": [],
   "cell_type": "code",
   "source": [
    "@test square!(5) == 20"
   ],
   "metadata": {},
   "execution_count": null
  },
  {
   "cell_type": "markdown",
   "source": [
    "## Working with a test sets\n",
    "\n",
    "The `@testset` macro can be used to group [tests into sets](https://docs.julialang.org/en/v1/stdlib/Test/#Working-with-Test-Sets).\n",
    "\n",
    "All the tests in a test set will be run, and at the end of the test set a summary will be printed.\n",
    "\n",
    "If any of the tests failed, or could not be evaluated due to an error, the test set will then throw a `TestSetException`."
   ],
   "metadata": {
    "name": "A slide ",
    "slideshow": {
     "slide_type": "slide"
    }
   }
  },
  {
   "outputs": [],
   "cell_type": "code",
   "source": [
    "@testset \"trigonometric identities\" begin\n",
    "    θ = 2/3*π\n",
    "    @test sin(-θ) ≈ -sin(θ)\n",
    "    @test cos(-θ) ≈ cos(θ)\n",
    "    @test sin(2θ) ≈ 2*sin(θ)*cos(θ)\n",
    "    @test cos(2θ) ≈ cos(θ)^2 - sin(θ)^2\n",
    "end;"
   ],
   "metadata": {},
   "execution_count": null
  },
  {
   "cell_type": "markdown",
   "source": [
    "Let's try it with our `square!()` function"
   ],
   "metadata": {
    "name": "A slide ",
    "slideshow": {
     "slide_type": "slide"
    }
   }
  },
  {
   "outputs": [],
   "cell_type": "code",
   "source": [
    "square!(x) = x^2\n",
    "\n",
    "@testset \"Square Tests\" begin\n",
    "    @test square!(5) == 25\n",
    "    @test square!(\"a\") == \"aa\"\n",
    "    @test square!(\"bb\") == \"bbbb\"\n",
    "end;"
   ],
   "metadata": {},
   "execution_count": null
  },
  {
   "cell_type": "markdown",
   "source": [
    "If we now introduce a bug"
   ],
   "metadata": {
    "name": "A slide ",
    "slideshow": {
     "slide_type": "slide"
    }
   }
  },
  {
   "outputs": [],
   "cell_type": "code",
   "source": [
    "square!(x) = x^2\n",
    "\n",
    "@testset \"Square Tests\" begin\n",
    "    @test square!(5) == 25\n",
    "    @test square!(\"a\") == \"aa\"\n",
    "    @test square!(\"bb\") == \"bbbb\"\n",
    "    @test square!(5) == 20\n",
    "end;"
   ],
   "metadata": {},
   "execution_count": null
  },
  {
   "cell_type": "markdown",
   "source": [
    "Then then the reporting tells us a test failed."
   ],
   "metadata": {}
  },
  {
   "cell_type": "markdown",
   "source": [
    "### Wrapping-up\n",
    "\n",
    "- The `Test` module provides simple _unit testing_ functionality.\n",
    "- Tests can be grouped into sets using `@testset`.\n",
    "- We'll later see how tests can be used in CI."
   ],
   "metadata": {
    "name": "A slide ",
    "slideshow": {
     "slide_type": "slide"
    }
   }
  }
 ],
 "nbformat_minor": 3,
 "metadata": {
  "language_info": {
   "file_extension": ".jl",
   "mimetype": "application/julia",
   "name": "julia",
   "version": "1.9.3"
  },
  "kernelspec": {
   "name": "julia-1.9",
   "display_name": "Julia 1.9.3",
   "language": "julia"
  }
 },
 "nbformat": 4
}
