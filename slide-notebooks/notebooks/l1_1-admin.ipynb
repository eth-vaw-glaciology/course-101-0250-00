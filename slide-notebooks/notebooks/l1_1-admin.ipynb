{
 "cells": [
  {
   "cell_type": "markdown",
   "source": [
    "# Solving partial differential equations in parallel on GPUs"
   ],
   "metadata": {
    "name": "A slide ",
    "slideshow": {
     "slide_type": "slide"
    }
   }
  },
  {
   "cell_type": "markdown",
   "source": [
    "## The Team\n",
    "\n",
    "- Ludovic Räss — _the good_"
   ],
   "metadata": {
    "name": "A slide ",
    "slideshow": {
     "slide_type": "slide"
    }
   }
  },
  {
   "cell_type": "markdown",
   "source": [
    "- Samuel Omlin — _the bad_"
   ],
   "metadata": {
    "name": "A slide ",
    "slideshow": {
     "slide_type": "fragment"
    }
   }
  },
  {
   "cell_type": "markdown",
   "source": [
    "- Mauro Werder — _the ugly_"
   ],
   "metadata": {
    "name": "A slide ",
    "slideshow": {
     "slide_type": "fragment"
    }
   }
  },
  {
   "cell_type": "markdown",
   "source": [
    "- Ivan Utkin — _the talking head_"
   ],
   "metadata": {
    "name": "A slide ",
    "slideshow": {
     "slide_type": "fragment"
    }
   }
  },
  {
   "cell_type": "markdown",
   "source": [
    "- You Wu — _the teaching assistant_"
   ],
   "metadata": {
    "name": "A slide ",
    "slideshow": {
     "slide_type": "fragment"
    }
   }
  },
  {
   "cell_type": "markdown",
   "source": [
    "## Logistics\n",
    "\n",
    "All the information should be available on the course's website:\\\n",
    "[https://pde-on-gpu.vaw.ethz.ch](https://pde-on-gpu.vaw.ethz.ch)\n",
    "\n",
    "> If something is missing, let us know so we can add it, or _even better_, submit a [pull request](https://docs.github.com/en/pull-requests/collaborating-with-pull-requests/proposing-changes-to-your-work-with-pull-requests/about-pull-requests/)\n",
    "> to [the course's repository](https://github.com/eth-vaw-glaciology/course-101-0250-00/)"
   ],
   "metadata": {
    "name": "A slide ",
    "slideshow": {
     "slide_type": "slide"
    }
   }
  },
  {
   "cell_type": "markdown",
   "source": [
    "Let's have a brief tour of the [course website](https://pde-on-gpu.vaw.ethz.ch)"
   ],
   "metadata": {
    "name": "A slide ",
    "slideshow": {
     "slide_type": "fragment"
    }
   }
  },
  {
   "cell_type": "markdown",
   "source": [
    "### Discussion & help\n",
    "\n",
    "- We use the chat on Element as the main communication channel for the course\n",
    "- Communication between students is encouraged\n",
    "- Join [Element (https://chat.ethz.ch/)](https://chat.ethz.ch/) by logging in with you NETHZ username & password\n",
    "  - Login link is available on [Moodle](https://moodle-app2.let.ethz.ch/course/view.php?id=23586)\n",
    "  - Join the _**General**_ room for course-related information\n",
    "  - Join the _**Helpdesk**_ room for exercises Q&A"
   ],
   "metadata": {
    "name": "A slide ",
    "slideshow": {
     "slide_type": "slide"
    }
   }
  },
  {
   "cell_type": "markdown",
   "source": [
    "## Grading\n",
    "\n",
    "All homework assignements can be done either alone or in groups of two. However, **note that every student has to hand in a personal version of the homework**.\n",
    "\n",
    "- 6 Weekly exercises in Part 1 and Part 2 of the course as homework — **30%**\n",
    "  - Best five out of six are graded\n",
    "- Consolidation project, developed during Part 3 of the course — **35%**\n",
    "- Final project — **35%**"
   ],
   "metadata": {
    "name": "A slide ",
    "slideshow": {
     "slide_type": "slide"
    }
   }
  },
  {
   "cell_type": "markdown",
   "source": [
    "## Computing\n",
    "\n",
    "Bring your laptop to all lectures!\n",
    "\n",
    "- Who has access to an Nvidia / AMD GPU?\n",
    "- What operating system are you on?\n",
    "\n",
    "In the first two lectures we will use JupyterHub. Later you will setup a personal Julia installation."
   ],
   "metadata": {
    "name": "A slide ",
    "slideshow": {
     "slide_type": "slide"
    }
   }
  },
  {
   "cell_type": "markdown",
   "source": [
    "## Summary\n",
    "\n",
    "- Almost all information is available on [https://pde-on-gpu.vaw.ethz.ch](https://pde-on-gpu.vaw.ethz.ch)\n",
    "- Join  [Element (https://chat.ethz.ch/)](https://chat.ethz.ch/)\n",
    "- If something important is missing, let us know or make a PR\n",
    "\n",
    "> **Suggestion:** \\\n",
    "> Bookmark [https://pde-on-gpu.vaw.ethz.ch](hhttps://pde-on-gpu.vaw.ethz.ch)"
   ],
   "metadata": {
    "name": "A slide ",
    "slideshow": {
     "slide_type": "slide"
    }
   }
  }
 ],
 "nbformat_minor": 3,
 "metadata": {
  "language_info": {
   "file_extension": ".jl",
   "mimetype": "application/julia",
   "name": "julia",
   "version": "1.11.1"
  },
  "kernelspec": {
   "name": "julia-1.11",
   "display_name": "Julia 1.11.1",
   "language": "julia"
  }
 },
 "nbformat": 4
}
