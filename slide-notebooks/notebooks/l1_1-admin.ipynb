{
 "cells": [
  {
   "cell_type": "markdown",
   "source": [
    "$\\texttt{The small print of}$\n",
    "\n",
    "# Solving partial differential equations in parallel on GPUs"
   ],
   "metadata": {
    "name": "A slide ",
    "slideshow": {
     "slide_type": "slide"
    }
   }
  },
  {
   "cell_type": "markdown",
   "source": [
    "## The Team\n",
    "\n",
    "- Ludovic Räss -- _the good_"
   ],
   "metadata": {
    "name": "A slide ",
    "slideshow": {
     "slide_type": "slide"
    }
   }
  },
  {
   "cell_type": "markdown",
   "source": [
    "- Ivan Utkin -- _the pro_"
   ],
   "metadata": {
    "name": "A slide ",
    "slideshow": {
     "slide_type": "fragment"
    }
   }
  },
  {
   "cell_type": "markdown",
   "source": [
    "- Samuel Omlin -- _the bad_"
   ],
   "metadata": {
    "name": "A slide ",
    "slideshow": {
     "slide_type": "fragment"
    }
   }
  },
  {
   "cell_type": "markdown",
   "source": [
    "- Mauro Werder -- _the ugly_"
   ],
   "metadata": {
    "name": "A slide ",
    "slideshow": {
     "slide_type": "fragment"
    }
   }
  },
  {
   "cell_type": "markdown",
   "source": [
    "- Giacomo Aloisi (Teaching Assistant)"
   ],
   "metadata": {
    "name": "A slide ",
    "slideshow": {
     "slide_type": "fragment"
    }
   }
  },
  {
   "cell_type": "markdown",
   "source": [
    "## Logistics\n",
    "\n",
    "All you need should be available on the course website:\\\n",
    "[https://pde-on-gpu.vaw.ethz.ch](https://pde-on-gpu.vaw.ethz.ch)\n",
    "\n",
    "> If something is missing, ping us so we can add it (_or even better_ do a pull request\\\n",
    "> at [https://github.com/eth-vaw-glaciology/course-101-0250-00/](https://github.com/eth-vaw-glaciology/course-101-0250-00/))"
   ],
   "metadata": {
    "name": "A slide ",
    "slideshow": {
     "slide_type": "slide"
    }
   }
  },
  {
   "cell_type": "markdown",
   "source": [
    "Let's have a brief tour of the [course website](https://pde-on-gpu.vaw.ethz.ch)"
   ],
   "metadata": {
    "name": "A slide ",
    "slideshow": {
     "slide_type": "fragment"
    }
   }
  },
  {
   "cell_type": "markdown",
   "source": [
    "### Discussion & help\n",
    "\n",
    "We use the Element-chat as the main communication channel for the course, both between the teachers and the student, and hopefully also between students.\n",
    "\n",
    "Join [Element (https://chat.ethz.ch/)](https://chat.ethz.ch/) by logging in with you NETHZ username & password.\n",
    "  - Login link is available on [Moodle](https://moodle-app2.let.ethz.ch/course/view.php?id=20175&lang=en).\n",
    "  - Join the _**General**_ (course infos) and _**Helpdesk**_ (exercises Q&A) rooms."
   ],
   "metadata": {
    "name": "A slide ",
    "slideshow": {
     "slide_type": "slide"
    }
   }
  },
  {
   "cell_type": "markdown",
   "source": [
    "### Grading\n",
    "\n",
    "- Weekly exercises 5 (out of 6) as homework (alone or groups of 2) **30%**\n",
    "- Consolidation project (alone or groups of 2) **35%**\n",
    "- Final project (groups of 2) **35%**"
   ],
   "metadata": {
    "name": "A slide ",
    "slideshow": {
     "slide_type": "slide"
    }
   }
  },
  {
   "cell_type": "markdown",
   "source": [
    "## Computing\n",
    "\n",
    "Bring your laptop to all lectures!\n",
    "\n",
    "- Who has access to an Nvidia / AMD GPU?\n",
    "- What operating system are you on?\n",
    "\n",
    "In the first few lecture we will use JupyterHub (accessible within Moodle) to get you started. Later we plan to get you all setup with a personal Julia installation."
   ],
   "metadata": {
    "name": "A slide ",
    "slideshow": {
     "slide_type": "slide"
    }
   }
  },
  {
   "cell_type": "markdown",
   "source": [
    "## Summary\n",
    "\n",
    "- (Almost) All infos on [https://pde-on-gpu.vaw.ethz.ch](https://pde-on-gpu.vaw.ethz.ch)\n",
    "- Get started with [Element (https://chat.ethz.ch/)](https://chat.ethz.ch/)\n",
    "\n",
    "If some important info is missing, ping us so we can add it or make a PR.\n",
    "\n",
    "> **Suggestion:** \\\n",
    "> Bookmark [https://pde-on-gpu.vaw.ethz.ch](hhttps://pde-on-gpu.vaw.ethz.ch)"
   ],
   "metadata": {
    "name": "A slide ",
    "slideshow": {
     "slide_type": "slide"
    }
   }
  }
 ],
 "nbformat_minor": 3,
 "metadata": {
  "language_info": {
   "file_extension": ".jl",
   "mimetype": "application/julia",
   "name": "julia",
   "version": "1.9.3"
  },
  "kernelspec": {
   "name": "julia-1.9",
   "display_name": "Julia 1.9.3",
   "language": "julia"
  }
 },
 "nbformat": 4
}
