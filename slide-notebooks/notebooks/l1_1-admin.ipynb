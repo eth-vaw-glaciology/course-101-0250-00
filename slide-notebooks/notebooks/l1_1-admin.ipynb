{
 "cells": [
  {
   "cell_type": "markdown",
   "metadata": {
    "name": "A slide ",
    "slideshow": {
     "slide_type": "slide"
    }
   },
   "source": [
    "$\\texttt{The small print of}$\n",
    "\n",
    "# Solving partial differential equations in parallel on GPUs"
   ]
  },
  {
   "cell_type": "markdown",
   "metadata": {
    "name": "A slide ",
    "slideshow": {
     "slide_type": "slide"
    }
   },
   "source": [
    "## The Team\n",
    "\n",
    "- Ludovic Räss -- _the good_"
   ]
  },
  {
   "cell_type": "markdown",
   "metadata": {
    "name": "A slide ",
    "slideshow": {
     "slide_type": "fragment"
    }
   },
   "source": [
    "- Ivan Utkin -- _the pro_"
   ]
  },
  {
   "cell_type": "markdown",
   "metadata": {
    "name": "A slide ",
    "slideshow": {
     "slide_type": "fragment"
    }
   },
   "source": [
    "- Samuel Omlin -- _the bad_"
   ]
  },
  {
   "cell_type": "markdown",
   "metadata": {
    "name": "A slide ",
    "slideshow": {
     "slide_type": "fragment"
    }
   },
   "source": [
    "- Mauro Werder -- _the ugly_"
   ]
  },
  {
   "cell_type": "markdown",
   "metadata": {
    "name": "A slide ",
    "slideshow": {
     "slide_type": "fragment"
    }
   },
   "source": [
    "- Alexander Mandt (Teaching Assistant)"
   ]
  },
  {
   "cell_type": "markdown",
   "metadata": {
    "name": "A slide ",
    "slideshow": {
     "slide_type": "slide"
    }
   },
   "source": [
    "## Logistics\n",
    "\n",
    "All you need should be available on the course website:\\\n",
    "[https://pde-on-gpu.vaw.ethz.ch](https://pde-on-gpu.vaw.ethz.ch)\n",
    "\n",
    "> If something is missing, ping us so we can add it (_or even better_ do a pull request\\\n",
    "> at [https://github.com/eth-vaw-glaciology/course-101-0250-00/](https://github.com/eth-vaw-glaciology/course-101-0250-00/))"
   ]
  },
  {
   "cell_type": "markdown",
   "metadata": {
    "name": "A slide ",
    "slideshow": {
     "slide_type": "fragment"
    }
   },
   "source": [
    "Let's have a brief tour of the [course website](https://pde-on-gpu.vaw.ethz.ch)"
   ]
  },
  {
   "cell_type": "markdown",
   "metadata": {
    "name": "A slide ",
    "slideshow": {
     "slide_type": "slide"
    }
   },
   "source": [
    "### Discussion & help\n",
    "\n",
    "We use the Element-chat as the main communication channel for the course, both between the teachers and the student, and hopefully also between students.\n",
    "\n",
    "Join [Element (https://chat.ethz.ch/)](https://chat.ethz.ch/) by logging in with you NETHZ username & password.\n",
    "  - Login link is available on [Moodle](https://moodle-app2.let.ethz.ch/mod/url/view.php?id=781163).\n",
    "  - Join the _**General**_ (course infos) and _**Helpdesk**_ (exercises Q&A) rooms."
   ]
  },
  {
   "cell_type": "markdown",
   "metadata": {
    "name": "A slide ",
    "slideshow": {
     "slide_type": "slide"
    }
   },
   "source": [
    "### Grading\n",
    "\n",
    "- Weekly exercises 5 (out of 6) as homework (alone or groups of 2) **30%**\n",
    "- Consolidation project (alone or groups of 2) **35%**\n",
    "- Final project (groups of 2) **35%**"
   ]
  },
  {
   "cell_type": "markdown",
   "metadata": {
    "name": "A slide ",
    "slideshow": {
     "slide_type": "slide"
    }
   },
   "source": [
    "## Computing\n",
    "\n",
    "Bring your laptop to all lectures!\n",
    "\n",
    "- Who has access to an Nvidia GPU?\n",
    "- What operating system are you on?\n",
    "\n",
    "In the first few lecture we will use JupyterHub (accessible within Moodle) to get you started. Later we plan to get you all setup with a personal Julia installation."
   ]
  },
  {
   "cell_type": "markdown",
   "metadata": {
    "name": "A slide ",
    "slideshow": {
     "slide_type": "slide"
    }
   },
   "source": [
    "## Summary\n",
    "\n",
    "- (Almost) All infos on [https://pde-on-gpu.vaw.ethz.ch](https://pde-on-gpu.vaw.ethz.ch)\n",
    "- Get started with [Element (https://chat.ethz.ch/)](https://chat.ethz.ch/)\n",
    "\n",
    "If some important info is missing, ping us so we can add it or make a PR.\n",
    "\n",
    "> **Suggestion:**\\\n",
    "> Bookmark [https://pde-on-gpu.vaw.ethz.ch](hhttps://pde-on-gpu.vaw.ethz.ch)"
   ]
  }
 ],
 "metadata": {
  "kernelspec": {
   "display_name": "Julia 1.9.3",
   "language": "julia",
   "name": "julia-1.9"
  },
  "language_info": {
   "file_extension": ".jl",
   "mimetype": "application/julia",
   "name": "julia",
   "version": "1.8.2"
  }
 },
 "nbformat": 4,
 "nbformat_minor": 4
}
