{
 "cells": [
  {
   "cell_type": "markdown",
   "source": [
    "_Lecture 1_\n",
    "# Why solve PDEs on GPUs? & The tool for the job"
   ],
   "metadata": {
    "name": "A slide ",
    "slideshow": {
     "slide_type": "slide"
    }
   }
  },
  {
   "cell_type": "markdown",
   "source": [
    "## Why solve PDEs on GPUs?"
   ],
   "metadata": {
    "name": "A slide ",
    "slideshow": {
     "slide_type": "slide"
    }
   }
  },
  {
   "cell_type": "markdown",
   "source": [
    "<center>\n",
    "  <video width=\"80%\" autoplay loop controls src=\"./figures/l1_porous_convection_2D.mp4\"/>\n",
    "</center>"
   ],
   "metadata": {}
  },
  {
   "cell_type": "markdown",
   "source": [
    "### A brief intro about GPU computing:\n",
    "- Why we do it\n",
    "- Why it is cool (in Julia)\n",
    "- Examples from current research"
   ],
   "metadata": {
    "name": "A slide ",
    "slideshow": {
     "slide_type": "slide"
    }
   }
  },
  {
   "cell_type": "markdown",
   "source": [
    "### Propaganda\n",
    "#### Why we do it"
   ],
   "metadata": {
    "name": "A slide ",
    "slideshow": {
     "slide_type": "slide"
    }
   }
  },
  {
   "cell_type": "markdown",
   "source": [
    "Predict the evolution of natural and engineered systems.\n",
    "\n",
    "![ice2](./figures/l1_ice2.png)\n",
    "\n",
    "_e.g. ice cap evolution, stress distribution, etc..._"
   ],
   "metadata": {
    "name": "A slide ",
    "slideshow": {
     "slide_type": "fragment"
    }
   }
  },
  {
   "cell_type": "markdown",
   "source": [
    "Physical processes that describe those systems are **complex** and often **nonlinear**\n",
    "- no or very limited analytical solution is available\n",
    "\n",
    "👉 a numerical approach is required to solve the mathematical model"
   ],
   "metadata": {
    "name": "A slide ",
    "slideshow": {
     "slide_type": "slide"
    }
   }
  },
  {
   "cell_type": "markdown",
   "source": [
    "A numerical solution means solving a system of (coupled) differential equations\n",
    "\n",
    "$$\n",
    "\\mathbf{mathematical ~ model ~ → ~ discretisation ~ → ~ solution}\\\\\n",
    "\\frac{∂C}{∂t} = ... ~ → ~ \\frac{\\texttt{C}^{i+1} - \\texttt{C}^{i}}{\\texttt{∆t}} = ... ~ → ~ \\texttt{C} = \\texttt{C} + \\texttt{∆t} \\cdot ...\n",
    "$$"
   ],
   "metadata": {
    "name": "A slide ",
    "slideshow": {
     "slide_type": "slide"
    }
   }
  },
  {
   "cell_type": "markdown",
   "source": [
    "Solving PDEs is computationally demanding\n",
    "- ODEs - scalar equations\n",
    "\n",
    "$$ \\frac{∂C}{∂t} = -\\frac{(C-C_{eq})}{ξ} $$\n",
    "\n",
    "but..."
   ],
   "metadata": {
    "name": "A slide ",
    "slideshow": {
     "slide_type": "slide"
    }
   }
  },
  {
   "cell_type": "markdown",
   "source": [
    "- PDEs - involve vectors (and tensors)  👉 local gradients & neighbours\n",
    "\n",
    "$$ \\frac{∂C}{∂t} = D~ \\left(\\frac{∂^2C}{∂x^2} + \\frac{∂^2C}{∂y^2} \\right) $$"
   ],
   "metadata": {
    "name": "A slide ",
    "slideshow": {
     "slide_type": "fragment"
    }
   }
  },
  {
   "cell_type": "markdown",
   "source": [
    "Computational costs increase\n",
    "- with complexity (e.g. multi-physics, couplings)\n",
    "- with dimensions (3D tensors...)\n",
    "- upon refining spatial and temporal resolution"
   ],
   "metadata": {
    "name": "A slide ",
    "slideshow": {
     "slide_type": "slide"
    }
   }
  },
  {
   "cell_type": "markdown",
   "source": [
    "<center>\n",
    "  <video width=\"80%\" autoplay loop controls src=\"./figures/l1_Stokes2D_vep.mp4\"/>\n",
    "</center>"
   ],
   "metadata": {
    "name": "A slide ",
    "slideshow": {
     "slide_type": "slide"
    }
   }
  },
  {
   "cell_type": "markdown",
   "source": [
    "Use **parallel computing** to address this:\n",
    "- The \"memory wall\" in ~ 2004\n",
    "- Single-core to multi-core devices\n",
    "\n",
    "![mem_wall](./figures/l1_mem_wall.png)"
   ],
   "metadata": {
    "name": "A slide ",
    "slideshow": {
     "slide_type": "slide"
    }
   }
  },
  {
   "cell_type": "markdown",
   "source": [
    "GPUs are _massively_ parallel devices\n",
    "- SIMD machine (programmed using threads - SPMD) ([more](https://safari.ethz.ch/architecture/fall2020/lib/exe/fetch.php?media=onur-comparch-fall2020-lecture24-simdandgpu-afterlecture.pdf))\n",
    "- Further increases the Flop vs Bytes gap\n",
    "\n",
    "![cpu_gpu_evo](./figures/l1_cpu_gpu_evo.png)"
   ],
   "metadata": {
    "name": "A slide ",
    "slideshow": {
     "slide_type": "slide"
    }
   }
  },
  {
   "cell_type": "markdown",
   "source": [
    "👉 We are memory bound: requires to re-think the numerical implementation and solution strategies"
   ],
   "metadata": {
    "name": "A slide ",
    "slideshow": {
     "slide_type": "fragment"
    }
   }
  },
  {
   "cell_type": "markdown",
   "source": [
    "#### Why it is cool"
   ],
   "metadata": {
    "name": "A slide ",
    "slideshow": {
     "slide_type": "slide"
    }
   }
  },
  {
   "cell_type": "markdown",
   "source": [
    "![julia-gpu](./figures/l1_julia-gpu.png)"
   ],
   "metadata": {
    "name": "A slide ",
    "slideshow": {
     "slide_type": "fragment"
    }
   }
  },
  {
   "cell_type": "markdown",
   "source": [
    "#### GPU are cool\n",
    "- Price vs Performance; Close to **1.5TB/s** memory throughput (nonlinear diffusion) that one can achieve 🚀\n",
    "\n",
    "![perf_gpu](./figures/l1_perf_gpu.png)"
   ],
   "metadata": {
    "name": "A slide ",
    "slideshow": {
     "slide_type": "slide"
    }
   }
  },
  {
   "cell_type": "markdown",
   "source": [
    "- Availability (less fight for resources); Still not many applications run on GPUs\n",
    "\n",
    "- Workstation turns into a personal Supercomputers; GPU vs CPUs peak memory bandwidth: theoretical 10x (practically more)\n",
    "\n",
    "![titan_node](./figures/l1_titan_node.jpg)"
   ],
   "metadata": {
    "name": "A slide ",
    "slideshow": {
     "slide_type": "slide"
    }
   }
  },
  {
   "cell_type": "markdown",
   "source": [
    "#### Julia is cool\n",
    "Solution to the \"two-language problem\"\n",
    "- Single code for prototyping and production\n",
    "\n",
    "![two_lang](./figures/l1_two_lang.png)"
   ],
   "metadata": {
    "name": "A slide ",
    "slideshow": {
     "slide_type": "slide"
    }
   }
  },
  {
   "cell_type": "markdown",
   "source": [
    "Backend agnostic:\n",
    "- Single code to run on single CPU or thousands of GPUs\n",
    "- Single code to run on various CPUs (x86, Power9, ARM) \\\n",
    "  and GPUs (Nvidia, AMD)\n",
    "\n",
    "Interactive:\n",
    "- No need for 3rd-party visualisation software\n",
    "- Debugging and interactive REPL mode\n",
    "- Efficient for development"
   ],
   "metadata": {
    "name": "A slide ",
    "slideshow": {
     "slide_type": "slide"
    }
   }
  },
  {
   "cell_type": "markdown",
   "source": [
    "#### Examples from current research\n",
    "\n",
    "- [ParallelStencil _miniapps_](https://github.com/omlins/ParallelStencil.jl#miniapp-content)\n",
    "- [Ice-flow modelling](https://github.com/luraess/julia-parallel-course-EGU21#greenlands-ice-cap-evolution)\n",
    "- [GPU4GEO - _Frontier GPU multi-physics solvers_](https://ptsolvers.github.io/GPU4GEO/software/)\n",
    "- [3D hydro-mechanical inversions](https://github.com/PTsolvers/PseudoTransientAdjoint.jl#3d-hydro-mechanically-constrained-inversion)\n",
    "- [3D Random fields](https://github.com/luraess/ParallelRandomFields.jl#parallelrandomfieldsjl)\n",
    "- more ..."
   ],
   "metadata": {
    "name": "A slide ",
    "slideshow": {
     "slide_type": "slide"
    }
   }
  }
 ],
 "nbformat_minor": 3,
 "metadata": {
  "language_info": {
   "file_extension": ".jl",
   "mimetype": "application/julia",
   "name": "julia",
   "version": "1.9.3"
  },
  "kernelspec": {
   "name": "julia-1.9",
   "display_name": "Julia 1.9.3",
   "language": "julia"
  }
 },
 "nbformat": 4
}
