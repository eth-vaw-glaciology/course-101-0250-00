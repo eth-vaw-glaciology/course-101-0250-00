{
 "cells": [
  {
   "cell_type": "markdown",
   "source": [
    "_Lecture 6_\n",
    "# Unit testing and reference tests in Julia\n",
    "\n",
    "(Unit) testing is pervasive in the Julia ecosystem thanks to efficient built-in tools and\n",
    "a culture encouraging testing.\n",
    "\n",
    "This [JuliaCon 2021 talk](https://live.juliacon.org/talk/HVSAW9) gives a nice overview: more than 90% of all registered packages have at least some tests, with the median package having about 25% of the code being tests."
   ],
   "metadata": {
    "name": "A slide ",
    "slideshow": {
     "slide_type": "slide"
    }
   }
  },
  {
   "cell_type": "markdown",
   "source": [
    "Terms:\n",
    "- \"unit test\": small tests, usually on a per-function basis\n",
    "- \"integration test\": test large part of the code base\n",
    "- \"reference test\": test against a previous output (not necessarily known whether \"good\" or \"bad\")\n",
    "- \"Continuous Integration\" (CI): running of the tests automatically on push to github/gitlab/etc"
   ],
   "metadata": {
    "name": "A slide ",
    "slideshow": {
     "slide_type": "fragment"
    }
   }
  },
  {
   "cell_type": "markdown",
   "source": [
    "### The goals of this lecture are\n",
    "- how to assess CI-run tests for packages of the Julia ecosystem (registered packages)\n",
    "- how to run tests for registered packages on your computer\n",
    "- how to use tests of packages as \"documentation\"\n",
    "- create a test-suite for a small project of your\n",
    "- learn to do reference-tests (besides unit-tests)\n",
    "\n",
    "(How to setup CI as part of a project of yours will be taught later)"
   ],
   "metadata": {
    "name": "A slide ",
    "slideshow": {
     "slide_type": "slide"
    }
   }
  },
  {
   "cell_type": "markdown",
   "source": [
    "### Registered Packages: CI tests & using as documentation\n",
    "\n",
    "Let's look at a simple package: [UnPack.jl](https://github.com/mauro3/UnPack.jl)\n",
    "\n",
    "![UnPack.jl](./figures/l6_UnPack.png)\n",
    "\n",
    "- the CI-results are often displayed in form of _badges_\n",
    "- there are different CI-services, most used is GitHub-Actions\n",
    "- often the tests are a fairly good source of documentation by example\n",
    "\n",
    "💻 -> \"demo\""
   ],
   "metadata": {
    "name": "A slide ",
    "slideshow": {
     "slide_type": "slide"
    }
   }
  },
  {
   "cell_type": "markdown",
   "source": [
    "### Registered Packages: test locally\n",
    "\n",
    "Using: [UnPack.jl](https://github.com/mauro3/UnPack.jl)\n",
    "\n",
    "Installed packages can be tested:\n",
    "```julia\n",
    "pkg> add UnPack\n",
    "\n",
    "pkg> test UnPack\n",
    "```"
   ],
   "metadata": {
    "name": "A slide ",
    "slideshow": {
     "slide_type": "slide"
    }
   }
  },
  {
   "cell_type": "markdown",
   "source": [
    "### Registered Packages: test locally\n",
    "\n",
    "Going one step further.  Make and test changes of a package.\n",
    "`dev` the package:\n",
    "```julia\n",
    "pkg> dev UnPack\n",
    "```\n",
    "This will checkout the package to `~/.julia/dev/UnPack`.\n",
    "\n",
    "Re-Start Julia with this package activated:\n",
    "```sh\n",
    "$ cd ~/.julia/dev/UnPack\n",
    "$ julia --project\n",
    "```\n",
    "In package mode run the tests:\n",
    "```julia\n",
    "(UnPack) pkg> test\n",
    "    Testing UnPack\n",
    "      Status `/tmp/jl_LgpabA/Project.toml`\n",
    "  [3a884ed6] UnPack v1.0.2 `~/julia/dot-julia-dev/UnPack`\n",
    "...\n",
    "```\n",
    "If you edit the source, e.g. to fix a bug, re-run the tests before submitting a PR."
   ],
   "metadata": {
    "name": "A slide ",
    "slideshow": {
     "slide_type": "slide"
    }
   }
  },
  {
   "cell_type": "markdown",
   "source": [
    "### Write your own tests\n",
    "\n",
    "Start easy:\n",
    "- add test just to a script\n",
    "\n",
    "Step up:\n",
    "- move tests to `test/runtests.jl`, the standard location\n",
    "- include scripts to just run-through\n",
    "- use \"reference-tests\" as integration tests\n",
    "\n",
    "Another day:\n",
    "- setup CI on GitHub"
   ],
   "metadata": {
    "name": "A slide ",
    "slideshow": {
     "slide_type": "slide"
    }
   }
  },
  {
   "cell_type": "markdown",
   "source": [
    "### Write your own tests: demo with \"car_travel.jl\" from Lecture 1"
   ],
   "metadata": {
    "name": "A slide ",
    "slideshow": {
     "slide_type": "slide"
    }
   }
  },
  {
   "outputs": [],
   "cell_type": "code",
   "source": [
    "using Plots\n",
    "\n",
    "function car_travel_1D()\n",
    "    # Physical parameters\n",
    "    V     = 113.0          # speed, km/h\n",
    "    L     = 200.0          # length of segment, km\n",
    "    dir   = 1              # switch 1 = go right, -1 = go left\n",
    "    ttot  = 16.0           # total time, h\n",
    "    # Numerical parameters\n",
    "    dt    = 0.1            # time step, h\n",
    "    nt    = Int(cld(ttot, dt))  # number of time steps\n",
    "    # Array initialisation\n",
    "    T     = zeros(nt)\n",
    "    X     = zeros(nt)\n",
    "    # Time loop\n",
    "    for it = 2:nt\n",
    "        T[it] = T[it-1] + dt\n",
    "        X[it] = X[it-1] + dir*V*dt  # move the car\n",
    "        if X[it] > L\n",
    "            dir = -1      # if beyond L, go back (left)\n",
    "        elseif X[it] < 0\n",
    "            dir = 1       # if beyond 0, go back (right)\n",
    "        end\n",
    "    end\n",
    "    # Visualisation\n",
    "    # display(scatter(T, X, markersize=5, xlabel=\"time, hrs\", ylabel=\"distance, km\", framestyle=:box, legend=:none))\n",
    "    return T, X\n",
    "end\n",
    "\n",
    "T, X = car_travel_1D()"
   ],
   "metadata": {},
   "execution_count": null
  },
  {
   "cell_type": "markdown",
   "source": [
    "### Write your own tests: demo with \"car_travel.jl\" from Lecture 1\n",
    "\n",
    "Steps:\n",
    "1. `generate` a project and add `scripts/car_travel.jl`\n",
    "2. use reference tests\n",
    "3. add some unit tests in-line\n",
    "4. move the tests to `test/runtests.jl`"
   ],
   "metadata": {
    "name": "A slide ",
    "slideshow": {
     "slide_type": "slide"
    }
   }
  },
  {
   "cell_type": "markdown",
   "source": [
    "> 💡 note: To make the `pkg> test` run, you have to have a file `src/MyPkg.jl`, even if it is just empty."
   ],
   "metadata": {}
  },
  {
   "cell_type": "markdown",
   "source": [
    "### Write your own tests: demo with \"car_travel.jl\" from Lecture 1\n",
    "\n",
    "Step 1: generate a package\n",
    "```julia\n",
    "$ cd to-some-dir\n",
    "$ julia --project\n",
    "\n",
    "julia> using Pkg; Pkg.generate(\"L6Testing\")\n",
    "```\n",
    "\n",
    "Steps 3--4 are in the repository [course-101-0250-00-L6Testing.jl](https://github.com/eth-vaw-glaciology/course-101-0250-00-L6Testing.jl); note that this steps are encoded in the git history which the README links into."
   ],
   "metadata": {
    "name": "A slide ",
    "slideshow": {
     "slide_type": "slide"
    }
   }
  },
  {
   "cell_type": "markdown",
   "source": [
    "> 💡 note: For outputs from big simulations, such as ours, it make sense to only reference-test at a few 10s of indices."
   ],
   "metadata": {}
  }
 ],
 "nbformat_minor": 3,
 "metadata": {
  "language_info": {
   "file_extension": ".jl",
   "mimetype": "application/julia",
   "name": "julia",
   "version": "1.10.5"
  },
  "kernelspec": {
   "name": "julia-1.10",
   "display_name": "Julia 1.10.5",
   "language": "julia"
  }
 },
 "nbformat": 4
}
