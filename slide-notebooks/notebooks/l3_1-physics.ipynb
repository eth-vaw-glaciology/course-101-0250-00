{
 "cells": [
  {
   "cell_type": "markdown",
   "source": [
    "_Lecture 3_\n",
    "# Solving elliptic PDEs"
   ],
   "metadata": {
    "name": "A slide ",
    "slideshow": {
     "slide_type": "slide"
    }
   }
  },
  {
   "cell_type": "markdown",
   "source": [
    "### The goal of this lecture 3 is to familiarise (or refresh) with:\n",
    "- The damped wave equation\n",
    "- Spectral analysis of linear PDEs\n",
    "- Pseudo-transient method for solving elliptic PDEs\n",
    "- Spatial discretisation: 1D and 2D"
   ],
   "metadata": {
    "name": "A slide ",
    "slideshow": {
     "slide_type": "slide"
    }
   }
  },
  {
   "cell_type": "markdown",
   "source": [
    "In the previous lecture, we established that the solution to the elliptic PDE could be obtained through integrating in time a corresponding parabolic PDE:\n",
    "\n",
    "$$\n",
    "\\frac{\\partial C}{\\partial t} - \\frac{\\partial^2 C}{\\partial x^2} = 0\n",
    "$$"
   ],
   "metadata": {
    "name": "A slide ",
    "slideshow": {
     "slide_type": "slide"
    }
   }
  },
  {
   "cell_type": "markdown",
   "source": [
    "and discussed the limitations of this approach for numerical modelling, i.e., the quadratic dependence of the number of time steps on the number of grid points in spatial discretisation."
   ],
   "metadata": {
    "name": "A slide ",
    "slideshow": {
     "slide_type": "slide"
    }
   }
  },
  {
   "cell_type": "markdown",
   "source": [
    "<center>\n",
    "  <video width=\"80%\" autoplay loop controls src=\"./figures/l2_diffusion_1D_steady_state.mp4\"/>\n",
    "</center>"
   ],
   "metadata": {}
  },
  {
   "cell_type": "markdown",
   "source": [
    "## Accelerating elliptic solver convergence: intuition\n",
    "\n",
    "In this lecture, we'll improve the convergence rate of the elliptic solver, and consider the generalisation to higher dimensions"
   ],
   "metadata": {
    "name": "A slide ",
    "slideshow": {
     "slide_type": "slide"
    }
   }
  },
  {
   "cell_type": "markdown",
   "source": [
    "Let's recall the stability conditions for diffusion and acoustic wave propagation:\n",
    "\n",
    "```julia\n",
    "dt = dx^2/dc/2      # diffusion\n",
    "dt = dx/sqrt(1/β/ρ) # acoustic wave propagation\n",
    "```"
   ],
   "metadata": {
    "name": "A slide ",
    "slideshow": {
     "slide_type": "fragment"
    }
   }
  },
  {
   "cell_type": "markdown",
   "source": [
    "We can see that the acceptable time step for an acoustic problem is proportional to the grid spacing `dx`, and not `dx^2` as for the diffusion."
   ],
   "metadata": {
    "name": "A slide ",
    "slideshow": {
     "slide_type": "fragment"
    }
   }
  },
  {
   "cell_type": "markdown",
   "source": [
    "The number of time steps required for the wave to propagate through the domain is only proportional to the number of grid points `nx`."
   ],
   "metadata": {
    "name": "A slide ",
    "slideshow": {
     "slide_type": "slide"
    }
   }
  },
  {
   "cell_type": "markdown",
   "source": [
    "Can we use that information to reduce the time required for the elliptic solver to converge?"
   ],
   "metadata": {
    "name": "A slide ",
    "slideshow": {
     "slide_type": "fragment"
    }
   }
  },
  {
   "cell_type": "markdown",
   "source": [
    "In the solution to the wave equation, the waves do not attenuate with time: _there is no steady state!_"
   ],
   "metadata": {
    "name": "A slide ",
    "slideshow": {
     "slide_type": "slide"
    }
   }
  },
  {
   "cell_type": "markdown",
   "source": [
    "<center>\n",
    "  <video width=\"80%\" autoplay loop controls src=\"./figures/l2_acoustic_1D.mp4\"/>\n",
    "</center>"
   ],
   "metadata": {}
  },
  {
   "cell_type": "markdown",
   "source": [
    "### Damped wave equation\n",
    "\n",
    "Let's add diffusive properties to the wave equation by simply combining the physics:\n",
    "\n",
    "\\begin{align}\n",
    "\\rho\\frac{\\partial V_x}{\\partial t}                 &= -\\frac{\\partial P}{\\partial x} \\\\[10pt]\n",
    "\\beta\\frac{\\partial P}{\\partial t} + \\frac{P}{\\eta} &= -\\frac{\\partial V_x}{\\partial x}\n",
    "\\end{align}"
   ],
   "metadata": {
    "name": "A slide ",
    "slideshow": {
     "slide_type": "slide"
    }
   }
  },
  {
   "cell_type": "markdown",
   "source": [
    "Note the addition of the new term $\\frac{P}{\\eta}$ to the left-hand side of the mass balance equation, which could be interpreted physically as accounting for the bulk viscosity of the gas."
   ],
   "metadata": {
    "name": "A slide ",
    "slideshow": {
     "slide_type": "fragment"
    }
   }
  },
  {
   "cell_type": "markdown",
   "source": [
    "Equvalently, we could add the time derivative to the diffusion equation\n",
    "\n",
    "\\begin{align}\n",
    "\\rho\\frac{\\partial q}{\\partial t} + \\frac{q}{D} &= -\\frac{\\partial C}{\\partial x} \\\\[10pt]\n",
    "\\frac{\\partial C}{\\partial t}                   &= -\\frac{\\partial q}{\\partial x}\n",
    "\\end{align}"
   ],
   "metadata": {
    "name": "A slide ",
    "slideshow": {
     "slide_type": "slide"
    }
   }
  },
  {
   "cell_type": "markdown",
   "source": [
    "In that case, the new term would be $\\rho\\frac{\\partial q}{\\partial t}$, which could be interpreted physically as adding the inertia to the momentum equation for diffusive flux."
   ],
   "metadata": {
    "name": "A slide ",
    "slideshow": {
     "slide_type": "fragment"
    }
   }
  },
  {
   "cell_type": "markdown",
   "source": [
    "> 💡 note: In 1D, both modifications are equivalent up to renaming the variables. The conceptual difference is that in the former case we add new terms to the vector quantity (diffusive flux $q$), and in the latter case we modify the equation governing the evolution of the scalar quantity (pressure $P$)."
   ],
   "metadata": {
    "name": "A slide ",
    "slideshow": {
     "slide_type": "slide"
    }
   }
  },
  {
   "cell_type": "markdown",
   "source": [
    "Let's eliminate $V_x$ and $q$ in both systems to get one governing equation for $P$ and $C$, respectively:"
   ],
   "metadata": {
    "name": "A slide ",
    "slideshow": {
     "slide_type": "slide"
    }
   }
  },
  {
   "cell_type": "markdown",
   "source": [
    "\\begin{align}\n",
    "\\beta\\frac{\\partial^2 P}{\\partial t^2} + \\frac{1}{\\eta}\\frac{\\partial P}{\\partial t} &= \\frac{1}{\\rho}\\frac{\\partial^2 P}{\\partial x^2} \\\\[10pt]\n",
    "\\rho\\frac{\\partial^2 C}{\\partial t^2} + \\frac{1}{D}\\frac{\\partial C}{\\partial t}     &= \\frac{\\partial^2 C}{\\partial x^2}\n",
    "\\end{align}"
   ],
   "metadata": {
    "name": "A slide ",
    "slideshow": {
     "slide_type": "fragment"
    }
   }
  },
  {
   "cell_type": "markdown",
   "source": [
    "We refer to such equations as the _damped wave equations_. They combine wave propagation with diffusion, which manifests as wave attenuation, or decay. The damped wave equation is a hyperbolic PDE."
   ],
   "metadata": {
    "name": "A slide ",
    "slideshow": {
     "slide_type": "fragment"
    }
   }
  },
  {
   "cell_type": "markdown",
   "source": [
    "### Implementing the damped wave equation\n",
    "\n",
    "In the following, we'll use the damped wave equation for concentration $C$ obtained by augmenting the diffusion equation with density $\\rho$."
   ],
   "metadata": {
    "name": "A slide ",
    "slideshow": {
     "slide_type": "slide"
    }
   }
  },
  {
   "cell_type": "markdown",
   "source": [
    "Starting from the existing code implementing time-dependent diffusion, let's add the intertial term $\\rho\\frac{\\partial q}{\\partial t}$.\n",
    "\n",
    "👉 You can use the [`l2_diffusion_1D.jl` script](https://github.com/eth-vaw-glaciology/course-101-0250-00/blob/main/scripts/) as starting point."
   ],
   "metadata": {
    "name": "A slide ",
    "slideshow": {
     "slide_type": "fragment"
    }
   }
  },
  {
   "cell_type": "markdown",
   "source": [
    "First step is to add the new physical parameter $\\rho$ to the `# physics` section:\n",
    "\n",
    "```julia\n",
    "# physics\n",
    "...\n",
    "ρ   = 20.0\n",
    "```"
   ],
   "metadata": {
    "name": "A slide ",
    "slideshow": {
     "slide_type": "slide"
    }
   }
  },
  {
   "cell_type": "markdown",
   "source": [
    "Then we increase the number of time steps and reduce the frequency of plotting, and modify the initial conditions to have more interesting time evolution:\n",
    "\n",
    "```julia\n",
    "# numerics\n",
    "nvis = 50\n",
    "...\n",
    "# derived numerics\n",
    "...\n",
    "nt   = nx^2 ÷ 5\n",
    "...\n",
    "# array initialisation\n",
    "C    = @. 1.0 + exp(-(xc-lx/4)^2) - xc/lx; C_i = copy(C)\n",
    "```"
   ],
   "metadata": {
    "name": "A slide ",
    "slideshow": {
     "slide_type": "fragment"
    }
   }
  },
  {
   "cell_type": "markdown",
   "source": [
    "Then we modify the time loop to incorporate the new physics:\n",
    "\n",
    "```julia\n",
    "for it = 1:nt\n",
    "    #qx         .-= ...\n",
    "    C[2:end-1] .-= dt.*diff(qx)./dx\n",
    "    ...\n",
    "end\n",
    "```"
   ],
   "metadata": {
    "name": "A slide ",
    "slideshow": {
     "slide_type": "slide"
    }
   }
  },
  {
   "cell_type": "markdown",
   "source": [
    "👉 Your turn. Try to add the inertial term."
   ],
   "metadata": {
    "name": "A slide ",
    "slideshow": {
     "slide_type": "fragment"
    }
   }
  },
  {
   "cell_type": "markdown",
   "source": [
    "> **Hint**: There are two ways of adding the inertial term into the update rule.\n",
    "> - We could either take the known flux `q` in `q/dc` from the previous time step (explicit time integration), or the unknown flux from the next time step (implicit time integration).\n",
    "> - Could we treat the flux implicitly without having to solve the linear system?\n",
    "> - What are the benefits of the implicit time integration compared to the explicit one?"
   ],
   "metadata": {
    "name": "A slide ",
    "slideshow": {
     "slide_type": "slide"
    }
   }
  },
  {
   "cell_type": "markdown",
   "source": [
    "If the implementation is correct, we should see something like this:"
   ],
   "metadata": {
    "name": "A slide ",
    "slideshow": {
     "slide_type": "slide"
    }
   }
  },
  {
   "cell_type": "markdown",
   "source": [
    "<center>\n",
    "  <video width=\"80%\" autoplay loop controls src=\"./figures/l3_damped_diffusion_1D.mp4\"/>\n",
    "</center>"
   ],
   "metadata": {}
  },
  {
   "cell_type": "markdown",
   "source": [
    "The waves decay, now there is a steady state! 🎉 The time it takes to converge, however, doesn't seem to improve..."
   ],
   "metadata": {
    "name": "A slide ",
    "slideshow": {
     "slide_type": "fragment"
    }
   }
  },
  {
   "cell_type": "markdown",
   "source": [
    "Now we solve the hyperbolic PDE, and with the implicit flux term treatment, the time step should become proportional to the grid spacing `dx` instead of `dx^2`.\n",
    "\n",
    "Looking at the damped wave equation for $C$, and recalling the stability condition for wave propagation, we modify the time step, reduce the total number of time steps, and increase the frequency of plotting calls:\n",
    "\n",
    "```julia\n",
    "# numerics\n",
    "...\n",
    "nvis = 5\n",
    "# derived numerics\n",
    "...\n",
    "dt   = dx/sqrt(1/ρ)\n",
    "nt   = 5nx\n",
    "```"
   ],
   "metadata": {
    "name": "A slide ",
    "slideshow": {
     "slide_type": "slide"
    }
   }
  },
  {
   "cell_type": "markdown",
   "source": [
    "Re-run the simulation and see the results:"
   ],
   "metadata": {
    "name": "A slide ",
    "slideshow": {
     "slide_type": "slide"
    }
   }
  },
  {
   "cell_type": "markdown",
   "source": [
    "<center>\n",
    "  <video width=\"80%\" autoplay loop controls src=\"./figures/l3_damped_diffusion_better_1D.mp4\"/>\n",
    "</center>"
   ],
   "metadata": {}
  },
  {
   "cell_type": "markdown",
   "source": [
    "Now, this is much better! We observe that in less time steps, we get a much faster convergence. However, we introduced the new parameter, $\\rho$. Does the solution depend on the value of $\\rho$?"
   ],
   "metadata": {
    "name": "A slide ",
    "slideshow": {
     "slide_type": "fragment"
    }
   }
  },
  {
   "cell_type": "markdown",
   "source": [
    "## Problem of finding the iteration parameters\n",
    "\n",
    "👉 Try changing the new parameter `ρ`, increasing and decreasing it. What happens to the solution?"
   ],
   "metadata": {
    "name": "A slide ",
    "slideshow": {
     "slide_type": "slide"
    }
   }
  },
  {
   "cell_type": "markdown",
   "source": [
    "We notice that depending on the value of the parameter `ρ`, the convergence to steady-state can be faster or slower. If `ρ` is too small, the process becomes diffusion-dominated, and we're back to the non-accelerated version. If `ρ` is too large, waves decay slowly."
   ],
   "metadata": {
    "name": "A slide ",
    "slideshow": {
     "slide_type": "fragment"
    }
   }
  },
  {
   "cell_type": "markdown",
   "source": [
    "If the parameter `ρ` has optimal value, the convergence to steady-state could be achieved in the number of time steps proportional to the number of grid points `nx` and not `nx^2` as for the parabolic PDE."
   ],
   "metadata": {
    "name": "A slide ",
    "slideshow": {
     "slide_type": "fragment"
    }
   }
  },
  {
   "cell_type": "markdown",
   "source": [
    "For linear PDEs it is possible to determine the optimal value for `ρ` analytically:\n",
    "```julia\n",
    "ρ    = (lx/(dc*2π))^2\n",
    "```"
   ],
   "metadata": {
    "name": "A slide ",
    "slideshow": {
     "slide_type": "slide"
    }
   }
  },
  {
   "cell_type": "markdown",
   "source": [
    "How does one derive the optimal values for other problems and boundary conditions?\n",
    "Unfortunately, we don't have time to dive into details in this course...\n",
    "\n",
    "The idea of accelerating the convergence by increasing the order of PDE dates back to the work by [Frankel (1950)](https://doi.org/10.2307/2002770) where he studied the convergence rates of different iterative methods. Frankel noted the analogy between the iteration process and transient physics. In his work, the accelerated method was called the _second-order Richardson method_\n",
    "\n",
    "👀 If interested, [Räss et al. (2022)](https://gmd.copernicus.org/articles/15/5757/2022/) paper is a good starting point."
   ],
   "metadata": {
    "name": "A slide ",
    "slideshow": {
     "slide_type": "fragment"
    }
   }
  },
  {
   "cell_type": "markdown",
   "source": [
    "## Pseudo-transient method\n",
    "\n",
    "In this course, we call any method that builds upon the analogy to the transient physics the _pseudo-transient_ method."
   ],
   "metadata": {
    "name": "A slide ",
    "slideshow": {
     "slide_type": "slide"
    }
   }
  },
  {
   "cell_type": "markdown",
   "source": [
    "Using this analogy proves useful when studying multi-physics and nonlinear processes. The pseudo-transient method isn't restricted to solving the Poisson problems, but can be applied to a wide range of problems that are modelled with PDEs."
   ],
   "metadata": {
    "name": "A slide ",
    "slideshow": {
     "slide_type": "fragment"
    }
   }
  },
  {
   "cell_type": "markdown",
   "source": [
    "In a pseudo-transient method, we are interested only in a steady-state distributions of the unknown field variables such as concentration, temperature, etc."
   ],
   "metadata": {
    "name": "A slide ",
    "slideshow": {
     "slide_type": "fragment"
    }
   }
  },
  {
   "cell_type": "markdown",
   "source": [
    "We consider time steps as iterations in a numerical method. Therefore, we replace the time $t$ in the equations with _pseudo-time_ $\\tau$, and a time step `it` with iteration counter `iter`. When a pseudo-transient method converges, all the pseudo-time derivatives $\\partial/\\partial\\tau$, $\\partial^2/\\partial\\tau^2$ etc., vanish."
   ],
   "metadata": {
    "name": "A slide ",
    "slideshow": {
     "slide_type": "slide"
    }
   }
  },
  {
   "cell_type": "markdown",
   "source": [
    "> ⚠️ Warning: We should be careful when introducing the new pseudo-physical terms into the governing equations. We need to make sure that when iterations converge, i.e., if the pseudo-time derivatives are set to 0, the system of equations is identical to the original steady-state formulation."
   ],
   "metadata": {
    "name": "A slide ",
    "slideshow": {
     "slide_type": "fragment"
    }
   }
  },
  {
   "cell_type": "markdown",
   "source": [
    "For example, consider the damped acoustic problem that we introduced in the beginning:\n",
    "\n",
    "\\begin{align}\n",
    "\\rho\\frac{\\partial V_x}{\\partial\\tau}                 &= -\\frac{\\partial P}{\\partial x} \\\\[10pt]\n",
    "\\beta\\frac{\\partial P}{\\partial\\tau} + \\frac{P}{\\eta} &= -\\frac{\\partial V_x}{\\partial x}\n",
    "\\end{align}"
   ],
   "metadata": {
    "name": "A slide ",
    "slideshow": {
     "slide_type": "slide"
    }
   }
  },
  {
   "cell_type": "markdown",
   "source": [
    "At the steady-state, the second equation reads:\n",
    "\n",
    "$$\n",
    "\\frac{P}{\\eta} = -\\frac{\\partial V_x}{\\partial x}\n",
    "$$\n",
    "\n",
    "The velocity divergence is proportional to the pressure. If we wanted to solve the incompressible problem (i.e. the velocity divergence = 0), and were interested in the velocity distribution, this approach would lead to incorrect results. If we only want to solve the Laplace problem $\\partial^2 P/\\partial x^2 = 0$, we could consider $V_x$ purely as a numerical variable."
   ],
   "metadata": {
    "name": "A slide ",
    "slideshow": {
     "slide_type": "slide"
    }
   }
  },
  {
   "cell_type": "markdown",
   "source": [
    "In other words: only add those new terms to the governing equations that vanish when the iterations converge!"
   ],
   "metadata": {
    "name": "A slide ",
    "slideshow": {
     "slide_type": "fragment"
    }
   }
  },
  {
   "cell_type": "markdown",
   "source": [
    "### Visualising convergence\n",
    "\n",
    "Let's modify the code structure of the new elliptic solver. We need to monitor convergence and stop iterations when the error has reached predefined tolerance."
   ],
   "metadata": {
    "name": "A slide ",
    "slideshow": {
     "slide_type": "slide"
    }
   }
  },
  {
   "cell_type": "markdown",
   "source": [
    "To define the measure of error, we introduce the residual:\n",
    "\n",
    "$$\n",
    "r_C = D\\frac{\\partial^2 \\widehat{C}}{\\partial x^2}\n",
    "$$\n",
    "\n",
    "where $\\widehat{C}$ is the pseudo-transient solution"
   ],
   "metadata": {
    "name": "A slide ",
    "slideshow": {
     "slide_type": "fragment"
    }
   }
  },
  {
   "cell_type": "markdown",
   "source": [
    "There are many ways to define the error as the norm of the residual, the most popular ones are the $L_2$ norm and $L_\\infty$ norm. We will use the $L_\\infty$ norm here:\n",
    "\n",
    "$$\n",
    "\\|\\boldsymbol{r}\\|_\\infty = \\max_i(|r_i|)\n",
    "$$"
   ],
   "metadata": {
    "name": "A slide ",
    "slideshow": {
     "slide_type": "slide"
    }
   }
  },
  {
   "cell_type": "markdown",
   "source": [
    "Add new parameters to the `# numerics` section of the code:\n",
    "\n",
    "```julia\n",
    "# numerics\n",
    "nx      = 200\n",
    "ϵtol    = 1e-8\n",
    "maxiter = 20nx\n",
    "ncheck  = ceil(Int,0.25nx)\n",
    "```\n",
    "\n",
    "Here `ϵtol` is the tolerance for the pseudo-transient iterations, `maxiter` is the maximal number of iterations, that we use now instead of number of time steps `nt`, and `ncheck` is the frequency of evaluating the residual and the norm of the residual, which is a costly operation."
   ],
   "metadata": {
    "name": "A slide ",
    "slideshow": {
     "slide_type": "slide"
    }
   }
  },
  {
   "cell_type": "markdown",
   "source": [
    "We turn the time loop into the iteration loop, add the arrays to store the evolution of the error:\n",
    "\n",
    "```julia\n",
    "# iteration loop\n",
    "iter = 1; err = 2ϵtol; iter_evo = Float64[]; err_evo = Float64[]\n",
    "while err >= ϵtol && iter <= maxiter\n",
    "    qx         .-= ...\n",
    "    C[2:end-1] .-= ...\n",
    "    if iter % ncheck == 0\n",
    "        err = maximum(abs.(diff(dc.*diff(C)./dx)./dx))\n",
    "        push!(iter_evo,iter/nx); push!(err_evo,err)\n",
    "        p1 = plot(xc,[C_i,C];xlims=(0,lx),ylims=(-0.1,2.0),\n",
    "                  xlabel=\"lx\",ylabel=\"Concentration\",title=\"iter/nx=$(round(iter/nx,sigdigits=3))\")\n",
    "        p2 = plot(iter_evo,err_evo;xlabel=\"iter/nx\",ylabel=\"err\",\n",
    "                  yscale=:log10,grid=true,markershape=:circle,markersize=10)\n",
    "        display(plot(p1,p2;layout=(2,1)))\n",
    "    end\n",
    "    iter += 1\n",
    "end\n",
    "```"
   ],
   "metadata": {
    "name": "A slide ",
    "slideshow": {
     "slide_type": "slide"
    }
   }
  },
  {
   "cell_type": "markdown",
   "source": [
    "Note that we save the number of iteration per grid cell `iter/nx`"
   ],
   "metadata": {
    "name": "A slide ",
    "slideshow": {
     "slide_type": "slide"
    }
   }
  },
  {
   "cell_type": "markdown",
   "source": [
    "If the value of pseudo-transient parameter `ρ` is optimal, the number of iterations required for convergence should be proportional to `nx`, thus the `iter/nx` should be approximately constant.\n",
    "\n",
    "👉 Try to check that by changing the resolution `nx`."
   ],
   "metadata": {
    "name": "A slide ",
    "slideshow": {
     "slide_type": "fragment"
    }
   }
  },
  {
   "cell_type": "markdown",
   "source": [
    "![steady-diffusion](./figures/l3_steady_diffusion.png)"
   ],
   "metadata": {
    "name": "A slide ",
    "slideshow": {
     "slide_type": "slide"
    }
   }
  },
  {
   "cell_type": "markdown",
   "source": [
    "## Multi-physics: steady diffusion-reaction\n",
    "\n",
    "Let's implement our first pseudo-transient multi-physics solver by adding chemical reaction:\n",
    "\n",
    "$$\n",
    "D\\frac{\\partial^2 C}{\\partial x^2} = \\frac{C - C_{eq}}{\\xi}\n",
    "$$\n",
    "\n",
    "As you might remember from the exercises, characteristic time scales of diffusion and reaction can be related through the non-dimensional Damköhler number $\\mathrm{Da}=l_x^2/D/\\xi$."
   ],
   "metadata": {
    "name": "A slide ",
    "slideshow": {
     "slide_type": "slide"
    }
   }
  },
  {
   "cell_type": "markdown",
   "source": [
    "👉 Let's add the new physical parameters and modify the iteration loop:\n",
    "\n",
    "```julia\n",
    "# physics\n",
    "...\n",
    "C_eq    = 0.1\n",
    "da      = 10.0\n",
    "ξ       = lx^2/dc/da\n",
    "...\n",
    "# iteration loop\n",
    "iter = 1; err = 2ϵtol; iter_evo = Float64[]; err_evo = Float64[]\n",
    "while err >= ϵtol && iter <= maxiter\n",
    "    ...\n",
    "    # C[2:end-1] .-= ...\n",
    "    ...\n",
    "end\n",
    "```"
   ],
   "metadata": {
    "name": "A slide ",
    "slideshow": {
     "slide_type": "slide"
    }
   }
  },
  {
   "cell_type": "markdown",
   "source": [
    "> **Hint**: don't forget to modify the residual!"
   ],
   "metadata": {
    "name": "A slide ",
    "slideshow": {
     "slide_type": "fragment"
    }
   }
  },
  {
   "cell_type": "markdown",
   "source": [
    "Run the simulation and see the results:\n",
    "![steady-diffusion-reaction](./figures/l3_steady_diffusion_reaction.png)"
   ],
   "metadata": {
    "name": "A slide ",
    "slideshow": {
     "slide_type": "slide"
    }
   }
  },
  {
   "cell_type": "markdown",
   "source": [
    "As a final touch, let's refactor the code and extract the magical constant `2π` from the definition of numerical density `ρ`:\n",
    "\n",
    "```julia\n",
    "re      = 2π\n",
    "ρ       = (lx/(dc*re))^2\n",
    "```\n",
    "\n",
    "We call this new parameter `re` due to it's association to the non-dimensional [Reynolds number](https://en.wikipedia.org/wiki/Reynolds_number) relating intertial and dissipative forces into the momentum balance."
   ],
   "metadata": {
    "name": "A slide ",
    "slideshow": {
     "slide_type": "slide"
    }
   }
  },
  {
   "cell_type": "markdown",
   "source": [
    "Interestingly, the convergence rate of the diffusion-reaction systems could be improved significantly by modifying `re` to depend on the previously defined Damköhler number `da`:\n",
    "\n",
    "```julia\n",
    "re      = π + sqrt(π^2 + da)\n",
    "```\n",
    "👉 Verify that the number of iterations is indeed lower for the higher values of the Damköhler number."
   ],
   "metadata": {
    "name": "A slide ",
    "slideshow": {
     "slide_type": "slide"
    }
   }
  },
  {
   "cell_type": "markdown",
   "source": [
    "## Going 2D\n",
    "\n",
    "Converting the 1D code to higher dimensions is remarkably easy thanks to the explicit time integration.\n",
    "Firstly, we introduce the domain extent and the number of grid points in the y-direction:\n",
    "\n",
    "```julia\n",
    "# physics\n",
    "lx,ly   = 20.0,20.0\n",
    "...\n",
    "# numerics\n",
    "nx,ny   = 100,100\n",
    "```"
   ],
   "metadata": {
    "name": "A slide ",
    "slideshow": {
     "slide_type": "slide"
    }
   }
  },
  {
   "cell_type": "markdown",
   "source": [
    "Then, we calculate the grid spacing, grid cell centers locations, and modify the time step to comply with the 2D stability criteria:\n",
    "\n",
    "```julia\n",
    "# derived numerics\n",
    "dx,dy   = lx/nx,ly/ny\n",
    "xc,yc   = LinRange(dx/2,lx-dx/2,nx),LinRange(dy/2,ly-dy/2,ny)\n",
    "dτ      = dx/sqrt(1/ρ)/sqrt(2)\n",
    "```"
   ],
   "metadata": {
    "name": "A slide ",
    "slideshow": {
     "slide_type": "slide"
    }
   }
  },
  {
   "cell_type": "markdown",
   "source": [
    "We allocate 2D arrays for concentration and fluxes:\n",
    "\n",
    "```julia\n",
    "# array initialisation\n",
    "C       = @. 1.0 + exp(-(xc-lx/4)^2-(yc'-ly/4)^2) - xc/lx\n",
    "qx,qy   = zeros(nx-1,ny),zeros(nx,ny-1)\n",
    "```"
   ],
   "metadata": {
    "name": "A slide ",
    "slideshow": {
     "slide_type": "slide"
    }
   }
  },
  {
   "cell_type": "markdown",
   "source": [
    "and add the physics for the second dimension:\n",
    "\n",
    "```julia\n",
    "while err >= ϵtol && iter <= maxiter\n",
    "    # qx                 .-= ...\n",
    "    # qy                 .-= ...\n",
    "    # C[2:end-1,2:end-1] .-= ...\n",
    "    ...\n",
    "end\n",
    "```"
   ],
   "metadata": {
    "name": "A slide ",
    "slideshow": {
     "slide_type": "slide"
    }
   }
  },
  {
   "cell_type": "markdown",
   "source": [
    "> 💡 note: we have to specify the direction for taking the partial derivatives: `diff(C,dims=1)./dx`, `diff(C,dims=2)./dy`"
   ],
   "metadata": {}
  },
  {
   "cell_type": "markdown",
   "source": [
    "Last thing to fix is the visualisation, as now we want the top-down view of the computational domain:\n",
    "```julia\n",
    "p1 = heatmap(xc,yc,C';xlims=(0,lx),ylims=(0,ly),clims=(0,1),aspect_ratio=1,\n",
    "             xlabel=\"lx\",ylabel=\"ly\",title=\"iter/nx=$(round(iter/nx,sigdigits=3))\")\n",
    "```"
   ],
   "metadata": {
    "name": "A slide ",
    "slideshow": {
     "slide_type": "slide"
    }
   }
  },
  {
   "cell_type": "markdown",
   "source": [
    "Let's run the simulation:"
   ],
   "metadata": {
    "name": "A slide ",
    "slideshow": {
     "slide_type": "slide"
    }
   }
  },
  {
   "cell_type": "markdown",
   "source": [
    "<center>\n",
    "  <video width=\"80%\" autoplay loop controls src=\"./figures/l3_steady_diffusion_reaction_2D.mp4\"/>\n",
    "</center>"
   ],
   "metadata": {}
  },
  {
   "cell_type": "markdown",
   "source": [
    "## Wrapping-up\n",
    "\n",
    "- Switching from parabolic to hyperbolic PDE allows to approach the steady-state in number of iterations, proportional to the number of grid points\n",
    "- Pseudo-transient (PT) method is the matrix-free iterative method to solve elliptic (and other) PDEs by utilising the analogy to transient physics\n",
    "- Using the optimal iteration parameters is essential to ensure the fast convergence of the PT method\n",
    "- Extending the codes to 2D and 3D is straightforward with explicit time integration"
   ],
   "metadata": {
    "name": "A slide ",
    "slideshow": {
     "slide_type": "slide"
    }
   }
  }
 ],
 "nbformat_minor": 3,
 "metadata": {
  "language_info": {
   "file_extension": ".jl",
   "mimetype": "application/julia",
   "name": "julia",
   "version": "1.9.3"
  },
  "kernelspec": {
   "name": "julia-1.9",
   "display_name": "Julia 1.9.3",
   "language": "julia"
  }
 },
 "nbformat": 4
}
