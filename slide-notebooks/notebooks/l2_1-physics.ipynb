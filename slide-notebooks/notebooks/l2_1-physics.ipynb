{
 "cells": [
  {
   "cell_type": "markdown",
   "source": [
    "_Lecture 2_\n",
    "# PDEs and physical processes\n",
    "### diffusion, wave propagation, advection"
   ],
   "metadata": {
    "name": "A slide ",
    "slideshow": {
     "slide_type": "slide"
    }
   }
  },
  {
   "cell_type": "markdown",
   "source": [
    "### The goal of this lecture 2 is to familiarise (or refresh) with\n",
    "- Partial differential equations - PDEs (e.g. diffusion and advection equations)"
   ],
   "metadata": {
    "name": "A slide ",
    "slideshow": {
     "slide_type": "slide"
    }
   }
  },
  {
   "cell_type": "markdown",
   "source": [
    "- Finite-difference discretisation\n",
    "- Explicit solutions\n",
    "- Nonlinear processes\n",
    "- Multi-process (physics) coupling"
   ],
   "metadata": {
    "name": "A slide ",
    "slideshow": {
     "slide_type": "fragment"
    }
   }
  },
  {
   "cell_type": "markdown",
   "source": [
    "A **partial differential equation (PDE)** is an equation which imposes relations between the various partial derivatives of a multivariable function. [_Wikipedia_](https://en.wikipedia.org/wiki/Partial_differential_equation)"
   ],
   "metadata": {
    "name": "A slide ",
    "slideshow": {
     "slide_type": "slide"
    }
   }
  },
  {
   "cell_type": "markdown",
   "source": [
    "> _**Classification of second-order PDEs:**_\n",
    ">  - **Parabolic:**\\\n",
    ">    $∂u/∂t - α ∇^2 u - b = 0$ (e.g. transient heat diffusion)\n",
    ">  - **Hyperbolic:**\\\n",
    ">    $∂^2u/∂t^2 - c^2 ∇^2 u = 0$ (e.g. acoustic wave equation)\n",
    ">  - **Elliptic:**\\\n",
    ">    $∇^2 u - b = 0$ (e.g. steady state diffusion, Laplacian)"
   ],
   "metadata": {
    "name": "A slide ",
    "slideshow": {
     "slide_type": "slide"
    }
   }
  },
  {
   "cell_type": "markdown",
   "source": [
    "## Parabolic PDEs - diffusion"
   ],
   "metadata": {
    "name": "A slide ",
    "slideshow": {
     "slide_type": "slide"
    }
   }
  },
  {
   "cell_type": "markdown",
   "source": [
    "<center>\n",
    "  <video width=\"80%\" autoplay loop controls src=\"./figures/l2_diffusion_1D.mp4\"/>\n",
    "</center>"
   ],
   "metadata": {}
  },
  {
   "cell_type": "markdown",
   "source": [
    "The [diffusion equation](https://en.wikipedia.org/wiki/Diffusion_equation) was introduced by Fourier in 1822 to understand heat distribution ([heat equation](https://en.wikipedia.org/wiki/Heat_equation)) in various materials.\n",
    "\n",
    "Diffusive processes were also employed by Fick in 1855 with application to chemical and particle diffusion ([Fick's law](https://en.wikipedia.org/wiki/Fick%27s_laws_of_diffusion))."
   ],
   "metadata": {
    "name": "A slide ",
    "slideshow": {
     "slide_type": "slide"
    }
   }
  },
  {
   "cell_type": "markdown",
   "source": [
    "The diffusion equation is often reported as a second order parabolic PDE, here for a multivariable function $C(x,t)$ showing derivatives in both temporal $∂t$ and spatial $∂x$ dimensions (here for the 1D case)\n",
    "\n",
    "$$\n",
    "\\frac{∂C}{∂t} = D\\frac{∂^2 C}{∂ x^2}~,\n",
    "$$\n",
    "\n",
    "where $D$ is the diffusion coefficient."
   ],
   "metadata": {
    "name": "A slide ",
    "slideshow": {
     "slide_type": "slide"
    }
   }
  },
  {
   "cell_type": "markdown",
   "source": [
    "A more general description combines a diffusive flux:\n",
    "\n",
    "$$ q = -D\\frac{∂C}{∂x}~,$$"
   ],
   "metadata": {
    "name": "A slide ",
    "slideshow": {
     "slide_type": "slide"
    }
   }
  },
  {
   "cell_type": "markdown",
   "source": [
    "and a conservation or flux balance equation:\n",
    "\n",
    "$$ \\frac{∂C}{∂t} = -\\frac{∂q}{∂x}~. $$"
   ],
   "metadata": {
    "name": "A slide ",
    "slideshow": {
     "slide_type": "fragment"
    }
   }
  },
  {
   "cell_type": "markdown",
   "source": [
    "To discretise the diffusion equation, we will keep the explicit forward [Euler method](https://en.wikipedia.org/wiki/Euler_method) as temporal discretisation and use [finite-differences](https://en.wikipedia.org/wiki/Finite_difference) for the spatial discretisation.\n",
    "\n",
    "Finite-differences discretisation on regular staggered grid allows for concise and performance oriented algorithms, because only neighbouring cell access is needed to evaluate gradient and data alignment is natively pretty optimal."
   ],
   "metadata": {
    "name": "A slide ",
    "slideshow": {
     "slide_type": "slide"
    }
   }
  },
  {
   "cell_type": "markdown",
   "source": [
    "A long story short, we will approximate the gradient of a quantity $C$ (e.g., concentration) over a distance $∂x$, a first derivative $\\frac{∂C}{∂x}$, we will perform following discrete operation\n",
    "\n",
    "$$ \\frac{C_{x+dx} - C_{x}}{dx}~, $$\n",
    "\n",
    "where $dx$ is the discrete size of the cell.\n",
    "\n",
    "The same reasoning also applies to the flux balance equation."
   ],
   "metadata": {
    "name": "A slide ",
    "slideshow": {
     "slide_type": "slide"
    }
   }
  },
  {
   "cell_type": "markdown",
   "source": [
    "We can use Julia's `diff()` operator to apply the $ C_{x+dx} - C_{x} $,\n",
    "```julia\n",
    "C[ix+1] - C[ix]\n",
    "```\n",
    "in a vectorised fashion to our entire `C` vector as\n",
    "```julia\n",
    "diff(C)\n",
    "```"
   ],
   "metadata": {
    "name": "A slide ",
    "slideshow": {
     "slide_type": "slide"
    }
   }
  },
  {
   "cell_type": "markdown",
   "source": [
    "So, we are ready to solve the 1D diffusion equation."
   ],
   "metadata": {
    "name": "A slide ",
    "slideshow": {
     "slide_type": "slide"
    }
   }
  },
  {
   "cell_type": "markdown",
   "source": [
    "We introduce the physical parameters that are relevant for the considered problem, i.e., the domain length `lx` and the diffusion coefficient `dc`:\n",
    "\n",
    "```julia\n",
    "# physics\n",
    "lx   = 20.0\n",
    "dc   = 1.0\n",
    "```"
   ],
   "metadata": {
    "name": "A slide ",
    "slideshow": {
     "slide_type": "fragment"
    }
   }
  },
  {
   "cell_type": "markdown",
   "source": [
    "Then we declare numerical parameters: the number of grid cells used to discretize the computational domain `nx`, and the frequency of updating the visualisation `nvis`:\n",
    "\n",
    "```julia\n",
    "# numerics\n",
    "nx   = 200\n",
    "nvis = 5\n",
    "```"
   ],
   "metadata": {
    "name": "A slide ",
    "slideshow": {
     "slide_type": "slide"
    }
   }
  },
  {
   "cell_type": "markdown",
   "source": [
    "In the `# array initialisation` section, we need to initialise one array to store the concentration field `C`, and the diffusive flux in the x direction `qx`:\n",
    "\n",
    "```julia\n",
    "# array initialisation\n",
    "C    = @. 0.5cos(9π*xc/lx)+0.5; C_i = copy(C)\n",
    "qx   = zeros(Float64, nx) # won't work\n",
    "```"
   ],
   "metadata": {
    "name": "A slide ",
    "slideshow": {
     "slide_type": "slide"
    }
   }
  },
  {
   "cell_type": "markdown",
   "source": [
    "Wait... why it wouldn't work?"
   ],
   "metadata": {
    "name": "A slide ",
    "slideshow": {
     "slide_type": "fragment"
    }
   }
  },
  {
   "cell_type": "markdown",
   "source": [
    "👉 Your turn. Let's implement our first diffusion solver trying to think about how to solve the staggering issue."
   ],
   "metadata": {
    "name": "A slide ",
    "slideshow": {
     "slide_type": "fragment"
    }
   }
  },
  {
   "cell_type": "markdown",
   "source": [
    "The initialisation steps of the diffusion code should contain"
   ],
   "metadata": {
    "name": "A slide ",
    "slideshow": {
     "slide_type": "slide"
    }
   }
  },
  {
   "outputs": [],
   "cell_type": "code",
   "source": [
    "# physics\n",
    "lx   = 20.0\n",
    "dc   = 1.0\n",
    "# numerics\n",
    "nx   = 200\n",
    "nvis = 5\n",
    "# derived numerics\n",
    "dx   = lx/nx\n",
    "dt   = dx^2/dc/2\n",
    "nt   = nx^2 ÷ 100\n",
    "xc   = LinRange(dx/2,lx-dx/2,nx)\n",
    "# array initialisation\n",
    "C    = @. 0.5cos(9π*xc/lx)+0.5; C_i = copy(C)\n",
    "qx   = zeros(Float64, nx) # won't work"
   ],
   "metadata": {},
   "execution_count": null
  },
  {
   "cell_type": "markdown",
   "source": [
    "Followed by the 3 physics computations (lines) in the time loop"
   ],
   "metadata": {
    "name": "A slide ",
    "slideshow": {
     "slide_type": "slide"
    }
   }
  },
  {
   "outputs": [],
   "cell_type": "code",
   "source": [
    "# time loop\n",
    "for it = 1:nt\n",
    "    #qx          .= # add solution\n",
    "    #C[2:end-1] .-= # add solution\n",
    "    # visualisation\n",
    "end"
   ],
   "metadata": {},
   "execution_count": null
  },
  {
   "cell_type": "markdown",
   "source": [
    "One can examine the size of the various vectors ..."
   ],
   "metadata": {
    "name": "A slide ",
    "slideshow": {
     "slide_type": "slide"
    }
   }
  },
  {
   "outputs": [],
   "cell_type": "code",
   "source": [
    "# check sizes and staggering\n",
    "@show size(qx)\n",
    "@show size(C)\n",
    "@show size(C[2:end-1])"
   ],
   "metadata": {},
   "execution_count": null
  },
  {
   "cell_type": "markdown",
   "source": [
    "... and visualise it"
   ],
   "metadata": {
    "name": "A slide ",
    "slideshow": {
     "slide_type": "slide"
    }
   }
  },
  {
   "outputs": [],
   "cell_type": "code",
   "source": [
    "using Plots\n",
    "plot( xc               , C , label=\"Concentration\"        , linewidth=:1.0, markershape=:circle, markersize=5, framestyle=:box)\n",
    "plot!(xc[1:end-1].+dx/2, qx, label=\"flux of concentration\", linewidth=:1.0, markershape=:circle, markersize=5, framestyle=:box)"
   ],
   "metadata": {},
   "execution_count": null
  },
  {
   "cell_type": "markdown",
   "source": [
    "Let's implement the diffusion solver"
   ],
   "metadata": {
    "name": "A slide ",
    "slideshow": {
     "slide_type": "slide"
    }
   }
  },
  {
   "outputs": [],
   "cell_type": "code",
   "source": [
    "using Plots,Plots.Measures,Printf\n",
    "default(size=(1200,400),framestyle=:box,label=false,grid=false,margin=10mm,lw=6,labelfontsize=20,tickfontsize=20,titlefontsize=24)\n",
    "@views function diffusion_1D()\n",
    "    # physics\n",
    "    lx   = 20.0\n",
    "    dc   = 1.0\n",
    "    # numerics\n",
    "    nx   = 200\n",
    "    nvis = 5\n",
    "    # derived numerics\n",
    "    dx   = lx/nx\n",
    "    dt   = dx^2/dc/2\n",
    "    nt   = nx^2 ÷ 100\n",
    "    xc   = LinRange(dx/2,lx-dx/2,nx)\n",
    "    # array initialisation\n",
    "    C    = @. 0.5cos(9π*xc/lx)+0.5; C_i = copy(C)\n",
    "    qx   = zeros(Float64, nx-1)\n",
    "    # time loop\n",
    "    @gif for it = 1:nt\n",
    "        qx          .= .-dc.*diff(C )./dx\n",
    "        C[2:end-1] .-=   dt.*diff(qx)./dx\n",
    "        plot(xc,[C_i,C];xlims=(0,lx), ylims=(-0.1,1.1), xlabel=\"lx\", ylabel=\"Concentration\", title=\"time = $(round(it*dt,digits=1))\")\n",
    "    end every nvis\n",
    "end"
   ],
   "metadata": {},
   "execution_count": null
  },
  {
   "cell_type": "markdown",
   "source": [
    "And execute it"
   ],
   "metadata": {
    "name": "A slide ",
    "slideshow": {
     "slide_type": "slide"
    }
   }
  },
  {
   "outputs": [],
   "cell_type": "code",
   "source": [
    "diffusion_1D()"
   ],
   "metadata": {},
   "execution_count": null
  },
  {
   "cell_type": "markdown",
   "source": [
    "Note: plotting and visualisation is slow. A convenient workaround is to only visualise or render the figure every `nvis` iteration within the time loop\n",
    "\n",
    "```julia\n",
    "@gif for it = 1:nt\n",
    "    # plot(...)\n",
    "end every nvis\n",
    "```"
   ],
   "metadata": {
    "name": "A slide ",
    "slideshow": {
     "slide_type": "slide"
    }
   }
  },
  {
   "cell_type": "markdown",
   "source": [
    "## Hyperbolic PDEs - acoustic wave propagation"
   ],
   "metadata": {
    "name": "A slide ",
    "slideshow": {
     "slide_type": "slide"
    }
   }
  },
  {
   "cell_type": "markdown",
   "source": [
    "### The wave equation\n",
    "\n",
    "... is a second-order partial differential equation."
   ],
   "metadata": {
    "name": "A slide ",
    "slideshow": {
     "slide_type": "fragment"
    }
   }
  },
  {
   "cell_type": "markdown",
   "source": [
    "> The [wave equation](https://en.wikipedia.org/wiki/Wave_equation) is a second-order linear partial differential equation for the description of waves—as they occur in classical physics—such as mechanical waves (e.g. water waves, sound waves and seismic waves) or light waves. [_Wikipedia_](https://en.wikipedia.org/wiki/Wave_equation)"
   ],
   "metadata": {
    "name": "A slide ",
    "slideshow": {
     "slide_type": "fragment"
    }
   }
  },
  {
   "cell_type": "markdown",
   "source": [
    "The hyperbolic equation reads\n",
    "\n",
    "$$ \\frac{∂^2P}{∂t^2} = c^2 ∇^2 P~,$$\n",
    "\n",
    "where\n",
    "- $P$ is pressure (or, displacement, or another scalar quantity...)\n",
    "- $c$ a real constant (speed of sound, stiffness, ...)"
   ],
   "metadata": {
    "name": "A slide ",
    "slideshow": {
     "slide_type": "slide"
    }
   }
  },
  {
   "cell_type": "markdown",
   "source": [
    "The wave equation can be elegantly derived, e.g., from [Hooke's law](https://en.wikipedia.org/wiki/Wave_equation#From_Hooke's_law) and second law of Newton considering masses interconnected with springs.\n",
    "\n",
    "![hook](./figures/l2_hooke.png)\n",
    "\n",
    "$$ F_\\mathrm{Newton}~~=~~F_\\mathrm{Hook}~,$$\n",
    "\n",
    "$$ m⋅a(t)~~=~~k x_+ - k x_-~,$$\n",
    "\n",
    "where $m$ is the mass, $k$ de spring stiffness, and $x_+$, $x_-$ the oscillations of the masses (small distances)."
   ],
   "metadata": {
    "name": "A slide ",
    "slideshow": {
     "slide_type": "slide"
    }
   }
  },
  {
   "cell_type": "markdown",
   "source": [
    "$$ m⋅a(t)~~=~~k x_+ - k x_-~,$$\n",
    "\n",
    "The acceleration $a(t)$ can be substituted by the second derivative of displacement $u$ as function of time $t$, $∂^2u/∂t^2$, while balancing $x_+ - x_-$ and taking the limit leads to $∂^2u/∂x^2$."
   ],
   "metadata": {
    "name": "A slide ",
    "slideshow": {
     "slide_type": "slide"
    }
   }
  },
  {
   "cell_type": "markdown",
   "source": [
    "### Back to the wave equation\n",
    "\n",
    "The objective is to implement the wave equation in 1D (spatial discretisation) using an explicit time integration (forward Euler) as for the diffusion physics."
   ],
   "metadata": {
    "name": "A slide ",
    "slideshow": {
     "slide_type": "slide"
    }
   }
  },
  {
   "cell_type": "markdown",
   "source": [
    "Our first task will be to modify the diffusion equation..."
   ],
   "metadata": {
    "name": "A slide ",
    "slideshow": {
     "slide_type": "fragment"
    }
   }
  },
  {
   "cell_type": "markdown",
   "source": [
    "... in order to obtain and implement the acoustic wave equation:"
   ],
   "metadata": {
    "name": "A slide ",
    "slideshow": {
     "slide_type": "slide"
    }
   }
  },
  {
   "cell_type": "markdown",
   "source": [
    "<center>\n",
    "  <video width=\"80%\" autoplay loop controls src=\"./figures/l2_acoustic_1D.mp4\"/>\n",
    "</center>"
   ],
   "metadata": {}
  },
  {
   "cell_type": "markdown",
   "source": [
    "### From diffusion to acoustic wave propagation\n",
    "\n",
    "We won't implement first the hyperbolic equation as introduced, but rather start from a first order system, similar to the one that we used to implement the diffusion equation."
   ],
   "metadata": {
    "name": "A slide ",
    "slideshow": {
     "slide_type": "slide"
    }
   }
  },
  {
   "cell_type": "markdown",
   "source": [
    "To this end, we can rewrite the second order wave equation\n",
    "\n",
    "$$ \\frac{∂^2 P}{∂t^2} = c^2 ∇^2 P~,$$\n",
    "\n",
    "as two first order equations\n",
    "\n",
    "$$ \\frac{∂V_x}{∂t} = -\\frac{1}{ρ}~\\frac{∂P}{∂x}~,$$\n",
    "\n",
    "$$ \\frac{∂P}{∂t}  = -\\frac{1}{\\beta}~\\frac{∂V_x}{∂x}~.$$"
   ],
   "metadata": {
    "name": "A slide ",
    "slideshow": {
     "slide_type": "slide"
    }
   }
  },
  {
   "cell_type": "markdown",
   "source": [
    "Let's get started.\n",
    "\n",
    "👉 [Download the `l2_diffusion_1D.jl` script](https://github.com/eth-vaw-glaciology/course-101-0250-00/blob/main/scripts/) to get you started"
   ],
   "metadata": {
    "name": "A slide ",
    "slideshow": {
     "slide_type": "fragment"
    }
   }
  },
  {
   "cell_type": "markdown",
   "source": [
    "We can start modifying the diffusion code's, adding `ρ` and `β` in `# physics` section, and taking a Gaussian (centred in `lx/2`) as initial condition for the pressure `Pr`\n",
    "\n",
    "```julia\n",
    "# physics\n",
    "lx   = 20.0\n",
    "ρ,β  = 1.0,1.0\n",
    "\n",
    "# array initialisation\n",
    "#Pr  =  exp.(...)\n",
    "```"
   ],
   "metadata": {
    "name": "A slide ",
    "slideshow": {
     "slide_type": "slide"
    }
   }
  },
  {
   "cell_type": "markdown",
   "source": [
    "> 💡 hint: The time step needs a new definition: `dt = dx/sqrt(1/ρ/β)`"
   ],
   "metadata": {}
  },
  {
   "cell_type": "markdown",
   "source": [
    "Then, the diffusion physics:\n",
    "\n",
    "```julia\n",
    "qx          .= .-dc.*diff(C )./dx\n",
    "C[2:end-1] .-=   dt.*diff(qx)./dx\n",
    "```\n",
    "\n",
    "Should be modified to account for pressure `Pr` instead of concentration `C`, the velocity update (`Vx`) added, and the coefficients modified:\n",
    "\n",
    "```julia\n",
    "Vx          .-= ...\n",
    "Pr[2:end-1] .-= ...\n",
    "```"
   ],
   "metadata": {
    "name": "A slide ",
    "slideshow": {
     "slide_type": "slide"
    }
   }
  },
  {
   "cell_type": "markdown",
   "source": [
    "### Compare the equations\n",
    "\n",
    "Comparing diffusive and wave physics, we can summarise following:"
   ],
   "metadata": {
    "name": "A slide ",
    "slideshow": {
     "slide_type": "slide"
    }
   }
  },
  {
   "cell_type": "markdown",
   "source": [
    "| Diffusion                                                            | Wave propagation                                                                    |\n",
    "|:--------------------------------------------------------------------:|:-----------------------------------------------------------------------------------:|\n",
    "| $$ q = -D\\frac{\\partial C}{\\partial x} $$                            | $$ \\frac{\\partial V_x}{\\partial t} = -\\frac{1}{\\rho}\\frac{\\partial P}{\\partial x} $$  |\n",
    "| $$ \\frac{\\partial C}{\\partial t} = -\\frac{\\partial q}{\\partial x} $$ | $$ \\frac{\\partial P}{\\partial t} = -\\frac{1}{\\beta}\\frac{\\partial V_x}{\\partial x} $$ |"
   ],
   "metadata": {}
  },
  {
   "cell_type": "markdown",
   "source": [
    "## First-order PDEs - advection"
   ],
   "metadata": {
    "name": "A slide ",
    "slideshow": {
     "slide_type": "slide"
    }
   }
  },
  {
   "cell_type": "markdown",
   "source": [
    "<center>\n",
    "  <video width=\"80%\" autoplay loop controls src=\"./figures/l2_advection_1D.mp4\"/>\n",
    "</center>"
   ],
   "metadata": {}
  },
  {
   "cell_type": "markdown",
   "source": [
    "> Advection is a partial differential equation that governs the motion of a conserved scalar field as it is advected by a known velocity vector field. [_Wikipedia_](https://en.wikipedia.org/wiki/Advection)"
   ],
   "metadata": {
    "name": "A slide ",
    "slideshow": {
     "slide_type": "fragment"
    }
   }
  },
  {
   "cell_type": "markdown",
   "source": [
    "We will here briefly discuss advection of a quantity $C$ by a constant velocity $v_x$ in the one-dimensional x-direction.\n",
    "\n",
    "$$ \\frac{∂C}{∂t} = -\\frac{∂(v_x~C)}{∂x} ~.$$"
   ],
   "metadata": {
    "name": "A slide ",
    "slideshow": {
     "slide_type": "slide"
    }
   }
  },
  {
   "cell_type": "markdown",
   "source": [
    "In case the flow is incompressible ($\\nabla\\cdot v = 0$ - here $\\nabla\\cdot v = \\frac{∂v_x}{∂x}$), the advection equation can be rewritten as\n",
    "\n",
    "$$ \\frac{∂C}{∂t} = -v_x \\frac{∂C}{∂x} ~.$$"
   ],
   "metadata": {
    "name": "A slide ",
    "slideshow": {
     "slide_type": "fragment"
    }
   }
  },
  {
   "cell_type": "markdown",
   "source": [
    "Let's implement the advection equation, following the same code structure as for the diffusion and the acoustic wave propagation."
   ],
   "metadata": {
    "name": "A slide ",
    "slideshow": {
     "slide_type": "slide"
    }
   }
  },
  {
   "cell_type": "markdown",
   "source": [
    "\n",
    "```julia\n",
    "# physics\n",
    "lx   = 20.0\n",
    "vx   = 1.0\n",
    "```"
   ],
   "metadata": {
    "name": "A slide ",
    "slideshow": {
     "slide_type": "fragment"
    }
   }
  },
  {
   "cell_type": "markdown",
   "source": [
    "The only change in the `# derived numerics` section is the numerical time step definition to comply with the [CFL condition](https://en.wikipedia.org/wiki/Courant–Friedrichs–Lewy_condition) for explicit time integration.\n",
    "\n",
    "```julia\n",
    "# derived numerics\n",
    "dt   = dx/abs(vx)\n",
    "```"
   ],
   "metadata": {
    "name": "A slide ",
    "slideshow": {
     "slide_type": "fragment"
    }
   }
  },
  {
   "cell_type": "markdown",
   "source": [
    "In the `# array initialisation` section, initialise the quantity `C` as a Gaussian profile of amplitude 1, standard deviation 1, with centre located at $c = 0.4 l_x$.\n",
    "\n",
    "```julia\n",
    "C = exp.( ... )\n",
    "```"
   ],
   "metadata": {
    "name": "A slide ",
    "slideshow": {
     "slide_type": "slide"
    }
   }
  },
  {
   "cell_type": "markdown",
   "source": [
    "> 💡 hint: Gaussian distribution as function of coordinate $x_c$, $ C = \\exp(-(x_c - c)^2) $"
   ],
   "metadata": {
    "name": "A slide ",
    "slideshow": {
     "slide_type": "fragment"
    }
   }
  },
  {
   "cell_type": "markdown",
   "source": [
    "Update `C` as following:\n",
    "\n",
    "```julia\n",
    "C .-= dt.*vx.*diff(C)./dx # doesn't work\n",
    "```"
   ],
   "metadata": {
    "name": "A slide ",
    "slideshow": {
     "slide_type": "slide"
    }
   }
  },
  {
   "cell_type": "markdown",
   "source": [
    "This doesn't work because of the mismatching array sizes."
   ],
   "metadata": {
    "name": "A slide ",
    "slideshow": {
     "slide_type": "fragment"
    }
   }
  },
  {
   "cell_type": "markdown",
   "source": [
    "There are at least three (naive) ways to solve the problem: update `C[1:end-1]`, `C[2:end]`, or one could even update `C[2:end-1]` with the spatial average of the rate of change `dt.*vx.*diff(C)./dx`.\n",
    "\n",
    "👉 Your turn. Try it out yourself and motivate your best choice."
   ],
   "metadata": {
    "name": "A slide ",
    "slideshow": {
     "slide_type": "fragment"
    }
   }
  },
  {
   "cell_type": "markdown",
   "source": [
    "Initialise the simulation"
   ],
   "metadata": {
    "name": "A slide ",
    "slideshow": {
     "slide_type": "slide"
    }
   }
  },
  {
   "outputs": [],
   "cell_type": "code",
   "source": [
    "using Plots,Plots.Measures,Printf\n",
    "default(size=(1200,400),framestyle=:box,label=false,grid=false,margin=10mm,lw=6,labelfontsize=20,tickfontsize=20,titlefontsize=24)\n",
    "# physics\n",
    "lx   = 20.0\n",
    "vx   = 1.0\n",
    "# numerics\n",
    "nx   = 200\n",
    "nvis = 2\n",
    "# derived numerics\n",
    "dx   = lx/nx\n",
    "dt   = dx/abs(vx)\n",
    "nt   = nx\n",
    "xc   = LinRange(dx/2,lx-dx/2,nx)\n",
    "# array initialisation\n",
    "#C    = @. exp(...); C_i = copy(C)"
   ],
   "metadata": {},
   "execution_count": null
  },
  {
   "cell_type": "markdown",
   "source": [
    "Execute the time loop"
   ],
   "metadata": {
    "name": "A slide ",
    "slideshow": {
     "slide_type": "slide"
    }
   }
  },
  {
   "outputs": [],
   "cell_type": "code",
   "source": [
    "# time loop\n",
    "@gif for it = 1:nt\n",
    "    #C .-= ...\n",
    "    (it % (nt÷2) == 0) && (vx = -vx) # change the direction of wave propagation\n",
    "    plot(xc,[C_i,C];xlims=(0,lx), ylims=(-0.1,1.1),\n",
    "                    xlabel=\"lx\", ylabel=\"Concentration\",\n",
    "                    title=\"time = $(round(it*dt,digits=1))\")\n",
    "end every nvis"
   ],
   "metadata": {},
   "execution_count": null
  },
  {
   "cell_type": "markdown",
   "source": [
    "Here we go, an upwind approach is needed to implement a stable advection algorithm\n",
    "\n",
    "```julia\n",
    "C[2:end]   .-= dt.*vx.*diff(C)./dx # if vx>0\n",
    "C[1:end-1] .-= dt.*vx.*diff(C)./dx # if vx<0\n",
    "```"
   ],
   "metadata": {
    "name": "A slide ",
    "slideshow": {
     "slide_type": "slide"
    }
   }
  },
  {
   "cell_type": "markdown",
   "source": [
    "## Nonlinear equations\n",
    "\n",
    "Previously, we considered only linear equations, which means that the functions being differentiated depend only linearly on the unknown variables. A lot of important physical processes are essentially nonlinear, and could be only described by nonlinear PDEs."
   ],
   "metadata": {
    "name": "A slide ",
    "slideshow": {
     "slide_type": "slide"
    }
   }
  },
  {
   "cell_type": "markdown",
   "source": [
    "A model of nonlinear parabolic PDE frequently arising in physics features nonlinearity of a power-law type:\n",
    "\n",
    "$$\n",
    "\\frac{\\partial C}{\\partial t} - D\\frac{\\partial^2 C^n}{\\partial x^2} = 0\n",
    "$$\n",
    "\n",
    "where $n$ is a power-law exponent (here $n=4$)."
   ],
   "metadata": {
    "name": "A slide ",
    "slideshow": {
     "slide_type": "slide"
    }
   }
  },
  {
   "cell_type": "markdown",
   "source": [
    "<center>\n",
    "  <video width=\"80%\" autoplay loop controls src=\"./figures/l2_nonlinear_diffusion_1D.mp4\"/>\n",
    "</center>"
   ],
   "metadata": {}
  },
  {
   "cell_type": "markdown",
   "source": [
    "Such equations describe the deformation of shallow currents of fluids with high viscosity such as ice or lava under their own weight, or evolution of pressure in elastic porous media."
   ],
   "metadata": {
    "name": "A slide ",
    "slideshow": {
     "slide_type": "slide"
    }
   }
  },
  {
   "cell_type": "markdown",
   "source": [
    "A model of nonlinear advection equation is often referred to as _inviscid Burgers' equation_:\n",
    "\n",
    "$$\n",
    "\\frac{\\partial C}{\\partial t} + v_x \\frac{\\partial C^n}{\\partial x} = 0\n",
    "$$\n",
    "\n",
    "where $n$ is often assumed to be equal to 2. This equation describes the formation of shock waves."
   ],
   "metadata": {
    "name": "A slide ",
    "slideshow": {
     "slide_type": "slide"
    }
   }
  },
  {
   "cell_type": "markdown",
   "source": [
    "<center>\n",
    "  <video width=\"80%\" autoplay loop controls src=\"./figures/l2_nonlinear_advection_1D.mp4\"/>\n",
    "</center>"
   ],
   "metadata": {}
  },
  {
   "cell_type": "markdown",
   "source": [
    "## First step towards solving the elliptic problem\n",
    "\n",
    "We have considered numerical solutions to the hyperbolic and parabolic PDEs."
   ],
   "metadata": {
    "name": "A slide ",
    "slideshow": {
     "slide_type": "slide"
    }
   }
  },
  {
   "cell_type": "markdown",
   "source": [
    "In both cases we used the explicit time integration"
   ],
   "metadata": {
    "name": "A slide ",
    "slideshow": {
     "slide_type": "fragment"
    }
   }
  },
  {
   "cell_type": "markdown",
   "source": [
    "The elliptic PDE is different:\n",
    "\n",
    "$$\n",
    "\\frac{\\partial^2 C}{\\partial x^2} = 0\n",
    "$$\n",
    "\n",
    "It doesn't depend on time! How do we solve it numerically then?"
   ],
   "metadata": {
    "name": "A slide ",
    "slideshow": {
     "slide_type": "fragment"
    }
   }
  },
  {
   "cell_type": "markdown",
   "source": [
    "### Solution to the elliptic PDE"
   ],
   "metadata": {
    "name": "A slide ",
    "slideshow": {
     "slide_type": "slide"
    }
   }
  },
  {
   "cell_type": "markdown",
   "source": [
    "... is the steady state limit of the time-dependent diffusion problem described by the parabolic PDE:\n",
    "\n",
    "$$\n",
    "\\frac{\\partial^2 C}{\\partial x^2} - \\frac{\\partial C}{\\partial t} = 0\n",
    "$$\n",
    "\n",
    "when $t\\rightarrow\\infty$, and we know how to solve parabolic PDEs."
   ],
   "metadata": {
    "name": "A slide ",
    "slideshow": {
     "slide_type": "fragment"
    }
   }
  },
  {
   "cell_type": "markdown",
   "source": [
    "Let's try to increase the number of time steps `nt` in our diffusion code to see whether the solution would converge, and decrease the frequency of plotting:\n",
    "\n",
    "```julia\n",
    "nt   = nx^2 ÷ 5\n",
    "nvis = 50\n",
    "```\n",
    "\n",
    "and see the results:"
   ],
   "metadata": {
    "name": "A slide ",
    "slideshow": {
     "slide_type": "slide"
    }
   }
  },
  {
   "cell_type": "markdown",
   "source": [
    "<center>\n",
    "  <video width=\"80%\" autoplay loop controls src=\"./figures/l2_diffusion_1D_steady_state.mp4\"/>\n",
    "</center>"
   ],
   "metadata": {
    "name": "A slide ",
    "slideshow": {
     "slide_type": "fragment"
    }
   }
  },
  {
   "cell_type": "markdown",
   "source": [
    "We approach the steady-state, but the number of time steps required to converge to a solution is proportional to `nx^2`."
   ],
   "metadata": {
    "name": "A slide ",
    "slideshow": {
     "slide_type": "slide"
    }
   }
  },
  {
   "cell_type": "markdown",
   "source": [
    "- For simulations in 1D and low resolutions in 2D the quadratic scaling is acceptable."
   ],
   "metadata": {
    "name": "A slide ",
    "slideshow": {
     "slide_type": "fragment"
    }
   }
  },
  {
   "cell_type": "markdown",
   "source": [
    "- For high-resolution 2D and 3D the `nx^2` factor becomes prohibitively expensive!"
   ],
   "metadata": {
    "name": "A slide ",
    "slideshow": {
     "slide_type": "fragment"
    }
   }
  },
  {
   "cell_type": "markdown",
   "source": [
    "We'll handle this problem in the next lecture, _stay tuned!_ 🚀"
   ],
   "metadata": {
    "name": "A slide ",
    "slideshow": {
     "slide_type": "fragment"
    }
   }
  },
  {
   "cell_type": "markdown",
   "source": [
    "## Wrapping-up\n",
    "\n",
    "- We implemented and solved PDEs for diffusion, wave propagation, and advection processes in 1D"
   ],
   "metadata": {
    "name": "A slide ",
    "slideshow": {
     "slide_type": "slide"
    }
   }
  },
  {
   "cell_type": "markdown",
   "source": [
    "- We used conservative staggered grid finite-differences, explicit forward Euler time stepping and upwind scheme for advection."
   ],
   "metadata": {
    "name": "A slide ",
    "slideshow": {
     "slide_type": "fragment"
    }
   }
  },
  {
   "cell_type": "markdown",
   "source": [
    "Note that this is far from being the only way to tackle numerical solutions to these PDEs. In this course, we will stick to those concepts as they will allow for efficient GPU (parallel) implementations."
   ],
   "metadata": {
    "name": "A slide ",
    "slideshow": {
     "slide_type": "fragment"
    }
   }
  }
 ],
 "nbformat_minor": 3,
 "metadata": {
  "language_info": {
   "file_extension": ".jl",
   "mimetype": "application/julia",
   "name": "julia",
   "version": "1.9.3"
  },
  "kernelspec": {
   "name": "julia-1.9",
   "display_name": "Julia 1.9.3",
   "language": "julia"
  }
 },
 "nbformat": 4
}
