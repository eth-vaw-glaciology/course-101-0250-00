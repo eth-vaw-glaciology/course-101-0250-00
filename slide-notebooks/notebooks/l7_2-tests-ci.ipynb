{
 "cells": [
  {
   "cell_type": "markdown",
   "source": [
    "_Lecture 7_\n",
    "# Continuous Integration (CI) and GitHub Actions\n",
    "\n",
    "Last lecture we learned how to make and run tests for a Julia project.\n",
    "\n",
    "This lecture we will learn how to run those tests on GitHub automatically after you push to it. This will make sure that\n",
    "- tests are always run\n",
    "- you will be alerted by email when a test fails"
   ],
   "metadata": {
    "name": "A slide ",
    "slideshow": {
     "slide_type": "slide"
    }
   }
  },
  {
   "cell_type": "markdown",
   "source": [
    "*You may start to wonder why we're doing all of these tooling shenanigans...*\n",
    "\n",
    "One requirement for the final project will be that it contains tests, which are run via GitHub Actions CI.  Additionally, you'll have to write your project report as \"documentation\" for the package which could be deployed to its website, via GitHub Actions."
   ],
   "metadata": {
    "name": "A slide ",
    "slideshow": {
     "slide_type": "fragment"
    }
   }
  },
  {
   "cell_type": "markdown",
   "source": [
    "**These days it is expected of good numerical software that it is well tested and documented.**"
   ],
   "metadata": {
    "name": "A slide ",
    "slideshow": {
     "slide_type": "fragment"
    }
   }
  },
  {
   "cell_type": "markdown",
   "source": [
    "### GitHub Actions\n",
    "\n",
    "GitHub Actions are a generic way to run computations when you interact with the repository. There is extensive [documentation](https://docs.github.com/en/actions) for it (no need for you to read it).\n",
    "\n",
    "For instance the course's [website](https://pde-on-gpu.vaw.ethz.ch) is generated from the markdown input files upon pushing to the repo:\n",
    "- [https://github.com/eth-vaw-glaciology/course-101-0250-00/tree/main/website](https://github.com/eth-vaw-glaciology/course-101-0250-00/tree/main/website) contains the source\n",
    "- the [https://github.com/eth-vaw-glaciology/course-101-0250-00/blob/main/.github/workflows/Deploy.yml](https://github.com/eth-vaw-glaciology/course-101-0250-00/blob/main/.github/workflows/Deploy.yml) is the GitHub Actions script which tells it to run Franklin.jl to\n",
    "- create the website and deploy it on a specific URL [https://pde-on-gpu.vaw.ethz.ch](https://pde-on-gpu.vaw.ethz.ch)"
   ],
   "metadata": {
    "name": "A slide ",
    "slideshow": {
     "slide_type": "slide"
    }
   }
  },
  {
   "cell_type": "markdown",
   "source": [
    "### GitHub Actions for CI\n",
    "\n",
    "How do we use GitHub Actions for CI?\n",
    "\n",
    "1. create a Julia project and add some tests\n",
    "2. make a suitable GitHub Actions scrip (that `.yml` file)\n",
    "3. pushing to GitHub will now run the tests (maybe you need to activate Actions in `Setting` -> `Actions` -> `Allow all actions`)"
   ],
   "metadata": {
    "name": "A slide ",
    "slideshow": {
     "slide_type": "slide"
    }
   }
  },
  {
   "cell_type": "markdown",
   "source": [
    "> 💡 note: There are other providers of CI, e.g. Travis, Appveyor, etc. Here we'll only look at GitHub actions."
   ],
   "metadata": {}
  },
  {
   "cell_type": "markdown",
   "source": [
    "#### Example from last lecture continued\n",
    "\n",
    "In the last lecture we've setup a [project](https://github.com/eth-vaw-glaciology/course-101-0250-00-L6Testing.jl) to illustrate how unit-testing works.\n",
    "\n",
    "Let's now add CI to this:\n",
    "\n",
    "1. create a Julia project and add some tests **[done in last lecture]**\n",
    "2. make a suitable GitHub Actions scrip (that `.yml` file, typically `.github/workflows/ci.yml`)\n",
    "3. pushing to GitHub will now run the tests (maybe you need to activate Actions in `Setting` -> `Actions` -> `Allow all actions`)\n",
    "\n",
    "For step 2 we follow the documentation on [https://github.com/julia-actions/julia-runtest](https://github.com/julia-actions/julia-runtest)."
   ],
   "metadata": {
    "name": "A slide ",
    "slideshow": {
     "slide_type": "slide"
    }
   }
  },
  {
   "cell_type": "markdown",
   "source": [
    "> 💡 note: [PkgTemplates.jl](https://github.com/invenia/PkgTemplates.jl) is a handy package, which can generate a suitable Github Actions file.."
   ],
   "metadata": {}
  },
  {
   "cell_type": "markdown",
   "source": [
    "#### Example from last lecture continued: YML magic\n",
    "\n",
    "The `.github/workflows/ci.yml` file, adapted from the `README` of [julia-runtest](https://github.com/julia-actions/julia-runtest):\n",
    "```yml\n",
    "name: Run tests\n",
    "\n",
    "on: [push, pull_request]\n",
    "\n",
    "jobs:\n",
    "  test:\n",
    "    runs-on: ${{ matrix.os }}\n",
    "    strategy:\n",
    "      matrix:\n",
    "        julia-version: ['1.9']\n",
    "        julia-arch: [x64]\n",
    "        os: [ubuntu-latest]\n",
    "\n",
    "    steps:\n",
    "      - uses: actions/checkout@v4\n",
    "      - uses: julia-actions/setup-julia@v1\n",
    "        with:\n",
    "          version: ${{ matrix.julia-version }}\n",
    "          arch: ${{ matrix.julia-arch }}\n",
    "      - uses: julia-actions/julia-buildpkg@latest\n",
    "      - uses: julia-actions/julia-runtest@latest\n",
    "```"
   ],
   "metadata": {
    "name": "A slide ",
    "slideshow": {
     "slide_type": "slide"
    }
   }
  },
  {
   "cell_type": "markdown",
   "source": [
    "#### See it running\n",
    "\n",
    "- add, commit and push to GitHub\n",
    "- click on the \"Actions\" tab on the project's website"
   ],
   "metadata": {
    "name": "A slide ",
    "slideshow": {
     "slide_type": "slide"
    }
   }
  },
  {
   "cell_type": "markdown",
   "source": [
    "#### Where is my BADGE!!!\n",
    "\n",
    "The CI will create a badge (a small picture) which reflects the status of the Action. Typically added to the `README.md`:\n",
    "\n",
    "![ci-badge](./figures/l7_ci-badge.png)\n",
    "\n",
    "It can be found under\n",
    "```\n",
    "https://github.com/<USER>/<REPO>/actions/workflows/CI.yml/badge.svg\n",
    "```\n",
    "and should be added to the near the top of `README` like so:\n",
    "```\n",
    "[![CI action](https://github.com/<USER>/<REPO>/actions/workflows/CI.yml/badge.svg)](https://github.com/<USER>/<REPO>/actions/workflows/CI.yml)\n",
    "```\n",
    "(this also sets the link to the Actions which gets open upon clicking on it)\n",
    "\n",
    "👉 _**See code**_ on [https://github.com/eth-vaw-glaciology/course-101-0250-00-L6Testing.jl](https://github.com/eth-vaw-glaciology/course-101-0250-00-L6Testing.jl)"
   ],
   "metadata": {
    "name": "A slide ",
    "slideshow": {
     "slide_type": "slide"
    }
   }
  },
  {
   "cell_type": "markdown",
   "source": [
    "#### Wait a second, we submit our homework as subfolders of our GitHub repo...\n",
    "\n",
    "This makes the `.yml` a bit more complicated:\n",
    "```yml\n",
    "name: Run tests\n",
    "on: [push, pull_request]\n",
    "jobs:\n",
    "  test:\n",
    "    runs-on: ${{ matrix.os }}\n",
    "    strategy:\n",
    "      matrix:\n",
    "        julia-version: ['1.9']\n",
    "        julia-arch: [x64]\n",
    "        os: [ubuntu-latest]\n",
    "\n",
    "    steps:\n",
    "      - uses: actions/checkout@v4\n",
    "      - uses: julia-actions/setup-julia@v1\n",
    "        with:\n",
    "          version: ${{ matrix.julia-version }}\n",
    "          arch: ${{ matrix.julia-arch }}\n",
    "      - uses: julia-actions/cache@v1\n",
    "      - uses: julia-actions/julia-buildpkg@latest\n",
    "      - run: julia --color=yes -e 'cd(\"<subfolder-of-julia-project>\");\n",
    "                                   import Pkg; Pkg.activate(\".\"); Pkg.test()'\n",
    "```\n",
    "Note that you have to _**adjust**_ the bit: `cd(\"<subfolder-of-julia-project>\")`.\n",
    "\n",
    "👉 The _**example**_ is in [course-101-0250-00-L6Testing-subfolder.jl](https://github.com/eth-vaw-glaciology/course-101-0250-00-L6Testing-subfolder.jl).\n",
    "\n",
    "👉 As you go along in the course you'll want to test different subfolders, thus just change the line in the `ci.yml` file."
   ],
   "metadata": {
    "name": "A slide ",
    "slideshow": {
     "slide_type": "slide"
    }
   }
  },
  {
   "cell_type": "markdown",
   "source": [
    "#### A final note\n",
    "\n",
    "GitHub Actions are limited to 2000min per month per user for private repositories."
   ],
   "metadata": {
    "name": "A slide ",
    "slideshow": {
     "slide_type": "slide"
    }
   }
  }
 ],
 "nbformat_minor": 3,
 "metadata": {
  "language_info": {
   "file_extension": ".jl",
   "mimetype": "application/julia",
   "name": "julia",
   "version": "1.9.4"
  },
  "kernelspec": {
   "name": "julia-1.9",
   "display_name": "Julia 1.9.4",
   "language": "julia"
  }
 },
 "nbformat": 4
}
