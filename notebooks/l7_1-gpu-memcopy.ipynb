{
 "cells": [
  {
   "cell_type": "markdown",
   "source": [
    "_Lecture 7_\n",
    "# GPU computing and performance assessment"
   ],
   "metadata": {
    "name": "A slide ",
    "slideshow": {
     "slide_type": "slide"
    }
   }
  },
  {
   "cell_type": "markdown",
   "source": [
    "### The goal of this lecture 7 is to tackle:\n",
    "\n",
    "- GPU architecture and kernel programming\n",
    "- GPU computing and performance assessment\n",
    "- Unit testing and reference tests in Julia"
   ],
   "metadata": {
    "name": "A slide ",
    "slideshow": {
     "slide_type": "slide"
    }
   }
  },
  {
   "cell_type": "markdown",
   "source": [
    "## GPU architecture and kernel programming"
   ],
   "metadata": {
    "name": "A slide ",
    "slideshow": {
     "slide_type": "slide"
    }
   }
  },
  {
   "cell_type": "markdown",
   "source": [
    "We'll get started with a brief overview of the Nvidia GPU architecture and how to program it."
   ],
   "metadata": {
    "name": "A slide ",
    "slideshow": {
     "slide_type": "fragment"
    }
   }
  },
  {
   "cell_type": "markdown",
   "source": [
    "The Nvidia general purpose GPUs we will use in this course can be programmed using the [CUDA language extension](https://docs.nvidia.com/cuda/cuda-c-programming-guide/index.html).\n",
    "\n",
    "CUDA is accessible in Julia via [CUDA.jl](https://cuda.juliagpu.org/stable/), which exposes most of the native CUDA features to the Julia ecosystem.\n",
    "\n",
    "Note, however, that CUDA.jl does not use `nvcc`, the Nvidia compiler, but compiles like other Julia code just ahead of time with [LLVM](https://llvm.org)."
   ],
   "metadata": {
    "name": "A slide ",
    "slideshow": {
     "slide_type": "slide"
    }
   }
  },
  {
   "cell_type": "markdown",
   "source": [
    "First, let's distinguish among CPU, GPU, hardware, application and CUDA.\n",
    "\n",
    "What are _**host**_ and _**device**_?\n",
    "\n",
    "The _**host**_ is the system CPU. The system memory (DRAM) linked to the CPU is the host memory. The GPU is called a _**device**_ and GPU memory is device memory."
   ],
   "metadata": {
    "name": "A slide ",
    "slideshow": {
     "slide_type": "slide"
    }
   }
  },
  {
   "cell_type": "markdown",
   "source": [
    "The GPU hardware is composed of Global (DRAM) memory, L2 cache and many streaming multi-processors (SMs). Each SM contains many compute units (called \"CUDA cores\" by Nvidia), registers, L1 cache (can be repurposed as shared memory depending on the architecture) and read-only memory.\n",
    "\n",
    "> The CUDA programming model provides an abstraction of GPU architecture that acts as a bridge between an application and its possible implementation on GPU hardware. [*[ref]*](https://developer.nvidia.com/blog/cuda-refresher-cuda-programming-model/)"
   ],
   "metadata": {
    "name": "A slide ",
    "slideshow": {
     "slide_type": "fragment"
    }
   }
  },
  {
   "cell_type": "markdown",
   "source": [
    "In the CUDA programming model, `blocks` of `threads` compose the `grid`. In our implementation, we want to map one thread to each finite-difference cell of the 2D Cartesian domain.\n",
    "\n",
    "The figure hereafter depicts the relation between the CUDA domain and the finite-difference domain:"
   ],
   "metadata": {
    "name": "A slide ",
    "slideshow": {
     "slide_type": "slide"
    }
   }
  },
  {
   "cell_type": "markdown",
   "source": [
    "![cuda_grid](./figures/l7_cuda_grid.png)"
   ],
   "metadata": {
    "name": "A slide ",
    "slideshow": {
     "slide_type": "slide"
    }
   }
  },
  {
   "cell_type": "markdown",
   "source": [
    "Indices `ix` and `iy` replace the loop indices providing a \"vectorised\" map of threads - the core to leverage GPU performance. We'll come back to this in a second part of this lecture.\n",
    "\n",
    "In the CUDA programming model, `blocks` (red) of `threads` compose the `grid` (green).\n",
    "\n",
    "In our implementations, we will map one thread (red box) to each cell of the 2D Cartesian domain (blue). Other mappings are possible, of course."
   ],
   "metadata": {
    "name": "A slide ",
    "slideshow": {
     "slide_type": "slide"
    }
   }
  },
  {
   "cell_type": "markdown",
   "source": [
    "*How does it relate to the GPU hardware?*"
   ],
   "metadata": {
    "name": "A slide ",
    "slideshow": {
     "slide_type": "fragment"
    }
   }
  },
  {
   "cell_type": "markdown",
   "source": [
    "All threads of a block are guaranteed to be executed concurrently on an SM (yellow box) and therefore share SM resources such as registers, L1 cache (/shared memory) and read-only memory.\n",
    "\n",
    "We'll see later that the performance of a GPU application is highly sensitive to the optimal choice of the thread, block, grid layout, the so-called kernel launch parameters."
   ],
   "metadata": {
    "name": "A slide ",
    "slideshow": {
     "slide_type": "slide"
    }
   }
  },
  {
   "cell_type": "markdown",
   "source": [
    "Writing a Julia GPU function (aka kernel) copying array `A` to array `B` with the layout from the above figure looks as follow"
   ],
   "metadata": {
    "name": "A slide ",
    "slideshow": {
     "slide_type": "slide"
    }
   }
  },
  {
   "outputs": [],
   "cell_type": "code",
   "source": [
    "using CUDA\n",
    "\n",
    "function copy!(A, B)\n",
    "    ix = (blockIdx().x-1) * blockDim().x + threadIdx().x\n",
    "    iy = (blockIdx().y-1) * blockDim().y + threadIdx().y\n",
    "    A[ix,iy] = B[ix,iy]\n",
    "    return\n",
    "end\n",
    "\n",
    "threads = (4, 3)\n",
    "blocks  = (2, 2)\n",
    "nx, ny  = threads[1]*blocks[1], threads[2]*blocks[2]\n",
    "A       = CUDA.zeros(Float64, nx, ny)\n",
    "B       =  CUDA.rand(Float64, nx, ny)\n",
    "\n",
    "@cuda blocks=blocks threads=threads copy!(A, B)\n",
    "synchronize()"
   ],
   "metadata": {},
   "execution_count": null
  },
  {
   "cell_type": "markdown",
   "source": [
    "_**Playing with GPUs: the rules**_\n",
    "- Current GPUs allow typically a maximum of 1024 threads per block.\n",
    "- The maximum number of blocks allowed is huge; computing the largest possible array on the GPU will make you run out of device memory (currently 16-80 GB) before hitting the maximal number of blocks when selecting sensible kernel launch parameters (usually threads per block >= 128).\n",
    "- Threads, blocks and grid have 3D \"Cartesian\" topology, which is very useful for 1D, 2D and 3D Cartesian finite-difference domains."
   ],
   "metadata": {
    "name": "A slide ",
    "slideshow": {
     "slide_type": "slide"
    }
   }
  },
  {
   "cell_type": "markdown",
   "source": [
    "With this short overview we should have the important concepts in mind to get started with GPU computing 🚀"
   ],
   "metadata": {
    "name": "A slide ",
    "slideshow": {
     "slide_type": "slide"
    }
   }
  },
  {
   "cell_type": "markdown",
   "source": [
    "> 💡 note: A more complete introduction to CUDA (or refresher) can be accessed [here](https://developer.nvidia.com/blog/tag/cuda-refresher/). Julia GPU resources can be accessed at [https://juliagpu.org](https://juliagpu.org)."
   ],
   "metadata": {}
  },
  {
   "cell_type": "markdown",
   "source": [
    "## GPU computing and performance assessment"
   ],
   "metadata": {
    "name": "A slide ",
    "slideshow": {
     "slide_type": "slide"
    }
   }
  },
  {
   "cell_type": "markdown",
   "source": [
    "### The goal of this part is to:\n",
    "1. Learn about:\n",
    "  - How to establish the peak memory throughput of your GPU\n",
    "  - GPU array and kernel programming"
   ],
   "metadata": {
    "name": "A slide ",
    "slideshow": {
     "slide_type": "slide"
    }
   }
  },
  {
   "cell_type": "markdown",
   "source": [
    "2. Consolidate:\n",
    "  - The basics of benchmarking\n",
    "  - How to compute achieved memory throughput\n",
    "\n",
    "\n",
    "[*This content is distributed under MIT licence. Authors: S. Omlin (CSCS), L. Räss (ETHZ).*](https://github.com/eth-vaw-glaciology/course-101-0250-00/blob/main/LICENSE.md)"
   ],
   "metadata": {
    "name": "A slide ",
    "slideshow": {
     "slide_type": "fragment"
    }
   }
  },
  {
   "cell_type": "markdown",
   "source": [
    "In order to get started, we need to connect to a machine which has GPU(s).\n",
    "\n",
    "Let's take some time to get started.\n",
    "\n",
    "👉 Getting started:\n",
    "- Fetch your login infos in the `daint_login.md` file within your personal Polybox folder.\n",
    "- Head to [Software install](/software_install/#gpu_computing_on_piz_daint) for the directions.\n",
    "- Finally, fetch the [`l7_1-gpu-memcopy.ipynb`](https://github.com/eth-vaw-glaciology/course-101-0250-00/blob/main/notebooks/l7_1-gpu-memcopy.ipynb) notebook for this lecture and upload them to your `scratch` on Daint.Alps.\n",
    "  Executing\n",
    "  `wget https://raw.githubusercontent.com/eth-vaw-glaciology/course-101-0250-00/main/notebooks/l7_1-gpu-memcopy.ipynb` on Alps should work."
   ],
   "metadata": {
    "name": "A slide ",
    "slideshow": {
     "slide_type": "slide"
    }
   }
  },
  {
   "cell_type": "markdown",
   "source": [
    "> 💡 note: Values reported in this notebook are for the Nvidia GH200 96GB GPU."
   ],
   "metadata": {
    "name": "A slide ",
    "slideshow": {
     "slide_type": "fragment"
    }
   }
  },
  {
   "cell_type": "markdown",
   "source": [
    "We will use the packages `CUDA` and `BenchmarkTools` to create a little performance laboratory:"
   ],
   "metadata": {
    "name": "A slide ",
    "slideshow": {
     "slide_type": "slide"
    }
   }
  },
  {
   "outputs": [],
   "cell_type": "code",
   "source": [
    "import Pkg; Pkg.add(\"BenchmarkTools\");\n",
    "using CUDA\n",
    "using BenchmarkTools"
   ],
   "metadata": {},
   "execution_count": null
  },
  {
   "cell_type": "markdown",
   "source": [
    "### Scientific applications' performance"
   ],
   "metadata": {
    "name": "A slide ",
    "slideshow": {
     "slide_type": "slide"
    }
   }
  },
  {
   "cell_type": "markdown",
   "source": [
    "The performance of most scientific applications nowadays is bound by memory access speed (*memory-bound*) rather than by the speed computations can be done (*compute-bound*).\n",
    "\n",
    "The reason is that current GPUs (and CPUs) can do many more computations in a given amount of time than they can access numbers from main memory."
   ],
   "metadata": {
    "name": "A slide ",
    "slideshow": {
     "slide_type": "fragment"
    }
   }
  },
  {
   "cell_type": "markdown",
   "source": [
    "This imbalance can be quantified by dividing the computation peak performance [GFLOP/s] by the memory access peak performance [GB/s] and multiplied by the size of a number in Bytes (for simplicity, theoretical peak performance values as specified by the vendors can be used). For example for the Nvidia GH200 GPU, it is:\n",
    "\n",
    "$$ \\frac{34000 ~\\mathrm{[GFlop/s]}}{4000 ~\\mathrm{[GB/s]}}~×~8 = 68 $$\n",
    "\n",
    "(here computed with double precision values taken from [the vendor's product specification sheet](https://resources.nvidia.com/en-us-data-center-overview-mc/en-us-data-center-overview/grace-hopper-superchip-datasheet-partner))."
   ],
   "metadata": {
    "name": "A slide ",
    "slideshow": {
     "slide_type": "slide"
    }
   }
  },
  {
   "cell_type": "markdown",
   "source": [
    "So we can do 68 floating point operations per number read from main memory or written to it.\n",
    "\n",
    "As a consequence, we can consider **floating point operations be \"for free\"** when we work in the memory-bounded regime as in this lecture."
   ],
   "metadata": {
    "name": "A slide ",
    "slideshow": {
     "slide_type": "slide"
    }
   }
  },
  {
   "cell_type": "markdown",
   "source": [
    "Therefore, let us start with investigating the performance of different ways to express and launch GPU memory copies. We will wrap all of these memory copies in functions, to enable the Julia compiler to optimize them best."
   ],
   "metadata": {
    "name": "A slide ",
    "slideshow": {
     "slide_type": "slide"
    }
   }
  },
  {
   "cell_type": "markdown",
   "source": [
    "There exists already the function `copyto!`, which permits to copy data from one pre-allocated array to another; thus, we start with analysing this function's performance."
   ],
   "metadata": {
    "name": "A slide ",
    "slideshow": {
     "slide_type": "fragment"
    }
   }
  },
  {
   "cell_type": "markdown",
   "source": [
    "But first, let us list what GPUs are available and make sure we assign no more than one user per GPU:"
   ],
   "metadata": {
    "name": "A slide ",
    "slideshow": {
     "slide_type": "fragment"
    }
   }
  },
  {
   "outputs": [],
   "cell_type": "code",
   "source": [
    "collect(devices())\n",
    "device!(0) # select a GPU between 0-7"
   ],
   "metadata": {},
   "execution_count": null
  },
  {
   "cell_type": "markdown",
   "source": [
    "To this purpose, we allocate two arrays and benchmark the function using `BenchmarkTools`:"
   ],
   "metadata": {
    "name": "A slide ",
    "slideshow": {
     "slide_type": "slide"
    }
   }
  },
  {
   "outputs": [],
   "cell_type": "code",
   "source": [
    "nx = ny = 32\n",
    "A = CUDA.zeros(Float64, nx, ny);\n",
    "B = CUDA.rand(Float64, nx, ny);\n",
    "@benchmark begin copyto!($A, $B); synchronize() end"
   ],
   "metadata": {},
   "execution_count": null
  },
  {
   "cell_type": "markdown",
   "source": [
    "> 💡 note: Previously defined variables are interpolated with `$` into the benchmarked expression."
   ],
   "metadata": {
    "name": "A slide ",
    "slideshow": {
     "slide_type": "fragment"
    }
   }
  },
  {
   "cell_type": "markdown",
   "source": [
    "> 💡 note: If not specified otherwise, `CUDA.zeros(nx, ny)` allocates `Float32`."
   ],
   "metadata": {
    "name": "A slide ",
    "slideshow": {
     "slide_type": "fragment"
    }
   }
  },
  {
   "cell_type": "markdown",
   "source": [
    "Time samples resulting from benchmarking as just performed follow normally a right skewed distribution.\n",
    "\n",
    "For such distribution, the median is the most robust of the commonly used estimators of the central tendency; the minimum is in general also a good estimator as hardware cannot by accident run faster than with the ideal and it is as a result commonly used for reporting performance (for more information on estimators see [here](https://juliaci.github.io/BenchmarkTools.jl/stable/manual/#Which-estimator-should-I-use?))."
   ],
   "metadata": {
    "name": "A slide ",
    "slideshow": {
     "slide_type": "slide"
    }
   }
  },
  {
   "cell_type": "markdown",
   "source": [
    "Using `@belapsed` instead of `@benchmark`, we directly obtain the minimum of the taken time samples:"
   ],
   "metadata": {
    "name": "A slide ",
    "slideshow": {
     "slide_type": "slide"
    }
   }
  },
  {
   "outputs": [],
   "cell_type": "code",
   "source": [
    "t_it = @belapsed begin copyto!($A, $B); synchronize() end"
   ],
   "metadata": {},
   "execution_count": null
  },
  {
   "cell_type": "markdown",
   "source": [
    "Now, we know that it does not take \"an awful lot of time\". Of course, we do not want to stop here, but figure out how good the achieved performance was."
   ],
   "metadata": {
    "name": "A slide ",
    "slideshow": {
     "slide_type": "fragment"
    }
   }
  },
  {
   "cell_type": "markdown",
   "source": [
    "To this aim, we compute the *total memory throughput*, `T_tot` [GB/s], which is defined as the volume of the copied data [GB] divided by the time spent [s]:"
   ],
   "metadata": {
    "name": "A slide ",
    "slideshow": {
     "slide_type": "slide"
    }
   }
  },
  {
   "outputs": [],
   "cell_type": "code",
   "source": [
    "T_tot = 2*1/1e9*nx*ny*sizeof(Float64)/t_it"
   ],
   "metadata": {},
   "execution_count": null
  },
  {
   "cell_type": "markdown",
   "source": [
    "> 💡 note: The factor `2` comes from the fact that the data is read and written (`2` operations)."
   ],
   "metadata": {
    "name": "A slide ",
    "slideshow": {
     "slide_type": "fragment"
    }
   }
  },
  {
   "cell_type": "markdown",
   "source": [
    "Compare now `T_tot` with the known peak memory throughput, `T_peak`, which is found e.g. in scientific or vendor publications (for the Nvidia GH200 GPUs, it is 4000 GB/s, according to [the datasheet](https://resources.nvidia.com/en-us-data-center-overview-mc/en-us-data-center-overview/grace-hopper-superchip-datasheet-partner)."
   ],
   "metadata": {
    "name": "A slide ",
    "slideshow": {
     "slide_type": "slide"
    }
   }
  },
  {
   "cell_type": "markdown",
   "source": [
    "> 💡 note: Achievable peak memory throughput is usually lower than the *theoretical peak bandwidth* announced by the vendor (for the [Nvidia GH200 GPUs](https://resources.nvidia.com/en-us-data-center-overview-mc/en-us-data-center-overview/grace-hopper-superchip-datasheet-partner), the latter is 4000 GB/s as noted already earlier)."
   ],
   "metadata": {
    "name": "A slide ",
    "slideshow": {
     "slide_type": "fragment"
    }
   }
  },
  {
   "cell_type": "markdown",
   "source": [
    "> 💡 note: Here 1 GB is 1e9 Bytes as in the publication, where the peak memory throughput of the Nvidia GH200 GPU was obtained from."
   ],
   "metadata": {
    "name": "A slide ",
    "slideshow": {
     "slide_type": "slide"
    }
   }
  },
  {
   "cell_type": "markdown",
   "source": [
    "You have surely found `T_tot` to be orders of magnitude below `T_peak`. This is to be expected when copying a small array."
   ],
   "metadata": {
    "name": "A slide ",
    "slideshow": {
     "slide_type": "slide"
    }
   }
  },
  {
   "cell_type": "markdown",
   "source": [
    "Let us determine how `T_tot` behaves with increasing array sizes:"
   ],
   "metadata": {
    "name": "A slide ",
    "slideshow": {
     "slide_type": "slide"
    }
   }
  },
  {
   "outputs": [],
   "cell_type": "code",
   "source": [
    "array_sizes = []\n",
    "throughputs = []\n",
    "for pow = 0:11\n",
    "    nx = ny = 32*2^pow\n",
    "    if (3*nx*ny*sizeof(Float64) > CUDA.available_memory()) break; end\n",
    "    A = CUDA.zeros(Float64, nx, ny);\n",
    "    B = CUDA.rand(Float64, nx, ny);\n",
    "    t_it = @belapsed begin copyto!($A, $B); synchronize() end\n",
    "    T_tot = 2*1/1e9*nx*ny*sizeof(Float64)/t_it\n",
    "    push!(array_sizes, nx)\n",
    "    push!(throughputs, T_tot)\n",
    "    println(\"(nx=ny=$nx) T_tot = $(T_tot)\")\n",
    "    CUDA.unsafe_free!(A)\n",
    "    CUDA.unsafe_free!(B)\n",
    "end"
   ],
   "metadata": {},
   "execution_count": null
  },
  {
   "cell_type": "markdown",
   "source": [
    "You can observe that the best performance is on pair with `T_peak` or a bit lower as `copyto!` is a function that needs to work in all possible cases and it is not specifically optimised for a particular hardware.\n",
    "\n",
    "Furthermore, we note that best performance is obtained for large arrays (in the order of Gigabytes)."
   ],
   "metadata": {
    "name": "A slide ",
    "slideshow": {
     "slide_type": "slide"
    }
   }
  },
  {
   "cell_type": "markdown",
   "source": [
    "We will use the array size for which we obtained the best result for the remainder of the performance experiments:"
   ],
   "metadata": {
    "name": "A slide ",
    "slideshow": {
     "slide_type": "slide"
    }
   }
  },
  {
   "outputs": [],
   "cell_type": "code",
   "source": [
    "T_tot_max, index = findmax(throughputs)\n",
    "nx = ny = array_sizes[index]\n",
    "A = CUDA.zeros(Float64, nx, ny);\n",
    "B = CUDA.rand(Float64, nx, ny);"
   ],
   "metadata": {},
   "execution_count": null
  },
  {
   "cell_type": "markdown",
   "source": [
    "### GPU array programming"
   ],
   "metadata": {
    "name": "A slide ",
    "slideshow": {
     "slide_type": "slide"
    }
   }
  },
  {
   "cell_type": "markdown",
   "source": [
    "Let us now create our own memory copy function using GPU *Array Programming* (AP)."
   ],
   "metadata": {
    "name": "A slide ",
    "slideshow": {
     "slide_type": "fragment"
    }
   }
  },
  {
   "cell_type": "markdown",
   "source": [
    "We can write a memory copy simply as `A .= B`; and wrap it in a function using Julia's concise notation, it looks as follows:"
   ],
   "metadata": {
    "name": "A slide ",
    "slideshow": {
     "slide_type": "slide"
    }
   }
  },
  {
   "outputs": [],
   "cell_type": "code",
   "source": [
    "@inbounds memcopy_AP!(A, B) = (A .= B)"
   ],
   "metadata": {},
   "execution_count": null
  },
  {
   "cell_type": "markdown",
   "source": [
    "> 💡 note: We use `@inbounds` macro to make sure no array bounds checking is performed, which would slow down significantly."
   ],
   "metadata": {
    "name": "A slide ",
    "slideshow": {
     "slide_type": "slide"
    }
   }
  },
  {
   "cell_type": "markdown",
   "source": [
    "> 💡 note: `A = B` would not do a memcopy, but make `A` an alias of `B`, i.e. make `A` point to the same data in memory as `B`."
   ],
   "metadata": {
    "name": "A slide ",
    "slideshow": {
     "slide_type": "fragment"
    }
   }
  },
  {
   "cell_type": "markdown",
   "source": [
    "We also benchmark it and compute `T_tot`:"
   ],
   "metadata": {
    "name": "A slide ",
    "slideshow": {
     "slide_type": "slide"
    }
   }
  },
  {
   "outputs": [],
   "cell_type": "code",
   "source": [
    "t_it = @belapsed begin memcopy_AP!($A, $B); synchronize() end\n",
    "T_tot = 2*1/1e9*nx*ny*sizeof(Float64)/t_it"
   ],
   "metadata": {},
   "execution_count": null
  },
  {
   "cell_type": "markdown",
   "source": [
    "The performance you observe might be a little lower than with the `copyto!` function (measured 3795 GB/s with the Nvidia GH200 GPU)."
   ],
   "metadata": {}
  },
  {
   "cell_type": "markdown",
   "source": [
    "The few experiments that we have done together so far have shown you already that performing memory copy with maximal possible performance (T_peak) is not a completely trivial task."
   ],
   "metadata": {
    "name": "A slide ",
    "slideshow": {
     "slide_type": "fragment"
    }
   }
  },
  {
   "cell_type": "markdown",
   "source": [
    "### GPU kernel programming"
   ],
   "metadata": {
    "name": "A slide ",
    "slideshow": {
     "slide_type": "slide"
    }
   }
  },
  {
   "cell_type": "markdown",
   "source": [
    "We will now use GPU *Kernel Programming* (KP) to try to get closer to `T_peak`."
   ],
   "metadata": {
    "name": "A slide ",
    "slideshow": {
     "slide_type": "fragment"
    }
   }
  },
  {
   "cell_type": "markdown",
   "source": [
    "A memory copy kernel can be written e.g. as follows:"
   ],
   "metadata": {
    "name": "A slide ",
    "slideshow": {
     "slide_type": "slide"
    }
   }
  },
  {
   "outputs": [],
   "cell_type": "code",
   "source": [
    "@inbounds function memcopy_KP!(A, B)\n",
    "    ix = (blockIdx().x-1) * blockDim().x + threadIdx().x\n",
    "    iy = (blockIdx().y-1) * blockDim().y + threadIdx().y\n",
    "    A[ix,iy] = B[ix,iy]\n",
    "    return nothing\n",
    "end"
   ],
   "metadata": {},
   "execution_count": null
  },
  {
   "cell_type": "markdown",
   "source": [
    "Then, in order to copy the (entire) array `B` to `A`, we need to launch the kernel such that the above indices `ix` and `iy` map exactly to each array cell.\n",
    "\n",
    "Therefore, we need to have `blocks[1]*threads[1] == nx` and `blocks[2]*threads[2] == ny`."
   ],
   "metadata": {
    "name": "A slide ",
    "slideshow": {
     "slide_type": "slide"
    }
   }
  },
  {
   "cell_type": "markdown",
   "source": [
    "We will try first with the simplest possible option using only one thread per block:"
   ],
   "metadata": {
    "name": "A slide ",
    "slideshow": {
     "slide_type": "slide"
    }
   }
  },
  {
   "outputs": [],
   "cell_type": "code",
   "source": [
    "threads = (1, 1)\n",
    "blocks  = (nx, ny)\n",
    "t_it = @belapsed begin @cuda blocks=$blocks threads=$threads memcopy_KP!($A, $B); synchronize() end\n",
    "T_tot = 2*1/1e9*nx*ny*sizeof(Float64)/t_it"
   ],
   "metadata": {},
   "execution_count": null
  },
  {
   "cell_type": "markdown",
   "source": [
    "`T_tot` is certainly orders of magnitude below `T_peak` with this kernel launch parameters.\n",
    "\n",
    "We need to take into account that single threads cannot run completely independently, but threads are launched in small groups within a block, called *warps*; a warp consists of 32 threads on current GPUs.\n",
    "\n",
    "Furthermore, warps should access contiguous memory for best performance."
   ],
   "metadata": {
    "name": "A slide ",
    "slideshow": {
     "slide_type": "slide"
    }
   }
  },
  {
   "cell_type": "markdown",
   "source": [
    "We therefore retry using 32 threads (one warp) per block as follows:"
   ],
   "metadata": {
    "name": "A slide ",
    "slideshow": {
     "slide_type": "slide"
    }
   }
  },
  {
   "outputs": [],
   "cell_type": "code",
   "source": [
    "threads = (32, 1)\n",
    "blocks  = (nx÷threads[1], ny)\n",
    "t_it = @belapsed begin @cuda blocks=$blocks threads=$threads memcopy_KP!($A, $B); synchronize() end\n",
    "T_tot = 2*1/1e9*nx*ny*sizeof(Float64)/t_it"
   ],
   "metadata": {},
   "execution_count": null
  },
  {
   "cell_type": "markdown",
   "source": [
    "> 💡 note: For simplicity, the number of threads was set here explicitly to 32; more future proof would be to retrieve the warp size from the corresponding CUDA attribute by doing: `attribute(device(),CUDA.DEVICE_ATTRIBUTE_WARP_SIZE)`."
   ],
   "metadata": {
    "name": "A slide ",
    "slideshow": {
     "slide_type": "fragment"
    }
   }
  },
  {
   "cell_type": "markdown",
   "source": [
    "`T_tot` is now probably in the order of magnitude of `T_peak`, yet depending on the used GPU it can be still significantly below."
   ],
   "metadata": {
    "name": "A slide ",
    "slideshow": {
     "slide_type": "slide"
    }
   }
  },
  {
   "cell_type": "markdown",
   "source": [
    "If `T_tot` is significantly below `T_peak`, then we need to set the numbers of threads per block closer to the maximum the GPU allows."
   ],
   "metadata": {
    "name": "A slide ",
    "slideshow": {
     "slide_type": "fragment"
    }
   }
  },
  {
   "cell_type": "markdown",
   "source": [
    "Let us determine how `T_tot` behaves with an increasing number of threads per blocks:"
   ],
   "metadata": {
    "name": "A slide ",
    "slideshow": {
     "slide_type": "slide"
    }
   }
  },
  {
   "outputs": [],
   "cell_type": "code",
   "source": [
    "max_threads  = attribute(device(),CUDA.DEVICE_ATTRIBUTE_MAX_THREADS_PER_BLOCK)\n",
    "thread_count = []\n",
    "throughputs  = []\n",
    "for pow = Int(log2(32)):Int(log2(max_threads))\n",
    "    threads = (2^pow, 1)\n",
    "    blocks  = (nx÷threads[1], ny)\n",
    "    t_it = @belapsed begin @cuda blocks=$blocks threads=$threads memcopy_KP!($A, $B); synchronize() end\n",
    "    T_tot = 2*1/1e9*nx*ny*sizeof(Float64)/t_it\n",
    "    push!(thread_count, prod(threads))\n",
    "    push!(throughputs, T_tot)\n",
    "    println(\"(threads=$threads) T_tot = $(T_tot)\")\n",
    "end"
   ],
   "metadata": {},
   "execution_count": null
  },
  {
   "cell_type": "markdown",
   "source": [
    "You should observe now that beyond a certain minimum number of threads per block (64 with the Nvidia GH200 GPU), `T_tot` is quite close to `T_peak` (which exact thread/block configuration leads to the best `T_tot` depends on the used GPU architecture)."
   ],
   "metadata": {
    "name": "A slide ",
    "slideshow": {
     "slide_type": "slide"
    }
   }
  },
  {
   "cell_type": "markdown",
   "source": [
    "Instead of increasing the number of threads only in the x dimension, we can also do so in the y dimension."
   ],
   "metadata": {
    "name": "A slide ",
    "slideshow": {
     "slide_type": "fragment"
    }
   }
  },
  {
   "cell_type": "markdown",
   "source": [
    "We keep though 32 threads in the x dimension in order to let the warps access contiguous memory:"
   ],
   "metadata": {
    "name": "A slide ",
    "slideshow": {
     "slide_type": "slide"
    }
   }
  },
  {
   "outputs": [],
   "cell_type": "code",
   "source": [
    "thread_count = []\n",
    "throughputs  = []\n",
    "for pow = 0:Int(log2(max_threads/32))\n",
    "    threads = (32, 2^pow)\n",
    "    blocks  = (nx÷threads[1], ny÷threads[2])\n",
    "    t_it = @belapsed begin @cuda blocks=$blocks threads=$threads memcopy_KP!($A, $B); synchronize() end\n",
    "    T_tot = 2*1/1e9*nx*ny*sizeof(Float64)/t_it\n",
    "    push!(thread_count, prod(threads))\n",
    "    push!(throughputs, T_tot)\n",
    "    println(\"(threads=$threads) T_tot = $(T_tot)\")\n",
    "end"
   ],
   "metadata": {},
   "execution_count": null
  },
  {
   "cell_type": "markdown",
   "source": [
    "`T_tot` is even slightly better in general. Much more important is though that a thread block accesses now not a 1D-line of the arrays, but a 2D block.\n",
    "\n",
    "We will see later that this is of great benefit when, e.g., computing finite difference derivatives in x and y direction."
   ],
   "metadata": {
    "name": "A slide ",
    "slideshow": {
     "slide_type": "slide"
    }
   }
  },
  {
   "cell_type": "markdown",
   "source": [
    "So far, we experimented with memory copy in the strict sense: copy an array from one place to the other. When doing computations, we often read more data than we write.\n",
    "\n",
    "We will therefore also do a few experiments on another commonly benchmarked case: read two arrays and write only one."
   ],
   "metadata": {
    "name": "A slide ",
    "slideshow": {
     "slide_type": "slide"
    }
   }
  },
  {
   "cell_type": "markdown",
   "source": [
    "We modify therefore the previous kernel to take a third array `C` as input and add it to `B` (the rest is identical):"
   ],
   "metadata": {
    "name": "A slide ",
    "slideshow": {
     "slide_type": "slide"
    }
   }
  },
  {
   "outputs": [],
   "cell_type": "code",
   "source": [
    "@inbounds function memcopy2_KP!(A, B, C)\n",
    "    ix = (blockIdx().x-1) * blockDim().x + threadIdx().x\n",
    "    iy = (blockIdx().y-1) * blockDim().y + threadIdx().y\n",
    "    A[ix,iy] = B[ix,iy] + C[ix,iy]\n",
    "    return nothing\n",
    "end"
   ],
   "metadata": {},
   "execution_count": null
  },
  {
   "cell_type": "markdown",
   "source": [
    "Then, we test exactly as for the previous kernel how `T_tot` behaves with an increasing number of threads per blocks in y dimension, keeping it fixed to 32 in x dimension:"
   ],
   "metadata": {
    "name": "A slide ",
    "slideshow": {
     "slide_type": "slide"
    }
   }
  },
  {
   "outputs": [],
   "cell_type": "code",
   "source": [
    "C = CUDA.rand(Float64, nx, ny);\n",
    "thread_count = []\n",
    "throughputs  = []\n",
    "for pow = 0:Int(log2(max_threads/32))\n",
    "    threads = (32, 2^pow)\n",
    "    blocks  = (nx÷threads[1], ny÷threads[2])\n",
    "    t_it = @belapsed begin @cuda blocks=$blocks threads=$threads memcopy2_KP!($A, $B, $C); synchronize() end\n",
    "    T_tot = 3*1/1e9*nx*ny*sizeof(Float64)/t_it\n",
    "    push!(thread_count, prod(threads))\n",
    "    push!(throughputs, T_tot)\n",
    "    println(\"(threads=$threads) T_tot = $(T_tot)\")\n",
    "end"
   ],
   "metadata": {},
   "execution_count": null
  },
  {
   "cell_type": "markdown",
   "source": [
    "> 💡 note: There is now a factor `3` instead of `2` in the computation of `T_tot`: `2` arrays are read and `1` written (`3` operations)."
   ],
   "metadata": {
    "name": "A slide ",
    "slideshow": {
     "slide_type": "slide"
    }
   }
  },
  {
   "cell_type": "markdown",
   "source": [
    "Let's also benchmark a so-called *triad* kernel. To this purpose, we will directly use the best thread/block configuration that we have found in the previous experiment:"
   ],
   "metadata": {
    "name": "A slide ",
    "slideshow": {
     "slide_type": "slide"
    }
   }
  },
  {
   "outputs": [],
   "cell_type": "code",
   "source": [
    "@inbounds function memcopy_triad_KP!(A, B, C, s)\n",
    "    ix = (blockIdx().x-1) * blockDim().x + threadIdx().x\n",
    "    iy = (blockIdx().y-1) * blockDim().y + threadIdx().y\n",
    "    A[ix,iy] = B[ix,iy] + s*C[ix,iy]\n",
    "    return nothing\n",
    "end\n",
    "\n",
    "s = rand()\n",
    "\n",
    "T_tot_max, index = findmax(throughputs)\n",
    "threads = (32, thread_count[index]÷32)\n",
    "blocks  = (nx÷threads[1], ny÷threads[2])\n",
    "t_it = @belapsed begin @cuda blocks=$blocks threads=$threads memcopy_triad_KP!($A, $B, $C, $s); synchronize() end\n",
    "T_tot = 3*1/1e9*nx*ny*sizeof(Float64)/t_it"
   ],
   "metadata": {},
   "execution_count": null
  },
  {
   "cell_type": "markdown",
   "source": [
    "There should be no significant difference between `T_tot` of this triad kernel and of the previous kernel."
   ],
   "metadata": {
    "name": "A slide ",
    "slideshow": {
     "slide_type": "slide"
    }
   }
  },
  {
   "cell_type": "markdown",
   "source": [
    "Finally, let us also check the triad performance we obtain with GPU array programming:"
   ],
   "metadata": {
    "name": "A slide ",
    "slideshow": {
     "slide_type": "slide"
    }
   }
  },
  {
   "outputs": [],
   "cell_type": "code",
   "source": [
    "@inbounds memcopy_triad_AP!(A, B, C, s) = (A .= B.+ s.*C)\n",
    "\n",
    "t_it = @belapsed begin memcopy_triad_AP!($A, $B, $C, $s); synchronize() end\n",
    "T_tot = 3*1/1e9*nx*ny*sizeof(Float64)/t_it"
   ],
   "metadata": {},
   "execution_count": null
  },
  {
   "cell_type": "markdown",
   "source": [
    "> 💡 Note that in this memory copy function we use everywhere dots to fuse vectorized operations and avoid any allocations of temporary arrays (see [here](https://docs.julialang.org/en/v1/manual/performance-tips/#More-dots:-Fuse-vectorized-operations) for more information)."
   ],
   "metadata": {}
  },
  {
   "cell_type": "markdown",
   "source": [
    "`T_tot` is probably a bit lower than in the above experiment, but still rather close to `T_peak`."
   ],
   "metadata": {
    "name": "A slide ",
    "slideshow": {
     "slide_type": "slide"
    }
   }
  },
  {
   "cell_type": "markdown",
   "source": [
    "Congratulations! You have successfully made it through the memory copy kernel optimization experiments and learned about the fundamental parameters determining memory throughput."
   ],
   "metadata": {
    "name": "A slide ",
    "slideshow": {
     "slide_type": "slide"
    }
   }
  },
  {
   "cell_type": "markdown",
   "source": [
    "One moment! For the following exercises you will need the parameters we have established here for best memory access:"
   ],
   "metadata": {
    "name": "A slide ",
    "slideshow": {
     "slide_type": "fragment"
    }
   }
  },
  {
   "outputs": [],
   "cell_type": "code",
   "source": [
    "println(\"nx=ny=$nx; threads=$threads; blocks=$blocks\")"
   ],
   "metadata": {},
   "execution_count": null
  }
 ],
 "nbformat_minor": 3,
 "metadata": {
  "language_info": {
   "file_extension": ".jl",
   "mimetype": "application/julia",
   "name": "julia",
   "version": "1.11.7"
  },
  "kernelspec": {
   "name": "julia-1.11",
   "display_name": "Julia 1.11.7",
   "language": "julia"
  }
 },
 "nbformat": 4
}