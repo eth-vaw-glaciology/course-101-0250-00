{
 "cells": [
  {
   "cell_type": "markdown",
   "source": [
    "## Exercise 2 — **Reaction-Diffusion**"
   ],
   "metadata": {}
  },
  {
   "cell_type": "markdown",
   "source": [
    "The goal of this exercise is to couple physical processes implementing:\n",
    "- 1D reaction-diffusion\n",
    "- Non-dimensional numbers"
   ],
   "metadata": {}
  },
  {
   "cell_type": "markdown",
   "source": [
    "The goal of this exercise is to combine reaction and diffusion processes acting on the concentration of a quantity $C$. The reaction equation is an ODE, as the evolution of the quantity $C$ does not depend on the neighbouring values (or spatial gradients). Consider the following reaction ODE\n",
    "\n",
    "$$ \\frac{∂C}{∂t} = -\\frac{(C-C_\\mathrm{eq})}{ξ}~,$$\n",
    "\n",
    "where $C_\\mathrm{eq}$ is the equilibrium concentration and $ξ$ the reaction rate.\n",
    "\n",
    "From what you learned in class, write an reaction-diffusion code having following physical input parameters:\n",
    "\n",
    "```\n",
    "# Physics\n",
    "lx   = 20.0  # domain length\n",
    "dc   = 0.1   # diffusion coefficient\n",
    "ξ    = 10.0  # reaction rate\n",
    "Ceq  = 0.4   # equilibrium concentration\n",
    "ttot = 20.0  # total simulation time\n",
    "```\n",
    "\n",
    "Discretise your domain in 200 finite-difference cells such that the first cell centre is located at `dx/2` and the last cell centre at `lx-dx/2`. Use following explicit time step limiters:\n",
    "\n",
    "```julia\n",
    "dt   = dx^2/dc/2\n",
    "```\n",
    "\n",
    "As initial condition, define a Gaussian profile of concentration `C` of amplitude and standard deviation equal to 1, located at `lx/4`.\n",
    "\n",
    "Update all entries of the array for the reaction process (ODE) but only inner points for the diffusion process (PDE), thus leading to the fact that boundary points will only be affected by reaction and not diffusion."
   ],
   "metadata": {}
  },
  {
   "cell_type": "markdown",
   "source": [
    "> 💡 hint: Don't forget to initialise (pre-allocate) all arrays (vectors) needed in the calculations."
   ],
   "metadata": {}
  },
  {
   "cell_type": "markdown",
   "source": [
    "### Question 1\n",
    "\n",
    "Report the initial and final distribution of concentration on a figure with axis-label, title, and plotted line labels. Also, report on the figure (as text in one label of your choice) the maximal final concentration value and its $x$ location.\n",
    "\n",
    "### Question 2\n",
    "\n",
    "Repeat the exercise but introduce the non-dimensional [Damköhler number](https://en.wikipedia.org/wiki/Damköhler_numbers) $Da = lx^2/dc/ξ$ as physical quantity defining the diffusion coefficient `dc` as a `# Derived physics` quantity. Confirm the if $Da < 0.1$ most of the mass diffuses away from $C_{eq}$, and the opposite holds for $Da > 1000$."
   ],
   "metadata": {}
  }
 ],
 "nbformat_minor": 3,
 "metadata": {
  "language_info": {
   "file_extension": ".jl",
   "mimetype": "application/julia",
   "name": "julia",
   "version": "1.11.6"
  },
  "kernelspec": {
   "name": "julia-1.11",
   "display_name": "Julia 1.11.6",
   "language": "julia"
  }
 },
 "nbformat": 4
}
