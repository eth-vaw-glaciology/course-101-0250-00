{
 "cells": [
  {
   "cell_type": "markdown",
   "source": [
    "## Exercise 2 — **Car travel in 2 dimensions**"
   ],
   "metadata": {}
  },
  {
   "cell_type": "markdown",
   "source": [
    "The goal of this exercise is to familiarise with:\n",
    "- code structure `# Physics, # Numerics, # Time loop, # Visualisation`\n",
    "- array initialisation\n",
    "- 2 spatial dimensions\n",
    "- solving ODEs"
   ],
   "metadata": {}
  },
  {
   "cell_type": "markdown",
   "source": [
    "Based on the experience you acquired solving the [Exercise 1](#exercise_1_-_car_travel) we can now consider a car moving within a 2-dimensional space. The car still travels at speed $V=113$ km/h, but now in North-East or North-West direction. The West-East and South-North directions being the $x$ and $y$ axis, respectively. The car's displacement in the West-East directions is limited to $L=200$ km. The speed in the North direction remains constant.\n",
    "\n",
    "Starting from the 1D code done in [Exercise 1](#exercise_1_-_car_travel), work towards adding the second spatial dimension. Now, the car's position $(x,y)$ as function of time $t$ has two components."
   ],
   "metadata": {}
  },
  {
   "cell_type": "markdown",
   "source": [
    "> 💡 hint:\n",
    "> - Split velocity magnitude $V$ into $x$ and $y$ component\n",
    "> - Use `sind()` or `cosd()` functions if passing the angle in _deg_ instead of _rad_\n",
    "> - Use two vectors or an array to store the car's coordinates\n",
    "> - Define the y-axis extend in the plot `ylims=(0, ttot*Vy)`"
   ],
   "metadata": {}
  },
  {
   "cell_type": "markdown",
   "source": [
    "### Question 1\n",
    "\n",
    "Visualise graphically the trajectory of the travelling car for a simulation with time step parameter defined as `dt = 0.1`."
   ],
   "metadata": {}
  }
 ],
 "nbformat_minor": 3,
 "metadata": {
  "language_info": {
   "file_extension": ".jl",
   "mimetype": "application/julia",
   "name": "julia",
   "version": "1.11.6"
  },
  "kernelspec": {
   "name": "julia-1.11",
   "display_name": "Julia 1.11.6",
   "language": "julia"
  }
 },
 "nbformat": 4
}
