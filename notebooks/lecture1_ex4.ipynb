{
 "cells": [
  {
   "cell_type": "markdown",
   "source": [
    "## Exercise 4 _(optional)_ — **Orbital around a centre of mass**"
   ],
   "metadata": {}
  },
  {
   "cell_type": "markdown",
   "source": [
    "The goal of this exercise is to consolidate:\n",
    "- code structure `# Physics, # Numerics, # Time loop, # Visualisation`\n",
    "- physics implementation\n",
    "- update rule\n",
    "\n",
    "The goal of this exercise is to reproduce an orbital around a fixed centre of mass, which is also the origin of the coordinate system (e.g. Earth - Sun). To solve this problem, you will have to know about the definition of velocity, Newton's second law and universal gravitation's law:\n",
    "$$\n",
    "\\frac{dr_i}{dt}=v_i \\\\[10pt]\n",
    "\\frac{dv_i}{dt}=\\frac{F_i}{m} \\\\[10pt]\n",
    "F_i = -G\\frac{mM}{|r_i|^2}\\frac{r_i}{|r_i|}~,\n",
    "$$\n",
    "where $r_i$ is the position vector, $v_i$ the velocity vector, $F_i$ the force vector, $G$ is the gravitational constant, $m$ is the mass of the orbiting object, $M$ is the mass of the centre of mass and $|r_i|$ is the norm of the position vector.\n",
    "\n",
    "---\n",
    "\n",
    "The sample code you can use to get started looks like:"
   ],
   "metadata": {}
  },
  {
   "outputs": [],
   "cell_type": "code",
   "source": [
    "using Plots\n",
    "\n",
    "@views function orbital()\n",
    "    # Physics\n",
    "    G    = 1.0\n",
    "    # TODO - add physics input\n",
    "    tt   = 6.0\n",
    "    # Numerics\n",
    "    dt   = 0.05\n",
    "    # Initial conditions\n",
    "    xpos = ??\n",
    "    ypos = ??\n",
    "    # TODO - add further initial conditions\n",
    "    # Time loop\n",
    "    for it = 1:nt\n",
    "        # TODO - Add physics equations\n",
    "        # Visualisation\n",
    "        display(scatter!([xpos], [ypos], title=\"$it\",\n",
    "                         aspect_ratio=1, markersize=5, markercolor=:blue, framestyle=:box,\n",
    "                         legend=:none, xlims=(-1.1, 1.1), ylims=(-1.1, 1.1)))\n",
    "    end\n",
    "    return\n",
    "end\n",
    "\n",
    "orbital()"
   ],
   "metadata": {},
   "execution_count": null
  },
  {
   "cell_type": "markdown",
   "source": [
    "### Question 1\n",
    "\n",
    "For a safe start, set all physical parameters $(G, m, M)$ equal to 1, and use as initial conditions $x_0=0$ and $y_0=1$, and $v_x=1$ and $v_y=0$. You should obtain a circular orbital.\n",
    "\n",
    "Report the last $(x,y)$ position of the Earth for a total time of `tt=6.0` with a time step `dt=0.05`."
   ],
   "metadata": {}
  },
  {
   "cell_type": "markdown",
   "source": [
    "> 💡 hint:\n",
    "> - $r_i=[x,y]$\n",
    "> - $|r_i|=\\sqrt{x^2 + y^2}$\n",
    "> - $r_i/|r_i|$ stands for the unity vector (of length 1) pointing from $m$ towards $M$"
   ],
   "metadata": {}
  },
  {
   "cell_type": "markdown",
   "source": [
    "### Question 2\n",
    "\n",
    "Head to e.g. Wikipedia and look up for approximate of real values and asses whether the Earth indeed needs ~365 days to achieve one rotation around the Sun."
   ],
   "metadata": {}
  }
 ],
 "nbformat_minor": 3,
 "metadata": {
  "language_info": {
   "file_extension": ".jl",
   "mimetype": "application/julia",
   "name": "julia",
   "version": "1.11.6"
  },
  "kernelspec": {
   "name": "julia-1.11",
   "display_name": "Julia 1.11.6",
   "language": "julia"
  }
 },
 "nbformat": 4
}
